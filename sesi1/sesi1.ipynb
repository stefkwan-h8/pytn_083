{
 "cells": [
  {
   "cell_type": "code",
   "execution_count": 1,
   "metadata": {},
   "outputs": [
    {
     "name": "stdout",
     "output_type": "stream",
     "text": [
      "halo\n"
     ]
    }
   ],
   "source": [
    "print(\"halo\")"
   ]
  },
  {
   "cell_type": "markdown",
   "metadata": {},
   "source": [
    "# Sesi 1\n",
    "- instalasi tools untuk tulis code Python\n",
    "- data types di Python\n",
    "    - Integer\n",
    "    - Float\n",
    "    - String\n",
    "    - Boolean\n",
    "    - List\n",
    "    - Tuple\n",
    "    - Dictionary\n",
    "    - Set\n",
    "- Variables - cara buat, cara pakai\n",
    "- Github - buat repository, upload (push) dan pull"
   ]
  },
  {
   "cell_type": "code",
   "execution_count": 2,
   "metadata": {},
   "outputs": [],
   "source": [
    "# tulis komentar dengan pakai tanda #"
   ]
  },
  {
   "cell_type": "code",
   "execution_count": 3,
   "metadata": {},
   "outputs": [
    {
     "data": {
      "text/plain": [
       "int"
      ]
     },
     "execution_count": 3,
     "metadata": {},
     "output_type": "execute_result"
    }
   ],
   "source": [
    "# cek tipe data pakai type()\n",
    "\n",
    "type(564)"
   ]
  },
  {
   "cell_type": "code",
   "execution_count": 4,
   "metadata": {},
   "outputs": [
    {
     "name": "stdout",
     "output_type": "stream",
     "text": [
      "<class 'int'>\n"
     ]
    }
   ],
   "source": [
    "print(type(564))"
   ]
  },
  {
   "cell_type": "code",
   "execution_count": 5,
   "metadata": {},
   "outputs": [
    {
     "name": "stdout",
     "output_type": "stream",
     "text": [
      "1\n"
     ]
    },
    {
     "data": {
      "text/plain": [
       "98797658423465465481368736173456167516741382137586457861487865146848979841978517"
      ]
     },
     "metadata": {},
     "output_type": "display_data"
    }
   ],
   "source": [
    "# Integer\n",
    "123459787\n",
    "\n",
    "-26454\n",
    "\n",
    "print(1)\n",
    "\n",
    "display(98797658423465465481368736173456167516741382137586457861487865146848979841978517)"
   ]
  },
  {
   "cell_type": "code",
   "execution_count": 6,
   "metadata": {},
   "outputs": [
    {
     "name": "stdout",
     "output_type": "stream",
     "text": [
      "<class 'int'>\n"
     ]
    }
   ],
   "source": [
    "print(type(123))"
   ]
  },
  {
   "cell_type": "code",
   "execution_count": 7,
   "metadata": {},
   "outputs": [
    {
     "name": "stdout",
     "output_type": "stream",
     "text": [
      "-53214.32374564686\n",
      "5.5\n"
     ]
    }
   ],
   "source": [
    "# Float\n",
    "10.000000\n",
    "\n",
    "0.0\n",
    "\n",
    "print(-53214.323745646865)\n",
    "\n",
    "print(5.5)"
   ]
  },
  {
   "cell_type": "code",
   "execution_count": 8,
   "metadata": {},
   "outputs": [
    {
     "name": "stdout",
     "output_type": "stream",
     "text": [
      "<class 'float'>\n"
     ]
    }
   ],
   "source": [
    "print(type(987.5))"
   ]
  },
  {
   "cell_type": "code",
   "execution_count": 9,
   "metadata": {},
   "outputs": [
    {
     "name": "stdout",
     "output_type": "stream",
     "text": [
      "10.0\n"
     ]
    }
   ],
   "source": [
    "# convert data type\n",
    "\n",
    "# int ke float\n",
    "print(float(10))"
   ]
  },
  {
   "cell_type": "code",
   "execution_count": 10,
   "metadata": {},
   "outputs": [
    {
     "name": "stdout",
     "output_type": "stream",
     "text": [
      "18\n"
     ]
    }
   ],
   "source": [
    "# float ke int\n",
    "print(int(18.3))"
   ]
  },
  {
   "cell_type": "code",
   "execution_count": 11,
   "metadata": {},
   "outputs": [
    {
     "name": "stdout",
     "output_type": "stream",
     "text": [
      "Hacktiv8 punya kelas Python!\n"
     ]
    }
   ],
   "source": [
    "# string\n",
    "\"\"\n",
    "\n",
    "''\n",
    "\n",
    "\"asdf !@# 8214657\"\n",
    "\n",
    "print('Hacktiv8 punya kelas Python!')"
   ]
  },
  {
   "cell_type": "code",
   "execution_count": 12,
   "metadata": {},
   "outputs": [
    {
     "name": "stdout",
     "output_type": "stream",
     "text": [
      "<class 'str'>\n"
     ]
    }
   ],
   "source": [
    "print(type('Hacktiv8 punya kelas Python!'))"
   ]
  },
  {
   "cell_type": "code",
   "execution_count": 13,
   "metadata": {},
   "outputs": [
    {
     "name": "stdout",
     "output_type": "stream",
     "text": [
      "15.789\n",
      "<class 'str'>\n"
     ]
    }
   ],
   "source": [
    "# float ke string\n",
    "\n",
    "print(str(15.789))\n",
    "print(type(str(15.789)))"
   ]
  },
  {
   "cell_type": "code",
   "execution_count": 14,
   "metadata": {},
   "outputs": [
    {
     "name": "stdout",
     "output_type": "stream",
     "text": [
      "50.75\n",
      "50\n",
      "50\n"
     ]
    }
   ],
   "source": [
    "# string ke float\n",
    "print(float(\"50.75\"))\n",
    "\n",
    "# string ke int\n",
    "print(int(\"50\"))\n",
    "\n",
    "# float ke int\n",
    "print(int(float(\"50.75\")))"
   ]
  },
  {
   "cell_type": "code",
   "execution_count": 15,
   "metadata": {},
   "outputs": [
    {
     "name": "stdout",
     "output_type": "stream",
     "text": [
      "True\n",
      "<class 'bool'>\n"
     ]
    }
   ],
   "source": [
    "# boolean\n",
    "True\n",
    "\n",
    "False\n",
    "\n",
    "# truthy dan falsy\n",
    "\n",
    "print(True)\n",
    "print(type(True))"
   ]
  },
  {
   "cell_type": "code",
   "execution_count": 16,
   "metadata": {},
   "outputs": [
    {
     "name": "stdout",
     "output_type": "stream",
     "text": [
      "True\n",
      "True\n",
      "True\n"
     ]
    }
   ],
   "source": [
    "# int ke bool\n",
    "print(bool(100))\n",
    "\n",
    "# float ke bool\n",
    "print(bool(0.7))\n",
    "\n",
    "# str ke bool\n",
    "print(bool(\"H8\"))"
   ]
  },
  {
   "cell_type": "code",
   "execution_count": 17,
   "metadata": {},
   "outputs": [
    {
     "name": "stdout",
     "output_type": "stream",
     "text": [
      "False\n",
      "False\n",
      "False\n",
      "False\n"
     ]
    }
   ],
   "source": [
    "# Falsy\n",
    "# yang dianggap False\n",
    "# data yang kosong, 0, 0.0, \"\", '', [], {}, ()\n",
    "# kalau tidak kosong, dianggap True kecuali boolean False sendiri\n",
    "\n",
    "print(bool(0))\n",
    "print(bool(0.0))\n",
    "print(bool(\"\"))\n",
    "print(bool(''))"
   ]
  },
  {
   "cell_type": "markdown",
   "metadata": {},
   "source": [
    "# Variable\n",
    "cara untuk menyimpan data secara temporary - di dalam program nya saja (bukan database)\n",
    "\n",
    "mau kasih nama ke data supaya bisa dipanggil lagi\n",
    "\n",
    "rules penulisan nama variable:\n",
    "- tidak dimulai dengan angka\n",
    "- snake_case --> huruf kecil semua, spasi kita gantikan _\n",
    "- jangan menggunakan keyword python (print, type, display, True, False, bool, str, int, float, ...)"
   ]
  },
  {
   "cell_type": "code",
   "execution_count": 18,
   "metadata": {},
   "outputs": [
    {
     "name": "stdout",
     "output_type": "stream",
     "text": [
      "100 99 98 97 96\n"
     ]
    }
   ],
   "source": [
    "nilai_andi = 100\n",
    "\n",
    "nilaiANDI = 99\n",
    "NilaiAndi = 98\n",
    "Nilai_Andi = 97\n",
    "_nilai_andi_ = 96\n",
    "\n",
    "print(nilai_andi, nilaiANDI, NilaiAndi, Nilai_Andi, _nilai_andi_)"
   ]
  },
  {
   "cell_type": "code",
   "execution_count": 19,
   "metadata": {},
   "outputs": [],
   "source": [
    "msg = \"kelas Python Hacktiv8 ada di senin dan rabu\""
   ]
  },
  {
   "cell_type": "code",
   "execution_count": 20,
   "metadata": {},
   "outputs": [
    {
     "name": "stdout",
     "output_type": "stream",
     "text": [
      "kelas Python Hacktiv8 ada di senin dan rabu\n"
     ]
    }
   ],
   "source": [
    "print(msg)"
   ]
  },
  {
   "cell_type": "code",
   "execution_count": 21,
   "metadata": {},
   "outputs": [],
   "source": [
    "# isi variable bisa bebas kita ganti ganti\n",
    "nilai_andi = 70"
   ]
  },
  {
   "cell_type": "code",
   "execution_count": 22,
   "metadata": {},
   "outputs": [
    {
     "name": "stdout",
     "output_type": "stream",
     "text": [
      "70\n"
     ]
    }
   ],
   "source": [
    "print(nilai_andi)"
   ]
  },
  {
   "cell_type": "code",
   "execution_count": 23,
   "metadata": {},
   "outputs": [],
   "source": [
    "nilai_andi = \"C\""
   ]
  },
  {
   "cell_type": "code",
   "execution_count": 24,
   "metadata": {},
   "outputs": [
    {
     "name": "stdout",
     "output_type": "stream",
     "text": [
      "C\n"
     ]
    }
   ],
   "source": [
    "print(nilai_andi)"
   ]
  },
  {
   "cell_type": "markdown",
   "metadata": {},
   "source": [
    "# Manipulasi Data\n",
    "- data numerik bisa kita lakukan aritmatik\n",
    "    - \\+ \\- \\* \\/ \\% \\**\n",
    "- data string\n",
    "    - aritmatik + *\n",
    "    - built-in function, fungsi bawaan dikasih oleh Python\n",
    "        - ubah jadi huruf besar semua\n",
    "        - ubah jadi huruf kecil semua\n",
    "- comparison operator\n",
    "    - \\> \n",
    "    - \\< \n",
    "    - \\>= \n",
    "    - \\<= \n",
    "    - \\== \n",
    "    - \\!="
   ]
  },
  {
   "cell_type": "code",
   "execution_count": 27,
   "metadata": {},
   "outputs": [
    {
     "name": "stdout",
     "output_type": "stream",
     "text": [
      "23\n",
      "-130\n",
      "207\n",
      "0.07142857142857142\n"
     ]
    }
   ],
   "source": [
    "n = 10\n",
    "m = 7\n",
    "\n",
    "print ( n + 20 - m)\n",
    "print ( n - 20 * m)\n",
    "print ( n * 20 + m)\n",
    "print ( n / 20 / m)"
   ]
  },
  {
   "cell_type": "code",
   "execution_count": 28,
   "metadata": {},
   "outputs": [
    {
     "name": "stdout",
     "output_type": "stream",
     "text": [
      "1\n",
      "0\n",
      "2\n"
     ]
    }
   ],
   "source": [
    "# modulo %\n",
    "# pembagian, tapi sisa nya yang disimpan\n",
    "\n",
    "print(5 % 2)\n",
    "print(100 % 20)\n",
    "print(17 % 3)"
   ]
  },
  {
   "cell_type": "code",
   "execution_count": 31,
   "metadata": {},
   "outputs": [
    {
     "name": "stdout",
     "output_type": "stream",
     "text": [
      "8\n",
      "8\n",
      "1419857\n",
      "1419857\n"
     ]
    }
   ],
   "source": [
    "# pangkat, power **\n",
    "\n",
    "print(2**3)\n",
    "print(2*2*2)\n",
    "\n",
    "print(17**5)\n",
    "print(17*17*17*17*17)"
   ]
  },
  {
   "cell_type": "code",
   "execution_count": 32,
   "metadata": {},
   "outputs": [
    {
     "name": "stdout",
     "output_type": "stream",
     "text": [
      "kelas Python Hacktiv8 ada di senin dan rabu\n"
     ]
    }
   ],
   "source": [
    "# string\n",
    "\n",
    "print(msg)"
   ]
  },
  {
   "cell_type": "code",
   "execution_count": 33,
   "metadata": {},
   "outputs": [
    {
     "name": "stdout",
     "output_type": "stream",
     "text": [
      "kelas Python Hacktiv8 ada di senin dan rabu, di jam 19:00-20:00 WIB!\n"
     ]
    }
   ],
   "source": [
    "msg2 = msg + \", di jam 19:00-20:00 WIB!\"\n",
    "\n",
    "print(msg2)"
   ]
  },
  {
   "cell_type": "code",
   "execution_count": 34,
   "metadata": {},
   "outputs": [
    {
     "name": "stdout",
     "output_type": "stream",
     "text": [
      "kelas Python Hacktiv8 ada di senin dan rabu, di jam 19:00-20:00 WIB! ok!\n"
     ]
    }
   ],
   "source": [
    "print(msg2 + \" ok!\")"
   ]
  },
  {
   "cell_type": "code",
   "execution_count": 38,
   "metadata": {},
   "outputs": [
    {
     "name": "stdout",
     "output_type": "stream",
     "text": [
      "kelas Python Hacktiv8 ada di senin dan rabu3\n"
     ]
    }
   ],
   "source": [
    "print(msg + str(3))"
   ]
  },
  {
   "cell_type": "code",
   "execution_count": 36,
   "metadata": {},
   "outputs": [
    {
     "name": "stdout",
     "output_type": "stream",
     "text": [
      "halo halo halo halo halo halo halo halo halo halo \n"
     ]
    }
   ],
   "source": [
    "print(\"halo \" * 10)"
   ]
  },
  {
   "cell_type": "code",
   "execution_count": 39,
   "metadata": {},
   "outputs": [
    {
     "name": "stdout",
     "output_type": "stream",
     "text": [
      "KELAS PYTHON HACKTIV8 ADA DI SENIN DAN RABU\n"
     ]
    }
   ],
   "source": [
    "# built-in function\n",
    "# BESAR SEMUA\n",
    "print(msg.upper())"
   ]
  },
  {
   "cell_type": "code",
   "execution_count": 41,
   "metadata": {},
   "outputs": [
    {
     "name": "stdout",
     "output_type": "stream",
     "text": [
      "kelas Python Hacktiv8 ada di senin dan rabu, di jam 19:00-20:00 WIB!\n",
      "kelas python hacktiv8 ada di senin dan rabu, di jam 19:00-20:00 wib!\n"
     ]
    }
   ],
   "source": [
    "# kecil semua\n",
    "print(msg2)\n",
    "print(msg2.lower())"
   ]
  },
  {
   "cell_type": "code",
   "execution_count": 43,
   "metadata": {},
   "outputs": [
    {
     "name": "stdout",
     "output_type": "stream",
     "text": [
      "Kelas python hacktiv8 ada di senin dan rabu, di jam 19:00-20:00 wib!\n",
      "Kelas Python Hacktiv8 Ada Di Senin Dan Rabu, Di Jam 19:00-20:00 Wib!\n",
      "KELAS pYTHON hACKTIV8 ADA DI SENIN DAN RABU, DI JAM 19:00-20:00 wib!\n"
     ]
    }
   ],
   "source": [
    "print(msg2.capitalize())\n",
    "print(msg2.title())\n",
    "print(msg2.swapcase())"
   ]
  },
  {
   "cell_type": "code",
   "execution_count": 51,
   "metadata": {},
   "outputs": [
    {
     "name": "stdout",
     "output_type": "stream",
     "text": [
      "True\n"
     ]
    }
   ],
   "source": [
    "# in\n",
    "# mengecek apakah ada string dalam string\n",
    "\n",
    "print(\"Hacktiv8\" in msg)"
   ]
  },
  {
   "cell_type": "code",
   "execution_count": 52,
   "metadata": {},
   "outputs": [
    {
     "name": "stdout",
     "output_type": "stream",
     "text": [
      "False\n"
     ]
    }
   ],
   "source": [
    "print(\"Andi\" in \"Budi dapat nilai 100\")"
   ]
  },
  {
   "cell_type": "markdown",
   "metadata": {},
   "source": [
    "# Comparison Operator"
   ]
  },
  {
   "cell_type": "code",
   "execution_count": 48,
   "metadata": {},
   "outputs": [
    {
     "name": "stdout",
     "output_type": "stream",
     "text": [
      "False\n",
      "False\n"
     ]
    }
   ],
   "source": [
    "nilai_andi = 80\n",
    "nilai_budi = 80\n",
    "\n",
    "print(nilai_andi > nilai_budi)\n",
    "print(nilai_andi < nilai_budi)"
   ]
  },
  {
   "cell_type": "code",
   "execution_count": 49,
   "metadata": {},
   "outputs": [
    {
     "name": "stdout",
     "output_type": "stream",
     "text": [
      "True\n",
      "True\n"
     ]
    }
   ],
   "source": [
    "print(nilai_andi >= nilai_budi)\n",
    "print(nilai_andi <= nilai_budi)"
   ]
  },
  {
   "cell_type": "code",
   "execution_count": 50,
   "metadata": {},
   "outputs": [
    {
     "name": "stdout",
     "output_type": "stream",
     "text": [
      "True\n",
      "False\n"
     ]
    }
   ],
   "source": [
    "print(nilai_andi == nilai_budi)\n",
    "print(nilai_andi != nilai_budi)"
   ]
  },
  {
   "cell_type": "markdown",
   "metadata": {},
   "source": [
    "# Structured Data Type\n",
    "tipe data yang punya struktur\n",
    "\n",
    "banyak data bisa disimpan di satu tempat yang sama\n",
    "\n",
    "CRUD: create read update delete\n",
    "- create: bikin\n",
    "- read: baca\n",
    "- update: ubah\n",
    "- delete: hapus\n",
    "\n",
    "## List\n",
    "[]   \n",
    "setiap data dipisah dengan \",\"\n",
    "```python\n",
    "detail_apel = [\"Apel Fuji\", 3500, True]\n",
    "```\n"
   ]
  },
  {
   "cell_type": "code",
   "execution_count": 53,
   "metadata": {},
   "outputs": [
    {
     "name": "stdout",
     "output_type": "stream",
     "text": [
      "['Apel Fuji', 35000, True]\n",
      "<class 'list'>\n"
     ]
    }
   ],
   "source": [
    "detail_apel = [\"Apel Fuji\", 35000, True]\n",
    "\n",
    "print(detail_apel)\n",
    "print(type(detail_apel))"
   ]
  },
  {
   "cell_type": "code",
   "execution_count": 54,
   "metadata": {},
   "outputs": [],
   "source": [
    "# create\n",
    "list_buah = []"
   ]
  },
  {
   "cell_type": "code",
   "execution_count": 55,
   "metadata": {},
   "outputs": [
    {
     "name": "stdout",
     "output_type": "stream",
     "text": [
      "[]\n",
      "<class 'list'>\n"
     ]
    }
   ],
   "source": [
    "print(list_buah)\n",
    "print(type(list_buah))"
   ]
  },
  {
   "cell_type": "code",
   "execution_count": 57,
   "metadata": {},
   "outputs": [
    {
     "name": "stdout",
     "output_type": "stream",
     "text": [
      "0\n",
      "3\n"
     ]
    }
   ],
   "source": [
    "# read\n",
    "# cek list ini isinya ada berapa item? len\n",
    "print(len(list_buah))\n",
    "print(len(detail_apel))"
   ]
  },
  {
   "cell_type": "code",
   "execution_count": 58,
   "metadata": {},
   "outputs": [
    {
     "name": "stdout",
     "output_type": "stream",
     "text": [
      "['Apel', 'Jeruk', 'Mangga', 'Pisang']\n"
     ]
    }
   ],
   "source": [
    "list_buah = [\"Apel\", \"Jeruk\", \"Mangga\", \"Pisang\"]\n",
    "print(list_buah)"
   ]
  },
  {
   "cell_type": "code",
   "execution_count": 59,
   "metadata": {},
   "outputs": [
    {
     "name": "stdout",
     "output_type": "stream",
     "text": [
      "Apel\n"
     ]
    }
   ],
   "source": [
    "# ambil 1 item dari list, item pertama 'Apel'\n",
    "\n",
    "print(list_buah[0])"
   ]
  },
  {
   "cell_type": "markdown",
   "metadata": {},
   "source": [
    "untuk mengambil 1 dari banyak item di dalam sebuah list, kita gunakan teknik \"indexing\" memilih index item tersebut. index dimulai dari 0, jadi item pertama angka nya 0.\n",
    "\n",
    "sebuah_list[0] --> item pertama di dalam sebuah_list\n",
    "\n",
    "sebuah_list[-1] --> item terakhir di dalam sebuah_list"
   ]
  },
  {
   "cell_type": "code",
   "execution_count": 60,
   "metadata": {},
   "outputs": [
    {
     "name": "stdout",
     "output_type": "stream",
     "text": [
      "Jeruk\n"
     ]
    }
   ],
   "source": [
    "# ambil 1 item dari list, item kedua 'Jeruk'\n",
    "print(list_buah[1])"
   ]
  },
  {
   "cell_type": "code",
   "execution_count": 62,
   "metadata": {},
   "outputs": [
    {
     "name": "stdout",
     "output_type": "stream",
     "text": [
      "Pisang\n",
      "Pisang\n"
     ]
    }
   ],
   "source": [
    "# ambil 1 item dari list, item terakhir 'Pisang'\n",
    "print(list_buah[3])\n",
    "print(list_buah[-1])"
   ]
  },
  {
   "cell_type": "code",
   "execution_count": 63,
   "metadata": {},
   "outputs": [
    {
     "name": "stdout",
     "output_type": "stream",
     "text": [
      "['Apel', 'Jeruk']\n"
     ]
    }
   ],
   "source": [
    "# ambil lebih dari 1 item dari list, teknik \"slicing\"\n",
    "\n",
    "# ambil item pertama dan kedua, index 0 dan 1, dari list_buah\n",
    "# untuk slicing kita pakai angka `index : index+1``\n",
    "print(list_buah[0:2])"
   ]
  },
  {
   "cell_type": "code",
   "execution_count": 65,
   "metadata": {},
   "outputs": [
    {
     "name": "stdout",
     "output_type": "stream",
     "text": [
      "['Apel Fuji', 35000, True]\n"
     ]
    }
   ],
   "source": [
    "print(detail_apel)\n",
    "\n",
    "detail_jeruk = [\"Jeruk Sunkist\", 40000, False]\n",
    "detail_pisang = [\"Pisang Raja\", 17500, False]"
   ]
  },
  {
   "cell_type": "code",
   "execution_count": 66,
   "metadata": {},
   "outputs": [
    {
     "name": "stdout",
     "output_type": "stream",
     "text": [
      "[['Apel Fuji', 35000, True], ['Jeruk Sunkist', 40000, False], ['Pisang Raja', 17500, False]]\n"
     ]
    }
   ],
   "source": [
    "list_buah = [detail_apel, detail_jeruk, detail_pisang]\n",
    "print(list_buah)"
   ]
  },
  {
   "cell_type": "code",
   "execution_count": 67,
   "metadata": {},
   "outputs": [
    {
     "name": "stdout",
     "output_type": "stream",
     "text": [
      "['Apel Fuji', 35000, True]\n"
     ]
    }
   ],
   "source": [
    "# ambil apel\n",
    "print(list_buah[0])"
   ]
  },
  {
   "cell_type": "code",
   "execution_count": 68,
   "metadata": {},
   "outputs": [
    {
     "name": "stdout",
     "output_type": "stream",
     "text": [
      "Apel Fuji\n"
     ]
    }
   ],
   "source": [
    "#ambil 'apel fuji' nya\n",
    "print(list_buah[0][0])"
   ]
  },
  {
   "cell_type": "code",
   "execution_count": 69,
   "metadata": {},
   "outputs": [
    {
     "name": "stdout",
     "output_type": "stream",
     "text": [
      "['Apel', 'Jeruk', 'Mangga', 'Pisang']\n"
     ]
    }
   ],
   "source": [
    "# update\n",
    "list_buah = [\"Apel\", \"Jeruk\", \"Mangga\", \"Pisang\"]\n",
    "print(list_buah)"
   ]
  },
  {
   "cell_type": "code",
   "execution_count": 70,
   "metadata": {},
   "outputs": [
    {
     "name": "stdout",
     "output_type": "stream",
     "text": [
      "['Apel', 'Jeruk', 'Mangga', 'Pisang', 'Semangka']\n"
     ]
    }
   ],
   "source": [
    "# tambah item, misalnya tambah 'Semangka'\n",
    "list_buah.append('Semangka')\n",
    "\n",
    "print(list_buah)"
   ]
  },
  {
   "cell_type": "code",
   "execution_count": 71,
   "metadata": {},
   "outputs": [
    {
     "name": "stdout",
     "output_type": "stream",
     "text": [
      "['Apel', 'Jeruk', 'Mangga', 'Pisang', 'Melon']\n"
     ]
    }
   ],
   "source": [
    "# ubah item, misalnya buah terakhir kita ganti 'Melon'\n",
    "list_buah[-1] = 'Melon'\n",
    "print(list_buah)"
   ]
  },
  {
   "cell_type": "code",
   "execution_count": 72,
   "metadata": {},
   "outputs": [
    {
     "name": "stdout",
     "output_type": "stream",
     "text": [
      "['Apel', 'Jeruk', 'Pisang', 'Melon']\n"
     ]
    }
   ],
   "source": [
    "# hapus item, remove, pop\n",
    "list_buah.remove('Mangga')\n",
    "\n",
    "print(list_buah)"
   ]
  },
  {
   "cell_type": "code",
   "execution_count": 73,
   "metadata": {},
   "outputs": [
    {
     "name": "stdout",
     "output_type": "stream",
     "text": [
      "['Apel', 'Jeruk', 'Pisang']\n"
     ]
    }
   ],
   "source": [
    "list_buah.pop()\n",
    "\n",
    "print(list_buah)"
   ]
  },
  {
   "cell_type": "code",
   "execution_count": 74,
   "metadata": {},
   "outputs": [
    {
     "name": "stdout",
     "output_type": "stream",
     "text": [
      "['Apel', 'Jeruk', 'Pisang', 'Kelapa', 'Duku']\n"
     ]
    }
   ],
   "source": [
    "# aritmatik + *\n",
    "\n",
    "print(list_buah + ['Kelapa', 'Duku'])"
   ]
  },
  {
   "cell_type": "code",
   "execution_count": 76,
   "metadata": {},
   "outputs": [
    {
     "name": "stdout",
     "output_type": "stream",
     "text": [
      "['Apel', 'Jeruk', 'Pisang', 'Apel', 'Jeruk', 'Pisang', 'Apel', 'Jeruk', 'Pisang']\n"
     ]
    }
   ],
   "source": [
    "print(list_buah * 3)"
   ]
  },
  {
   "cell_type": "code",
   "execution_count": 75,
   "metadata": {},
   "outputs": [
    {
     "name": "stdout",
     "output_type": "stream",
     "text": [
      "['Apel', 'Jeruk', 'Pisang']\n"
     ]
    }
   ],
   "source": [
    "print(list_buah)"
   ]
  },
  {
   "cell_type": "code",
   "execution_count": 77,
   "metadata": {},
   "outputs": [
    {
     "name": "stdout",
     "output_type": "stream",
     "text": [
      "True\n"
     ]
    }
   ],
   "source": [
    "# in\n",
    "print('Apel' in list_buah)"
   ]
  },
  {
   "cell_type": "code",
   "execution_count": 78,
   "metadata": {},
   "outputs": [
    {
     "name": "stdout",
     "output_type": "stream",
     "text": [
      "False\n"
     ]
    }
   ],
   "source": [
    "print('Semangka' in list_buah)"
   ]
  },
  {
   "cell_type": "code",
   "execution_count": 81,
   "metadata": {},
   "outputs": [],
   "source": [
    "# delete\n",
    "\n",
    "# cara kasar hapus data, kita pakai keyword del\n",
    "# del list_buah\n",
    "\n",
    "# lebih umum kita kosongin aja isi variable nya\n",
    "list_buah = []\n",
    "\n",
    "list_buah = None"
   ]
  },
  {
   "cell_type": "code",
   "execution_count": 82,
   "metadata": {},
   "outputs": [
    {
     "name": "stdout",
     "output_type": "stream",
     "text": [
      "None\n"
     ]
    }
   ],
   "source": [
    "print(list_buah)"
   ]
  },
  {
   "cell_type": "code",
   "execution_count": 83,
   "metadata": {},
   "outputs": [
    {
     "name": "stdout",
     "output_type": "stream",
     "text": [
      "False\n"
     ]
    }
   ],
   "source": [
    "print(bool(list_buah))"
   ]
  },
  {
   "cell_type": "markdown",
   "metadata": {},
   "source": [
    "# Tuple\n",
    "- seperti list tapi isinya tidak bisa diubah"
   ]
  },
  {
   "cell_type": "code",
   "execution_count": 98,
   "metadata": {},
   "outputs": [
    {
     "name": "stdout",
     "output_type": "stream",
     "text": [
      "[90, 60, 79]\n"
     ]
    }
   ],
   "source": [
    "# nilai dalam sebuah list bisa diubah dengan bebas\n",
    "\n",
    "list_nilai = [50, 60, 79]\n",
    "\n",
    "list_nilai[0] = 90\n",
    "\n",
    "print(list_nilai)"
   ]
  },
  {
   "cell_type": "code",
   "execution_count": 103,
   "metadata": {},
   "outputs": [],
   "source": [
    "# kita gunakan tuple untuk data yang tidak mau diubah\n",
    "\n",
    "tuple_nilai = (50,60,79)\n",
    "\n",
    "# tuple_nilai[0] = 90\n",
    "# tuple juga tidak punya append, remove, atau pop"
   ]
  },
  {
   "cell_type": "code",
   "execution_count": 102,
   "metadata": {},
   "outputs": [
    {
     "name": "stdout",
     "output_type": "stream",
     "text": [
      "(90, 60, 79) <class 'tuple'>\n",
      "[90, 60, 79] <class 'list'>\n"
     ]
    }
   ],
   "source": [
    "# convert tuple ke list, list ke tuple\n",
    "tuple_nilai = tuple(list_nilai)\n",
    "print(tuple_nilai, type(tuple_nilai))\n",
    "\n",
    "list_nilai = list(tuple_nilai)\n",
    "print(list_nilai, type(list_nilai))"
   ]
  },
  {
   "cell_type": "markdown",
   "metadata": {},
   "source": [
    "# Dictionary\n",
    "- terstruktur\n",
    "- banyak item di dalam\n",
    "- tidak punya index, punya nya \"key\"\n",
    "- setiap item di dalam dictionary berpasangan \"key\": value\n",
    "    - tipe data key selalu string\n",
    "    - tipe data value bebas, bisa str, int, list, dictionary, bool, dll\n",
    "\n",
    "seperti mendeskripsikan sebuah objek ke komputer. \n",
    "\n",
    "```python\n",
    "hp = {\n",
    "    \"ram\": 4, \n",
    "    \"rom\": 128, \n",
    "    \"merk\": \"samsung\", \n",
    "    \"tipe\": \"J5\", \n",
    "    \"harga\": 2000000, \n",
    "    \"garansi\":True\n",
    "    }\n",
    "```"
   ]
  },
  {
   "cell_type": "code",
   "execution_count": 84,
   "metadata": {},
   "outputs": [],
   "source": [
    "# create\n",
    "hp = {\n",
    "    \"ram\": 4, \n",
    "    \"rom\": 128, \n",
    "    \"merk\": \"samsung\", \n",
    "    \"tipe\": \"J5\", \n",
    "    \"harga\": 2000000, \n",
    "    \"garansi\":True\n",
    "    }"
   ]
  },
  {
   "cell_type": "code",
   "execution_count": 85,
   "metadata": {},
   "outputs": [
    {
     "name": "stdout",
     "output_type": "stream",
     "text": [
      "{'ram': 4, 'rom': 128, 'merk': 'samsung', 'tipe': 'J5', 'harga': 2000000, 'garansi': True}\n"
     ]
    }
   ],
   "source": [
    "print(hp)"
   ]
  },
  {
   "cell_type": "code",
   "execution_count": 86,
   "metadata": {},
   "outputs": [
    {
     "name": "stdout",
     "output_type": "stream",
     "text": [
      "samsung\n"
     ]
    }
   ],
   "source": [
    "# read\n",
    "# tidak pakai angka index, pakai key nya\n",
    "print(hp[\"merk\"])"
   ]
  },
  {
   "cell_type": "code",
   "execution_count": 87,
   "metadata": {},
   "outputs": [
    {
     "name": "stdout",
     "output_type": "stream",
     "text": [
      "2000000\n"
     ]
    }
   ],
   "source": [
    "print(hp[\"harga\"])"
   ]
  },
  {
   "cell_type": "code",
   "execution_count": 89,
   "metadata": {},
   "outputs": [
    {
     "name": "stdout",
     "output_type": "stream",
     "text": [
      "dict_keys(['ram', 'rom', 'merk', 'tipe', 'harga', 'garansi'])\n",
      "['ram', 'rom', 'merk', 'tipe', 'harga', 'garansi']\n"
     ]
    }
   ],
   "source": [
    "# isi dictionary ini ada key nya apa saja?\n",
    "print(hp.keys())\n",
    "\n",
    "print(list(hp.keys()))"
   ]
  },
  {
   "cell_type": "code",
   "execution_count": 90,
   "metadata": {},
   "outputs": [
    {
     "name": "stdout",
     "output_type": "stream",
     "text": [
      "dict_values([4, 128, 'samsung', 'J5', 2000000, True])\n",
      "[4, 128, 'samsung', 'J5', 2000000, True]\n"
     ]
    }
   ],
   "source": [
    "# isi dictionary ini ada values nya apa saja?\n",
    "print(hp.values())\n",
    "\n",
    "print(list(hp.values()))"
   ]
  },
  {
   "cell_type": "code",
   "execution_count": 91,
   "metadata": {},
   "outputs": [
    {
     "name": "stdout",
     "output_type": "stream",
     "text": [
      "{'ram': 4, 'rom': 128, 'merk': 'samsung', 'tipe': 'J5', 'harga': 2000000, 'garansi': True, 'pemilik': {'nama': 'Andi', 'ktp': 1234567890}}\n"
     ]
    }
   ],
   "source": [
    "# update\n",
    "\n",
    "# nambah key:value\n",
    "hp[\"pemilik\"] = {\"nama\":\"Andi\", \"ktp\": 1234567890}\n",
    "\n",
    "print(hp)"
   ]
  },
  {
   "cell_type": "code",
   "execution_count": 92,
   "metadata": {},
   "outputs": [
    {
     "name": "stdout",
     "output_type": "stream",
     "text": [
      "{'ram': 4, 'rom': 128, 'merk': 'samsung', 'tipe': 'J5', 'harga': 2000000, 'garansi': True, 'pemilik': {'nama': 'Andi', 'ktp': 1234567890}, 'toko': 'Samsung Store ITC Roxy Mas'}\n"
     ]
    }
   ],
   "source": [
    "# nambah key:value\n",
    "hp[\"toko\"] = \"Samsung Store ITC Roxy Mas\"\n",
    "\n",
    "print(hp)"
   ]
  },
  {
   "cell_type": "code",
   "execution_count": 93,
   "metadata": {},
   "outputs": [
    {
     "name": "stdout",
     "output_type": "stream",
     "text": [
      "{'ram': 4, 'rom': 128, 'merk': 'samsung', 'tipe': 'J5', 'harga': 2000000, 'garansi': True, 'pemilik': {'nama': 'Andi', 'ktp': 1234567890}, 'toko': 'iBox SMS'}\n"
     ]
    }
   ],
   "source": [
    "# ubah value\n",
    "# ganti nama tokonya jadi iBox SMS\n",
    "hp[\"toko\"] = \"iBox SMS\"\n",
    "\n",
    "print(hp)"
   ]
  },
  {
   "cell_type": "code",
   "execution_count": 94,
   "metadata": {},
   "outputs": [
    {
     "name": "stdout",
     "output_type": "stream",
     "text": [
      "{'ram': 4, 'rom': 128, 'merk': 'samsung', 'tipe': 'J5', 'harga': 2000000, 'garansi': True, 'pemilik': {'nama': 'Andi', 'ktp': 1234567890}}\n"
     ]
    }
   ],
   "source": [
    "# delete\n",
    "# delete satu key\n",
    "\n",
    "del hp[\"toko\"]\n",
    "\n",
    "print(hp)"
   ]
  },
  {
   "cell_type": "code",
   "execution_count": 95,
   "metadata": {},
   "outputs": [
    {
     "name": "stdout",
     "output_type": "stream",
     "text": [
      "{'ram': 4, 'rom': 128, 'merk': 'samsung', 'tipe': 'J5', 'harga': 2000000, 'garansi': True}\n"
     ]
    }
   ],
   "source": [
    "del hp[\"pemilik\"]\n",
    "\n",
    "print(hp)"
   ]
  },
  {
   "cell_type": "code",
   "execution_count": 96,
   "metadata": {},
   "outputs": [
    {
     "name": "stdout",
     "output_type": "stream",
     "text": [
      "{'ram': None, 'rom': 128, 'merk': 'samsung', 'tipe': 'J5', 'harga': 2000000, 'garansi': True}\n"
     ]
    }
   ],
   "source": [
    "# ram nya kita hapus\n",
    "hp[\"ram\"] = None\n",
    "\n",
    "print(hp)"
   ]
  },
  {
   "cell_type": "code",
   "execution_count": 97,
   "metadata": {},
   "outputs": [
    {
     "name": "stdout",
     "output_type": "stream",
     "text": [
      "{}\n"
     ]
    }
   ],
   "source": [
    "hp = {}\n",
    "\n",
    "print(hp)"
   ]
  },
  {
   "cell_type": "code",
   "execution_count": null,
   "metadata": {},
   "outputs": [],
   "source": []
  }
 ],
 "metadata": {
  "kernelspec": {
   "display_name": "Python 3.9.7 ('base')",
   "language": "python",
   "name": "python3"
  },
  "language_info": {
   "codemirror_mode": {
    "name": "ipython",
    "version": 3
   },
   "file_extension": ".py",
   "mimetype": "text/x-python",
   "name": "python",
   "nbconvert_exporter": "python",
   "pygments_lexer": "ipython3",
   "version": "3.9.7"
  },
  "orig_nbformat": 4,
  "vscode": {
   "interpreter": {
    "hash": "4f523f7c76dd18e7ed336217f32f6f704c23c323644912475b9d3570cf04b060"
   }
  }
 },
 "nbformat": 4,
 "nbformat_minor": 2
}
