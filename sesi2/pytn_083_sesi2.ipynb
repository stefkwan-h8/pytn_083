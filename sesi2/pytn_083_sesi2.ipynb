{
  "nbformat": 4,
  "nbformat_minor": 0,
  "metadata": {
    "colab": {
      "name": "pytn_083_sesi2.ipynb",
      "provenance": []
    },
    "kernelspec": {
      "name": "python3",
      "display_name": "Python 3"
    },
    "language_info": {
      "name": "python"
    }
  },
  "cells": [
    {
      "cell_type": "code",
      "execution_count": null,
      "metadata": {
        "id": "JAoNEkNTzQBi"
      },
      "outputs": [],
      "source": []
    },
    {
      "cell_type": "markdown",
      "source": [
        "# Percabangan dan Perulangan\n",
        "## Percabangan\n",
        "kita bertanya kepada computer apakah sesuatu itu True atau False. kalau True, jalankan code A, kalau False, jalanakan code B.\n",
        "\n",
        "```python\n",
        "if (kondisi):\n",
        "  # code ini jalan hanya jika kondisi True\n",
        "  print(\"ok, kondisi True\")\n",
        "else:\n",
        "  # code disini jalan hanya jika kondisi False\n",
        "  print(\"wah False kondisinya\")\n",
        "```\n",
        "\n",
        "kondisi bisa kita isi macam macam termasuk:\n",
        "- komparator a < b? a > b? \n",
        "- apakah datanya ada isinya, kalau data kosong seperti 0, 0.0, [], semua dianggap False\n",
        "- semua value Boolean\n",
        "\n",
        "kondisi bisa ada bbrp juga, dan kita sambungkan dengan operator \"and\" dan \"or\"\n",
        "1. kondisi A dan kondisi B harus benar, dua2nya harus True, baru kita anggap kondisi True --> \"and\"\n",
        "2. salah satu saja kondisi A atau kondisi B benar, kita anggap kondisi True --> \"or\""
      ],
      "metadata": {
        "id": "rlq37LBYzXeB"
      }
    },
    {
      "cell_type": "code",
      "source": [
        "a = 10\n",
        "b = 15\n",
        "\n",
        "if (a > b):\n",
        "  print(\"a lebih besar dari b\")"
      ],
      "metadata": {
        "id": "9UaZfYdfzx3v"
      },
      "execution_count": 1,
      "outputs": []
    },
    {
      "cell_type": "code",
      "source": [
        "print(a > b)"
      ],
      "metadata": {
        "colab": {
          "base_uri": "https://localhost:8080/"
        },
        "id": "skReNtVm0s8r",
        "outputId": "8bf0ab57-9d3f-4614-ff8d-9d319a33b529"
      },
      "execution_count": 2,
      "outputs": [
        {
          "output_type": "stream",
          "name": "stdout",
          "text": [
            "False\n"
          ]
        }
      ]
    },
    {
      "cell_type": "markdown",
      "source": [
        "karena a>b adalah False, maka blok kode yang ada di bawah if nya tidak dijalankan"
      ],
      "metadata": {
        "id": "Hrl580BY03Nd"
      }
    },
    {
      "cell_type": "code",
      "source": [
        "a = 10\n",
        "b = 15\n",
        "\n",
        "if (a < b):\n",
        "  print(\"a lebih kecil dari b\")"
      ],
      "metadata": {
        "colab": {
          "base_uri": "https://localhost:8080/"
        },
        "id": "iTmdWkLU01zj",
        "outputId": "a05a5ab3-e9e7-4922-84ba-200fb49a91f9"
      },
      "execution_count": 3,
      "outputs": [
        {
          "output_type": "stream",
          "name": "stdout",
          "text": [
            "a lebih kecil dari b\n"
          ]
        }
      ]
    },
    {
      "cell_type": "code",
      "source": [
        "print(a < b)"
      ],
      "metadata": {
        "colab": {
          "base_uri": "https://localhost:8080/"
        },
        "id": "QzR3qzrp09nz",
        "outputId": "ce04d1a2-3deb-499f-9dd9-ab013d0b712c"
      },
      "execution_count": 4,
      "outputs": [
        {
          "output_type": "stream",
          "name": "stdout",
          "text": [
            "True\n"
          ]
        }
      ]
    },
    {
      "cell_type": "markdown",
      "source": [
        "karena a<b adalah True, maka blok kode yang ada di bawah if nya dijalankan"
      ],
      "metadata": {
        "id": "v-fzvdVO1BGk"
      }
    },
    {
      "cell_type": "markdown",
      "source": [
        "### else\n",
        "selain if, ada else"
      ],
      "metadata": {
        "id": "e9EDFWQI1Pv7"
      }
    },
    {
      "cell_type": "code",
      "source": [
        "a = 10\n",
        "b = 15\n",
        "\n",
        "if (a > b):\n",
        "  print(\"a lebih besar dari b\")\n",
        "else:\n",
        "  print(\"a tidak lebih besar dari b\")"
      ],
      "metadata": {
        "colab": {
          "base_uri": "https://localhost:8080/"
        },
        "id": "ERZfB-Uj1AFa",
        "outputId": "bb8b1a78-790f-4053-f57f-f000b30f1fb6"
      },
      "execution_count": 5,
      "outputs": [
        {
          "output_type": "stream",
          "name": "stdout",
          "text": [
            "a tidak lebih besar dari b\n"
          ]
        }
      ]
    },
    {
      "cell_type": "markdown",
      "source": [
        "### elif\n",
        "selain if dan else, ada elif singkatan dari else if\n",
        "\n",
        "digunakan saat pertanyaan kita nyambung setema"
      ],
      "metadata": {
        "id": "B00sezyT1j56"
      }
    },
    {
      "cell_type": "code",
      "source": [
        "nilai_andi = 110\n",
        "\n",
        "# grade A kalau nilai > 90\n",
        "# grade B kalau nilai > 70\n",
        "# grade C kalau nilai > 50\n",
        "# grade D kalau nilai > 0\n",
        "# nilai yang >100 dan <0 tidak valid, grade nya \"F\"\n",
        "\n",
        "grade = \"\"\n",
        "\n",
        "if (nilai_andi > 100):\n",
        "  grade = \"F\"\n",
        "elif (nilai_andi > 90):\n",
        "  grade = \"A\"\n",
        "elif (nilai_andi > 70):\n",
        "  grade = \"B\"\n",
        "elif (nilai_andi > 50):\n",
        "  grade = \"C\"\n",
        "elif (nilai_andi > 0):\n",
        "  grade = \"D\"\n",
        "else:\n",
        "  grade = \"F\"\n",
        "\n",
        "print(nilai_andi, grade)"
      ],
      "metadata": {
        "colab": {
          "base_uri": "https://localhost:8080/"
        },
        "id": "VnsvUomP1YwI",
        "outputId": "e269ccac-efed-48fa-82c6-5eb3dd5349d0"
      },
      "execution_count": 13,
      "outputs": [
        {
          "output_type": "stream",
          "name": "stdout",
          "text": [
            "110 F\n"
          ]
        }
      ]
    },
    {
      "cell_type": "markdown",
      "source": [
        "## Nested If\n",
        "di dalam if, ada if lagi"
      ],
      "metadata": {
        "id": "DVDsht6q3F3e"
      }
    },
    {
      "cell_type": "code",
      "source": [
        "# misalkan selain nilai, jumlah absen juga digunakan untuk menentukan grade murid.\n",
        "# dengan grade antara A B C D F, dengan kondisi nilai seperti sebelumnya, \n",
        "# grade akan berubah menjadi F jika jumlah absen dibawah 50%\n",
        "\n",
        "nilai_andi = 80\n",
        "\n",
        "masuk = 7\n",
        "total_kelas = 16\n",
        "absen = masuk/total_kelas\n",
        "\n",
        "grade = \"\"\n",
        "\n",
        "if (nilai_andi > 100):\n",
        "  grade = \"F\"\n",
        "  \n",
        "elif (nilai_andi > 90):\n",
        "  grade = \"A\"\n",
        "  if (absen < 0.5):\n",
        "    grade = \"F\"\n",
        "\n",
        "elif (nilai_andi > 70):\n",
        "  grade = \"B\"\n",
        "  if (absen < 0.5):\n",
        "    grade = \"F\"\n",
        "\n",
        "elif (nilai_andi > 50):\n",
        "  grade = \"C\"\n",
        "  if (absen < 0.5):\n",
        "    grade = \"F\"\n",
        "    \n",
        "elif (nilai_andi > 0):\n",
        "  grade = \"D\"\n",
        "  if (absen < 0.5):\n",
        "    grade = \"F\"\n",
        "\n",
        "else:\n",
        "  grade = \"F\"\n",
        "\n"
      ],
      "metadata": {
        "id": "z6PE5RCM2gk_"
      },
      "execution_count": null,
      "outputs": []
    },
    {
      "cell_type": "markdown",
      "source": [
        "# One-line If"
      ],
      "metadata": {
        "id": "9F-8L68x5yz-"
      }
    },
    {
      "cell_type": "code",
      "source": [
        "# if biasa\n",
        "# kalau umur > 17 dan tinggi >= 120 boleh naik roller coaster\n",
        "\n",
        "umur = 15\n",
        "tinggi = 163\n",
        "\n",
        "if (umur > 17 and tinggi >=120):\n",
        "  print(\"boleh naik roller coaster\")"
      ],
      "metadata": {
        "id": "jFELWQmU4RjT"
      },
      "execution_count": 19,
      "outputs": []
    },
    {
      "cell_type": "code",
      "source": [
        "if (umur > 17 and tinggi >=120): print(\"boleh naik roller coaster\")"
      ],
      "metadata": {
        "id": "9TBdbRPL6A_1"
      },
      "execution_count": 20,
      "outputs": []
    },
    {
      "cell_type": "code",
      "source": [
        "if (umur > 17 and tinggi >=120):\n",
        "  print(\"boleh naik roller coaster\")\n",
        "else:\n",
        "  print(\"tidak boleh naik roller coaster\")"
      ],
      "metadata": {
        "colab": {
          "base_uri": "https://localhost:8080/"
        },
        "id": "rWCJ1Crh6DJ9",
        "outputId": "6b1bf0d1-839a-4104-e979-3babf70bb0d8"
      },
      "execution_count": 21,
      "outputs": [
        {
          "output_type": "stream",
          "name": "stdout",
          "text": [
            "tidak boleh naik roller coaster\n"
          ]
        }
      ]
    },
    {
      "cell_type": "code",
      "source": [
        "if (umur > 17 and tinggi >=120): print(\"boleh naik roller coaster\")\n",
        "else: print(\"tidak boleh naik roller coaster\")"
      ],
      "metadata": {
        "colab": {
          "base_uri": "https://localhost:8080/"
        },
        "id": "O_UY6qrG6Moz",
        "outputId": "502d4f8e-70b7-4502-b958-8b855232a1ac"
      },
      "execution_count": 22,
      "outputs": [
        {
          "output_type": "stream",
          "name": "stdout",
          "text": [
            "tidak boleh naik roller coaster\n"
          ]
        }
      ]
    },
    {
      "cell_type": "code",
      "source": [
        "if (umur > 17 and tinggi >=120):\n",
        "  print(\"boleh naik roller coaster\")\n",
        "elif (umur > 13 and tinggi >=120):\n",
        "  print(\"boleh naik roller coaster di tempat duduk paling depan\")\n",
        "else:\n",
        "  print(\"tidak boleh naik roller coaster\")"
      ],
      "metadata": {
        "colab": {
          "base_uri": "https://localhost:8080/"
        },
        "id": "t2TgMzMs6R77",
        "outputId": "58575c23-a224-40b1-eb82-648a33aaf0bc"
      },
      "execution_count": 23,
      "outputs": [
        {
          "output_type": "stream",
          "name": "stdout",
          "text": [
            "boleh naik roller coaster di tempat duduk paling depan\n"
          ]
        }
      ]
    },
    {
      "cell_type": "code",
      "source": [
        "if (umur > 17 and tinggi >=120): print(\"boleh naik roller coaster\")\n",
        "elif (umur > 13 and tinggi >=120): print(\"boleh naik roller coaster di tempat duduk paling depan\")\n",
        "else: print(\"tidak boleh naik roller coaster\")"
      ],
      "metadata": {
        "colab": {
          "base_uri": "https://localhost:8080/"
        },
        "id": "jDjlmYhG6pbB",
        "outputId": "3c3d803d-8c03-437d-e8c3-30f68bb687ed"
      },
      "execution_count": 24,
      "outputs": [
        {
          "output_type": "stream",
          "name": "stdout",
          "text": [
            "boleh naik roller coaster di tempat duduk paling depan\n"
          ]
        }
      ]
    },
    {
      "cell_type": "markdown",
      "source": [
        "# Ternary Operator\n",
        "cara tulis if yang lebih singkat lagi\n",
        "\n",
        "```python\n",
        "\"kalau benar\" if (kondisi) else \"kalau salah\"\n",
        "```"
      ],
      "metadata": {
        "id": "NcWWhsvZ636E"
      }
    },
    {
      "cell_type": "code",
      "source": [
        "umur = 20\n",
        "\n",
        "print(\"punya KTP\" if (umur >= 17) else \"tidak punya KTP\")"
      ],
      "metadata": {
        "colab": {
          "base_uri": "https://localhost:8080/"
        },
        "id": "XQ62cbr56tNB",
        "outputId": "d745c470-590c-443a-d883-65182d262a1e"
      },
      "execution_count": 28,
      "outputs": [
        {
          "output_type": "stream",
          "name": "stdout",
          "text": [
            "punya KTP\n"
          ]
        }
      ]
    },
    {
      "cell_type": "code",
      "source": [
        "if (umur >= 17):\n",
        "  print(\"punya KTP\")\n",
        "else:\n",
        "  print(\"tidak punya KTP\")"
      ],
      "metadata": {
        "colab": {
          "base_uri": "https://localhost:8080/"
        },
        "id": "INSddAip7Muo",
        "outputId": "187bafad-ec25-4cc4-fbf5-e0af2714b4fa"
      },
      "execution_count": 29,
      "outputs": [
        {
          "output_type": "stream",
          "name": "stdout",
          "text": [
            "punya KTP\n"
          ]
        }
      ]
    },
    {
      "cell_type": "code",
      "source": [
        "# hasil ternary bisa kita simpan ke variable\n",
        "msg = \"punya KTP\" if (umur >= 17) else \"tidak punya KTP\""
      ],
      "metadata": {
        "id": "rJCuthu77guS"
      },
      "execution_count": 30,
      "outputs": []
    },
    {
      "cell_type": "code",
      "source": [
        "print(msg)"
      ],
      "metadata": {
        "colab": {
          "base_uri": "https://localhost:8080/"
        },
        "id": "Q0ky1lNa7cJm",
        "outputId": "5c7ef054-442a-4d01-9b4f-32ce798b6593"
      },
      "execution_count": 31,
      "outputs": [
        {
          "output_type": "stream",
          "name": "stdout",
          "text": [
            "punya KTP\n"
          ]
        }
      ]
    },
    {
      "cell_type": "code",
      "source": [
        "print(\"\" if (umur >= 17) else \"tidak\", \"punya KTP\")"
      ],
      "metadata": {
        "colab": {
          "base_uri": "https://localhost:8080/"
        },
        "id": "vbbW7bQh7ma3",
        "outputId": "31953b40-928f-43a1-c4be-272c8804b175"
      },
      "execution_count": 34,
      "outputs": [
        {
          "output_type": "stream",
          "name": "stdout",
          "text": [
            " punya KTP\n"
          ]
        }
      ]
    },
    {
      "cell_type": "markdown",
      "source": [
        "### pass\n",
        "placeholder jika sedang membuat conditional/percabangan atau iteration/loop/perulangan tapi code nya belum pasti."
      ],
      "metadata": {
        "id": "HhUxvOjw8Aag"
      }
    },
    {
      "cell_type": "code",
      "source": [
        "# misalkan kita sudah tau mau cek kondisi apa\n",
        "\n",
        "if (umur > 17 and tinggi >=120):\n",
        "  print(\"boleh naik roller coaster\")\n",
        "else:\n",
        "  # nanti ada tambahan pengecekan, baru kita print msg yg sesuai\n",
        "  pass"
      ],
      "metadata": {
        "colab": {
          "base_uri": "https://localhost:8080/"
        },
        "id": "NTdIayD373y2",
        "outputId": "43bd54bf-76b0-41ba-c927-6732be9f6dc6"
      },
      "execution_count": 36,
      "outputs": [
        {
          "output_type": "stream",
          "name": "stdout",
          "text": [
            "boleh naik roller coaster\n"
          ]
        }
      ]
    },
    {
      "cell_type": "markdown",
      "source": [
        "# Loop\n",
        "iteration, perulangan\n",
        "\n",
        "melakukan code yang sama berkali-kali\n",
        "\n",
        "- while: melakukan code yang sama berkali-kali, selama kondisi masih True. mirip if. if jalan 1x saja, while jalan terus sampai kondisi berubah menjadi False.\n",
        "\n",
        "- for: melakukan code yang sama berkali-kali, 1x untuk setiap item dalam sebuah koleksi. koleksi bisa termasuk data string (setiap huruf), list/tuple (setiap item), dictionary (setiap key), range (setiap angka urut)\n",
        "\n",
        "```python\n",
        "for nama_variable in koleksi:\n",
        "  print(nama_variable)\n",
        "```\n",
        "for loop akan memasukkan setiap item, satu per satu, ke dalam \"nama_variable\", lalu code yang ada di dalam for loop nya di jalankan 1x untuk setiap item tersebut."
      ],
      "metadata": {
        "id": "xDZhpIjb82Cv"
      }
    },
    {
      "cell_type": "code",
      "source": [
        "keranjang_buah = [\"jeruk\", \"apel\", \"pisang\", \"jeruk\", \"pir\", \"apel\", \"melon\", \"jeruk\"]\n",
        "\n",
        "# untuk setiap buah di dalam keranjang_buah --> for loop\n",
        "# kalau buah adalah \"apel\" --> conditional if\n",
        "# tambahkan 1 ke \"total_apel\" --> simpan integer ke variable, ubah variable jadi +1 value integernya\n",
        "\n",
        "# hitung ada berapa \"apel\" dalam list \"keranjang_buah\"\n",
        "\n",
        "# cara tulis for loop\n",
        "total_apel = 0\n",
        "total_jeruk = 0\n",
        "for buah in keranjang_buah:\n",
        "  if (buah == \"apel\"):\n",
        "    total_apel = total_apel + 1\n",
        "\n",
        "  if (buah == \"jeruk\"):\n",
        "    total_jeruk = total_jeruk + 1\n",
        "\n",
        "print(total_apel,\"apel\")\n",
        "print(total_jeruk, \"jeruk\")"
      ],
      "metadata": {
        "colab": {
          "base_uri": "https://localhost:8080/"
        },
        "id": "Ooms85TP8ezL",
        "outputId": "ac626c29-e005-4a78-dcfc-1c0894d2aa47"
      },
      "execution_count": 39,
      "outputs": [
        {
          "output_type": "stream",
          "name": "stdout",
          "text": [
            "2 apel\n",
            "3 jeruk\n"
          ]
        }
      ]
    },
    {
      "cell_type": "code",
      "source": [
        "# cara tulis while loop\n",
        "\n",
        "index = 0\n",
        "while (index < len(keranjang_buah)):\n",
        "  buah = keranjang_buah[index]\n",
        "  print(index, buah)\n",
        "\n",
        "  index = index + 1\n",
        "\n"
      ],
      "metadata": {
        "colab": {
          "base_uri": "https://localhost:8080/"
        },
        "id": "IVCYHZPZ-vb2",
        "outputId": "b6ebcd81-732c-4753-d32a-d23c004b6ef6"
      },
      "execution_count": 41,
      "outputs": [
        {
          "output_type": "stream",
          "name": "stdout",
          "text": [
            "0 jeruk\n",
            "1 apel\n",
            "2 pisang\n",
            "3 jeruk\n",
            "4 pir\n",
            "5 apel\n",
            "6 melon\n",
            "7 jeruk\n"
          ]
        }
      ]
    },
    {
      "cell_type": "code",
      "source": [
        "index = 0\n",
        "total_apel = 0\n",
        "while (index < len(keranjang_buah)):\n",
        "  buah = keranjang_buah[index]\n",
        "  if (buah == \"apel\"):\n",
        "    total_apel = total_apel + 1\n",
        "\n",
        "  index = index + 1\n",
        "\n",
        "print(total_apel, \"apel\")"
      ],
      "metadata": {
        "colab": {
          "base_uri": "https://localhost:8080/"
        },
        "id": "tmr23atJAShh",
        "outputId": "b8904358-677f-4e6b-81b2-bae10b8a0a03"
      },
      "execution_count": 42,
      "outputs": [
        {
          "output_type": "stream",
          "name": "stdout",
          "text": [
            "2 apel\n"
          ]
        }
      ]
    },
    {
      "cell_type": "code",
      "source": [
        "umur = 20\n",
        "while (umur > 17 and tinggi >=120):\n",
        "  print(\"umur\", umur)\n",
        "  print(\"boleh naik roller coaster\")\n",
        "  # jangan lupa kalau menggunakan while loop\n",
        "  # kondisi harus berubah jadi False\n",
        "  # jika tidak, kita tidak akan pernah keluar dari loop --> infinite loop error\n",
        "\n",
        "  umur = umur -1"
      ],
      "metadata": {
        "colab": {
          "base_uri": "https://localhost:8080/"
        },
        "id": "ljEh77pmAfU5",
        "outputId": "74ea7177-b7d0-4154-e55a-b27d02263dd2"
      },
      "execution_count": 44,
      "outputs": [
        {
          "output_type": "stream",
          "name": "stdout",
          "text": [
            "umur 20\n",
            "boleh naik roller coaster\n",
            "umur 19\n",
            "boleh naik roller coaster\n",
            "umur 18\n",
            "boleh naik roller coaster\n"
          ]
        }
      ]
    },
    {
      "cell_type": "code",
      "source": [
        "# while bisa punya else\n",
        "umur = 15\n",
        "tinggi = 160\n",
        "\n",
        "while (umur > 17 and tinggi >=120):\n",
        "  print(\"umur\", umur)\n",
        "  print(\"boleh naik roller coaster\")\n",
        "  umur = umur -1\n",
        "else:\n",
        "  print(\"kondisinya sudah False\")\n",
        "  print(\"umur\", umur)\n"
      ],
      "metadata": {
        "colab": {
          "base_uri": "https://localhost:8080/"
        },
        "id": "3HMXa6uFAz7H",
        "outputId": "e040131e-a725-4dfd-e234-4fdc22b68b6c"
      },
      "execution_count": 46,
      "outputs": [
        {
          "output_type": "stream",
          "name": "stdout",
          "text": [
            "kondisinya sudah False\n",
            "umur 15\n"
          ]
        }
      ]
    },
    {
      "cell_type": "code",
      "source": [
        "# break dan continue\n",
        "# break memaksa untuk langsung berhenti, bahkan sampai skip else nya while\n",
        "\n",
        "# continue skip 1 putaran saja\n",
        "\n"
      ],
      "metadata": {
        "id": "stAUpV4KEQ_u"
      },
      "execution_count": null,
      "outputs": []
    },
    {
      "cell_type": "code",
      "source": [
        "keranjang_buah = [\"jeruk\", \"apel\", 15, \"jeruk\", \"pir\", \"apel\", \"melon\", \"jeruk\"]\n",
        "\n",
        "index = 0\n",
        "while (index < len(keranjang_buah)):\n",
        "  buah = keranjang_buah[index]\n",
        "\n",
        "  if (type(buah) != type(\"\")):\n",
        "    print(\"ada data yang bukan string\")\n",
        "    break\n",
        "\n",
        "  print(index, buah, type(buah))\n",
        "  index = index + 1\n",
        "else:\n",
        "  print(\"masuk else nya while loop\")"
      ],
      "metadata": {
        "colab": {
          "base_uri": "https://localhost:8080/"
        },
        "outputId": "91a2d24b-93bb-4d44-d9cd-8d5db82c49a9",
        "id": "2ODRhezLEq02"
      },
      "execution_count": 55,
      "outputs": [
        {
          "output_type": "stream",
          "name": "stdout",
          "text": [
            "0 jeruk <class 'str'>\n",
            "1 apel <class 'str'>\n",
            "ada data yang bukan string\n"
          ]
        }
      ]
    },
    {
      "cell_type": "markdown",
      "source": [
        "break langsung memaksa keluar dari loop nya"
      ],
      "metadata": {
        "id": "ZzcnoJeaFS-W"
      }
    },
    {
      "cell_type": "code",
      "source": [
        "keranjang_buah = [\"jeruk\", \"apel\", 15, \"jeruk\", \"pir\", \"apel\", \"melon\", \"jeruk\"]\n",
        "\n",
        "index = 0\n",
        "while (index < len(keranjang_buah)):\n",
        "  buah = keranjang_buah[index]\n",
        "\n",
        "  if (type(buah) != type(\"\")):\n",
        "    print(\"ada data yang bukan string\")\n",
        "    index = index + 1\n",
        "    continue\n",
        "\n",
        "  print(index, buah, type(buah))\n",
        "  index = index + 1\n",
        "else:\n",
        "  print(\"masuk else nya while loop\")"
      ],
      "metadata": {
        "colab": {
          "base_uri": "https://localhost:8080/"
        },
        "id": "zGm3tsFcEzPc",
        "outputId": "5309449f-13f6-48fc-d762-020cf3af07f6"
      },
      "execution_count": 54,
      "outputs": [
        {
          "output_type": "stream",
          "name": "stdout",
          "text": [
            "0 jeruk <class 'str'>\n",
            "1 apel <class 'str'>\n",
            "ada data yang bukan string\n",
            "3 jeruk <class 'str'>\n",
            "4 pir <class 'str'>\n",
            "5 apel <class 'str'>\n",
            "6 melon <class 'str'>\n",
            "7 jeruk <class 'str'>\n",
            "masuk else nya while loop\n"
          ]
        }
      ]
    },
    {
      "cell_type": "markdown",
      "source": [
        "continue langsung kita balik ke awal loop nya, cek kondisi lagi"
      ],
      "metadata": {
        "id": "4lhrJ4qtFU5U"
      }
    },
    {
      "cell_type": "code",
      "source": [
        "a = 1\n",
        "b = 2\n",
        "c = 3\n",
        "\n",
        "if (a==1):\n",
        "  if (b==2):\n",
        "    if(c==3):\n",
        "      print(\"abc adalah 123\")"
      ],
      "metadata": {
        "colab": {
          "base_uri": "https://localhost:8080/"
        },
        "id": "f5b1NeJ3FX6Z",
        "outputId": "9b723e5b-d762-416f-ea59-9f7f5b4d9376"
      },
      "execution_count": 56,
      "outputs": [
        {
          "output_type": "stream",
          "name": "stdout",
          "text": [
            "abc adalah 123\n"
          ]
        }
      ]
    },
    {
      "cell_type": "code",
      "source": [
        "# misal ada stok barang dari 3 cabang toko berbeda\n",
        "stok_barang = [\n",
        "    [\"sepatu\", \"baju\", \"celana\"],\n",
        "    [\"sepatu\", \"jaket\"],\n",
        "    [\"baju\", \"rok\", \"topi\"],\n",
        "]\n",
        "\n",
        "# total ada berapa \"sepatu\"?\n",
        "for cabang in stok_barang:\n",
        "  for barang in cabang:\n",
        "    print(barang)"
      ],
      "metadata": {
        "colab": {
          "base_uri": "https://localhost:8080/"
        },
        "id": "t3tcLp0uGAXx",
        "outputId": "c369540d-88cb-4be1-d50e-29855dc4945d"
      },
      "execution_count": 57,
      "outputs": [
        {
          "output_type": "stream",
          "name": "stdout",
          "text": [
            "sepatu\n",
            "baju\n",
            "celana\n",
            "sepatu\n",
            "jaket\n",
            "baju\n",
            "rok\n",
            "topi\n"
          ]
        }
      ]
    },
    {
      "cell_type": "markdown",
      "source": [
        "# one-line while loop"
      ],
      "metadata": {
        "id": "L5ahobZ1G_8J"
      }
    },
    {
      "cell_type": "code",
      "source": [
        "n = 0\n",
        "\n",
        "while (n < 5):\n",
        "  print(n)\n",
        "  n = n + 1"
      ],
      "metadata": {
        "colab": {
          "base_uri": "https://localhost:8080/"
        },
        "id": "bkHKtnuEGgGn",
        "outputId": "a7a5b756-303b-4b5c-9ba4-30f8ddbf4423"
      },
      "execution_count": 58,
      "outputs": [
        {
          "output_type": "stream",
          "name": "stdout",
          "text": [
            "0\n",
            "1\n",
            "2\n",
            "3\n",
            "4\n"
          ]
        }
      ]
    },
    {
      "cell_type": "code",
      "source": [
        "n = 0\n",
        "\n",
        "while (n < 5): print(n); n = n + 1;"
      ],
      "metadata": {
        "colab": {
          "base_uri": "https://localhost:8080/"
        },
        "id": "8ga0cOG5HFI2",
        "outputId": "44dfd8ec-962a-4c1d-c6bf-1a6f86a0b93e"
      },
      "execution_count": 59,
      "outputs": [
        {
          "output_type": "stream",
          "name": "stdout",
          "text": [
            "0\n",
            "1\n",
            "2\n",
            "3\n",
            "4\n"
          ]
        }
      ]
    },
    {
      "cell_type": "markdown",
      "source": [
        "# For Loop\n",
        "```python\n",
        "for nama_variable in koleksi:\n",
        "  print(nama_variable)\n",
        "```"
      ],
      "metadata": {
        "id": "ynd20tx9HTO2"
      }
    },
    {
      "cell_type": "code",
      "source": [
        "# list\n",
        "\n",
        "print(keranjang_buah)\n",
        "\n",
        "for buah in keranjang_buah:\n",
        "  print(buah)"
      ],
      "metadata": {
        "colab": {
          "base_uri": "https://localhost:8080/"
        },
        "id": "LCz_IEEsHJkt",
        "outputId": "610fee33-1ce1-41e2-812b-f1728ba4d7b6"
      },
      "execution_count": 61,
      "outputs": [
        {
          "output_type": "stream",
          "name": "stdout",
          "text": [
            "['jeruk', 'apel', 15, 'jeruk', 'pir', 'apel', 'melon', 'jeruk']\n",
            "jeruk\n",
            "apel\n",
            "15\n",
            "jeruk\n",
            "pir\n",
            "apel\n",
            "melon\n",
            "jeruk\n"
          ]
        }
      ]
    },
    {
      "cell_type": "code",
      "source": [
        "# tuple\n",
        "\n",
        "nilai = (12,34,76,87,23)\n",
        "\n",
        "for n in nilai:\n",
        "  print(n)"
      ],
      "metadata": {
        "colab": {
          "base_uri": "https://localhost:8080/"
        },
        "id": "tsKYC4CmIe4E",
        "outputId": "30b119ba-c79a-4894-a574-166403137a91"
      },
      "execution_count": 67,
      "outputs": [
        {
          "output_type": "stream",
          "name": "stdout",
          "text": [
            "12\n",
            "34\n",
            "76\n",
            "87\n",
            "23\n"
          ]
        }
      ]
    },
    {
      "cell_type": "code",
      "source": [
        "# dictionary\n",
        "\n",
        "belanjaan = {\n",
        "    \"beras\": 5,\n",
        "    \"telur\": 12,\n",
        "    \"minyak\": 2,\n",
        "    \"sayur\": 1000\n",
        "}\n",
        "print(belanjaan)\n",
        "\n",
        "for item in belanjaan:\n",
        "  print(item)"
      ],
      "metadata": {
        "colab": {
          "base_uri": "https://localhost:8080/"
        },
        "id": "fJ0hh4TCH56D",
        "outputId": "04505a7c-6eef-4970-a3ac-ee49b7ab6cb7"
      },
      "execution_count": 62,
      "outputs": [
        {
          "output_type": "stream",
          "name": "stdout",
          "text": [
            "{'beras': 5, 'telur': 12, 'minyak': 2, 'sayur': 1000}\n",
            "beras\n",
            "telur\n",
            "minyak\n",
            "sayur\n"
          ]
        }
      ]
    },
    {
      "cell_type": "code",
      "source": [
        "for item in belanjaan:\n",
        "  print(item, belanjaan[item])"
      ],
      "metadata": {
        "colab": {
          "base_uri": "https://localhost:8080/"
        },
        "id": "UMvRNIEbIMxz",
        "outputId": "bcdc08c8-1fbe-4aba-da80-e7ac0138a218"
      },
      "execution_count": 63,
      "outputs": [
        {
          "output_type": "stream",
          "name": "stdout",
          "text": [
            "beras 5\n",
            "telur 12\n",
            "minyak 2\n",
            "sayur 1000\n"
          ]
        }
      ]
    },
    {
      "cell_type": "code",
      "source": [
        "belanjaan.keys()"
      ],
      "metadata": {
        "colab": {
          "base_uri": "https://localhost:8080/"
        },
        "id": "euD0OzZeIQf6",
        "outputId": "e493b8e1-5ae8-497c-f194-35a5c953ceef"
      },
      "execution_count": 64,
      "outputs": [
        {
          "output_type": "execute_result",
          "data": {
            "text/plain": [
              "dict_keys(['beras', 'telur', 'minyak', 'sayur'])"
            ]
          },
          "metadata": {},
          "execution_count": 64
        }
      ]
    },
    {
      "cell_type": "code",
      "source": [
        "for key in belanjaan.keys():\n",
        "  print(key)"
      ],
      "metadata": {
        "colab": {
          "base_uri": "https://localhost:8080/"
        },
        "id": "xn6Tpu2HIV1h",
        "outputId": "6ea55b71-379a-4da4-e2f0-947746ee20a3"
      },
      "execution_count": 65,
      "outputs": [
        {
          "output_type": "stream",
          "name": "stdout",
          "text": [
            "beras\n",
            "telur\n",
            "minyak\n",
            "sayur\n"
          ]
        }
      ]
    },
    {
      "cell_type": "code",
      "source": [
        "for value in belanjaan.values():\n",
        "  print(value)"
      ],
      "metadata": {
        "colab": {
          "base_uri": "https://localhost:8080/"
        },
        "id": "mMBAZNSEIZIJ",
        "outputId": "ce9a7e0c-1dbb-4ad4-8c89-b071c5f1a600"
      },
      "execution_count": 66,
      "outputs": [
        {
          "output_type": "stream",
          "name": "stdout",
          "text": [
            "5\n",
            "12\n",
            "2\n",
            "1000\n"
          ]
        }
      ]
    },
    {
      "cell_type": "code",
      "source": [
        "# string\n",
        "\n",
        "msg = \"Hacktiv8\"\n",
        "\n",
        "for huruf in msg:\n",
        "  print(huruf, \"ok\")"
      ],
      "metadata": {
        "colab": {
          "base_uri": "https://localhost:8080/"
        },
        "id": "2PnrU9lnIbXZ",
        "outputId": "adf381c0-632c-41d7-bfed-f3f55191a521"
      },
      "execution_count": 72,
      "outputs": [
        {
          "output_type": "stream",
          "name": "stdout",
          "text": [
            "H ok\n",
            "a ok\n",
            "c ok\n",
            "k ok\n",
            "t ok\n",
            "i ok\n",
            "v ok\n",
            "8 ok\n"
          ]
        }
      ]
    },
    {
      "cell_type": "code",
      "source": [
        "# range\n",
        "# pembuatan angka urut dengan cepat\n",
        "\n",
        "for n in range(10):\n",
        "  print(n)"
      ],
      "metadata": {
        "colab": {
          "base_uri": "https://localhost:8080/"
        },
        "id": "Zbc0cKMMIuv4",
        "outputId": "27e52aad-41a4-469f-dc15-8744c8bb11ef"
      },
      "execution_count": 73,
      "outputs": [
        {
          "output_type": "stream",
          "name": "stdout",
          "text": [
            "0\n",
            "1\n",
            "2\n",
            "3\n",
            "4\n",
            "5\n",
            "6\n",
            "7\n",
            "8\n",
            "9\n"
          ]
        }
      ]
    },
    {
      "cell_type": "code",
      "source": [
        "for n in range(10,20):\n",
        "  print(n)"
      ],
      "metadata": {
        "colab": {
          "base_uri": "https://localhost:8080/"
        },
        "id": "ErZcU757I9wh",
        "outputId": "b85e27f5-2769-4f00-b2df-2ca52fbb44c9"
      },
      "execution_count": 74,
      "outputs": [
        {
          "output_type": "stream",
          "name": "stdout",
          "text": [
            "10\n",
            "11\n",
            "12\n",
            "13\n",
            "14\n",
            "15\n",
            "16\n",
            "17\n",
            "18\n",
            "19\n"
          ]
        }
      ]
    },
    {
      "cell_type": "code",
      "source": [
        "for n in range(10,25,5):\n",
        "  print(n)"
      ],
      "metadata": {
        "colab": {
          "base_uri": "https://localhost:8080/"
        },
        "id": "xA_puHcMJA5H",
        "outputId": "230f0826-83b2-4d33-f1ac-37459015e349"
      },
      "execution_count": 76,
      "outputs": [
        {
          "output_type": "stream",
          "name": "stdout",
          "text": [
            "10\n",
            "15\n",
            "20\n"
          ]
        }
      ]
    },
    {
      "cell_type": "markdown",
      "source": [
        "## input\n",
        "keyword python, fungsi bawaan untuk minta input dari user"
      ],
      "metadata": {
        "id": "tDNmkD5kKQr_"
      }
    },
    {
      "cell_type": "code",
      "source": [
        "input()"
      ],
      "metadata": {
        "colab": {
          "base_uri": "https://localhost:8080/",
          "height": 54
        },
        "id": "NwEaoqaQJFaf",
        "outputId": "39685999-21f0-48fd-e27d-832418eb34a7"
      },
      "execution_count": 77,
      "outputs": [
        {
          "name": "stdout",
          "output_type": "stream",
          "text": [
            "a\n"
          ]
        },
        {
          "output_type": "execute_result",
          "data": {
            "text/plain": [
              "'a'"
            ],
            "application/vnd.google.colaboratory.intrinsic+json": {
              "type": "string"
            }
          },
          "metadata": {},
          "execution_count": 77
        }
      ]
    },
    {
      "cell_type": "code",
      "source": [
        "# kita buat program yang bisa convert nilai jadi grade\n",
        "\n",
        "while True:\n",
        "  nilai = input()\n",
        "\n",
        "  if (nilai == \"stop\"): break\n",
        "  else: nilai = int(nilai)\n",
        "\n",
        "  grade = \"\"\n",
        "  if (nilai > 100):\n",
        "    grade = \"F\"\n",
        "  elif (nilai > 90):\n",
        "    grade = \"A\"\n",
        "  elif (nilai > 70):\n",
        "    grade = \"B\"\n",
        "  elif (nilai > 50):\n",
        "    grade = \"C\"\n",
        "  elif (nilai > 0):\n",
        "    grade = \"D\"\n",
        "  else:\n",
        "    grade = \"F\"\n",
        "\n",
        "  print(nilai, grade)\n",
        "  "
      ],
      "metadata": {
        "colab": {
          "base_uri": "https://localhost:8080/"
        },
        "id": "KwdP48p-KOa0",
        "outputId": "6e699a90-3b3d-4bba-f57a-e8e9bbad9e86"
      },
      "execution_count": 81,
      "outputs": [
        {
          "name": "stdout",
          "output_type": "stream",
          "text": [
            "50\n",
            "50 D\n",
            "60\n",
            "60 C\n",
            "70\n",
            "70 C\n",
            "80\n",
            "80 B\n",
            "90\n",
            "90 B\n",
            "00\n",
            "0 F\n",
            "100\n",
            "100 A\n",
            "stop\n"
          ]
        }
      ]
    },
    {
      "cell_type": "code",
      "source": [],
      "metadata": {
        "id": "mkPfco9TKtxj"
      },
      "execution_count": null,
      "outputs": []
    }
  ]
}