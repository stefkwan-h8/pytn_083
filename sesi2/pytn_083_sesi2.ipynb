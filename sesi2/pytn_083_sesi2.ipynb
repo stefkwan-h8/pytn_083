{
 "cells": [
  {
   "cell_type": "code",
   "execution_count": null,
   "metadata": {
    "id": "JAoNEkNTzQBi"
   },
   "outputs": [],
   "source": []
  },
  {
   "cell_type": "markdown",
   "metadata": {
    "id": "rlq37LBYzXeB"
   },
   "source": [
    "# Percabangan dan Perulangan\n",
    "## Percabangan\n",
    "kita bertanya kepada computer apakah sesuatu itu True atau False. kalau True, jalankan code A, kalau False, jalanakan code B.\n",
    "\n",
    "```python\n",
    "if (kondisi):\n",
    "  # code ini jalan hanya jika kondisi True\n",
    "  print(\"ok, kondisi True\")\n",
    "else:\n",
    "  # code disini jalan hanya jika kondisi False\n",
    "  print(\"wah False kondisinya\")\n",
    "```\n",
    "\n",
    "kondisi bisa kita isi macam macam termasuk:\n",
    "- komparator a < b? a > b? \n",
    "- apakah datanya ada isinya, kalau data kosong seperti 0, 0.0, [], semua dianggap False\n",
    "- semua value Boolean\n",
    "\n",
    "kondisi bisa ada bbrp juga, dan kita sambungkan dengan operator \"and\" dan \"or\"\n",
    "1. kondisi A dan kondisi B harus benar, dua2nya harus True, baru kita anggap kondisi True --> \"and\"\n",
    "2. salah satu saja kondisi A atau kondisi B benar, kita anggap kondisi True --> \"or\""
   ]
  },
  {
   "cell_type": "code",
   "execution_count": 1,
   "metadata": {
    "id": "9UaZfYdfzx3v"
   },
   "outputs": [],
   "source": [
    "a = 10\n",
    "b = 15\n",
    "\n",
    "if (a > b):\n",
    "  print(\"a lebih besar dari b\")"
   ]
  },
  {
   "cell_type": "code",
   "execution_count": 2,
   "metadata": {
    "colab": {
     "base_uri": "https://localhost:8080/"
    },
    "id": "skReNtVm0s8r",
    "outputId": "8bf0ab57-9d3f-4614-ff8d-9d319a33b529"
   },
   "outputs": [
    {
     "name": "stdout",
     "output_type": "stream",
     "text": [
      "False\n"
     ]
    }
   ],
   "source": [
    "print(a > b)"
   ]
  },
  {
   "cell_type": "markdown",
   "metadata": {
    "id": "Hrl580BY03Nd"
   },
   "source": [
    "karena a>b adalah False, maka blok kode yang ada di bawah if nya tidak dijalankan"
   ]
  },
  {
   "cell_type": "code",
   "execution_count": 3,
   "metadata": {
    "colab": {
     "base_uri": "https://localhost:8080/"
    },
    "id": "iTmdWkLU01zj",
    "outputId": "a05a5ab3-e9e7-4922-84ba-200fb49a91f9"
   },
   "outputs": [
    {
     "name": "stdout",
     "output_type": "stream",
     "text": [
      "a lebih kecil dari b\n"
     ]
    }
   ],
   "source": [
    "a = 10\n",
    "b = 15\n",
    "\n",
    "if (a < b):\n",
    "  print(\"a lebih kecil dari b\")"
   ]
  },
  {
   "cell_type": "code",
   "execution_count": 4,
   "metadata": {
    "colab": {
     "base_uri": "https://localhost:8080/"
    },
    "id": "QzR3qzrp09nz",
    "outputId": "ce04d1a2-3deb-499f-9dd9-ab013d0b712c"
   },
   "outputs": [
    {
     "name": "stdout",
     "output_type": "stream",
     "text": [
      "True\n"
     ]
    }
   ],
   "source": [
    "print(a < b)"
   ]
  },
  {
   "cell_type": "markdown",
   "metadata": {
    "id": "v-fzvdVO1BGk"
   },
   "source": [
    "karena a<b adalah True, maka blok kode yang ada di bawah if nya dijalankan"
   ]
  },
  {
   "cell_type": "markdown",
   "metadata": {
    "id": "e9EDFWQI1Pv7"
   },
   "source": [
    "### else\n",
    "selain if, ada else"
   ]
  },
  {
   "cell_type": "code",
   "execution_count": 5,
   "metadata": {
    "colab": {
     "base_uri": "https://localhost:8080/"
    },
    "id": "ERZfB-Uj1AFa",
    "outputId": "bb8b1a78-790f-4053-f57f-f000b30f1fb6"
   },
   "outputs": [
    {
     "name": "stdout",
     "output_type": "stream",
     "text": [
      "a tidak lebih besar dari b\n"
     ]
    }
   ],
   "source": [
    "a = 10\n",
    "b = 15\n",
    "\n",
    "if (a > b):\n",
    "  print(\"a lebih besar dari b\")\n",
    "else:\n",
    "  print(\"a tidak lebih besar dari b\")"
   ]
  },
  {
   "cell_type": "markdown",
   "metadata": {
    "id": "B00sezyT1j56"
   },
   "source": [
    "### elif\n",
    "selain if dan else, ada elif singkatan dari else if\n",
    "\n",
    "digunakan saat pertanyaan kita nyambung setema"
   ]
  },
  {
   "cell_type": "code",
   "execution_count": 13,
   "metadata": {
    "colab": {
     "base_uri": "https://localhost:8080/"
    },
    "id": "VnsvUomP1YwI",
    "outputId": "e269ccac-efed-48fa-82c6-5eb3dd5349d0"
   },
   "outputs": [
    {
     "name": "stdout",
     "output_type": "stream",
     "text": [
      "110 F\n"
     ]
    }
   ],
   "source": [
    "nilai_andi = 110\n",
    "\n",
    "# grade A kalau nilai > 90\n",
    "# grade B kalau nilai > 70\n",
    "# grade C kalau nilai > 50\n",
    "# grade D kalau nilai > 0\n",
    "# nilai yang >100 dan <0 tidak valid, grade nya \"F\"\n",
    "\n",
    "grade = \"\"\n",
    "\n",
    "if (nilai_andi > 100):\n",
    "  grade = \"F\"\n",
    "elif (nilai_andi > 90):\n",
    "  grade = \"A\"\n",
    "elif (nilai_andi > 70):\n",
    "  grade = \"B\"\n",
    "elif (nilai_andi > 50):\n",
    "  grade = \"C\"\n",
    "elif (nilai_andi > 0):\n",
    "  grade = \"D\"\n",
    "else:\n",
    "  grade = \"F\"\n",
    "\n",
    "print(nilai_andi, grade)"
   ]
  },
  {
   "cell_type": "markdown",
   "metadata": {
    "id": "DVDsht6q3F3e"
   },
   "source": [
    "## Nested If\n",
    "di dalam if, ada if lagi"
   ]
  },
  {
   "cell_type": "code",
   "execution_count": null,
   "metadata": {
    "id": "z6PE5RCM2gk_"
   },
   "outputs": [],
   "source": [
    "# misalkan selain nilai, jumlah absen juga digunakan untuk menentukan grade murid.\n",
    "# dengan grade antara A B C D F, dengan kondisi nilai seperti sebelumnya, \n",
    "# grade akan berubah menjadi F jika jumlah absen dibawah 50%\n",
    "\n",
    "nilai_andi = 80\n",
    "\n",
    "masuk = 7\n",
    "total_kelas = 16\n",
    "absen = masuk/total_kelas\n",
    "\n",
    "grade = \"\"\n",
    "\n",
    "if (nilai_andi > 100):\n",
    "  grade = \"F\"\n",
    "  \n",
    "elif (nilai_andi > 90):\n",
    "  grade = \"A\"\n",
    "  if (absen < 0.5):\n",
    "    grade = \"F\"\n",
    "\n",
    "elif (nilai_andi > 70):\n",
    "  grade = \"B\"\n",
    "  if (absen < 0.5):\n",
    "    grade = \"F\"\n",
    "\n",
    "elif (nilai_andi > 50):\n",
    "  grade = \"C\"\n",
    "  if (absen < 0.5):\n",
    "    grade = \"F\"\n",
    "    \n",
    "elif (nilai_andi > 0):\n",
    "  grade = \"D\"\n",
    "  if (absen < 0.5):\n",
    "    grade = \"F\"\n",
    "\n",
    "else:\n",
    "  grade = \"F\"\n",
    "\n"
   ]
  },
  {
   "cell_type": "markdown",
   "metadata": {
    "id": "9F-8L68x5yz-"
   },
   "source": [
    "# One-line If"
   ]
  },
  {
   "cell_type": "code",
   "execution_count": 19,
   "metadata": {
    "id": "jFELWQmU4RjT"
   },
   "outputs": [],
   "source": [
    "# if biasa\n",
    "# kalau umur > 17 dan tinggi >= 120 boleh naik roller coaster\n",
    "\n",
    "umur = 15\n",
    "tinggi = 163\n",
    "\n",
    "if (umur > 17 and tinggi >=120):\n",
    "  print(\"boleh naik roller coaster\")"
   ]
  },
  {
   "cell_type": "code",
   "execution_count": 20,
   "metadata": {
    "id": "9TBdbRPL6A_1"
   },
   "outputs": [],
   "source": [
    "if (umur > 17 and tinggi >=120): print(\"boleh naik roller coaster\")"
   ]
  },
  {
   "cell_type": "code",
   "execution_count": 21,
   "metadata": {
    "colab": {
     "base_uri": "https://localhost:8080/"
    },
    "id": "rWCJ1Crh6DJ9",
    "outputId": "6b1bf0d1-839a-4104-e979-3babf70bb0d8"
   },
   "outputs": [
    {
     "name": "stdout",
     "output_type": "stream",
     "text": [
      "tidak boleh naik roller coaster\n"
     ]
    }
   ],
   "source": [
    "if (umur > 17 and tinggi >=120):\n",
    "  print(\"boleh naik roller coaster\")\n",
    "else:\n",
    "  print(\"tidak boleh naik roller coaster\")"
   ]
  },
  {
   "cell_type": "code",
   "execution_count": 22,
   "metadata": {
    "colab": {
     "base_uri": "https://localhost:8080/"
    },
    "id": "O_UY6qrG6Moz",
    "outputId": "502d4f8e-70b7-4502-b958-8b855232a1ac"
   },
   "outputs": [
    {
     "name": "stdout",
     "output_type": "stream",
     "text": [
      "tidak boleh naik roller coaster\n"
     ]
    }
   ],
   "source": [
    "if (umur > 17 and tinggi >=120): print(\"boleh naik roller coaster\")\n",
    "else: print(\"tidak boleh naik roller coaster\")"
   ]
  },
  {
   "cell_type": "code",
   "execution_count": 23,
   "metadata": {
    "colab": {
     "base_uri": "https://localhost:8080/"
    },
    "id": "t2TgMzMs6R77",
    "outputId": "58575c23-a224-40b1-eb82-648a33aaf0bc"
   },
   "outputs": [
    {
     "name": "stdout",
     "output_type": "stream",
     "text": [
      "boleh naik roller coaster di tempat duduk paling depan\n"
     ]
    }
   ],
   "source": [
    "if (umur > 17 and tinggi >=120):\n",
    "  print(\"boleh naik roller coaster\")\n",
    "elif (umur > 13 and tinggi >=120):\n",
    "  print(\"boleh naik roller coaster di tempat duduk paling depan\")\n",
    "else:\n",
    "  print(\"tidak boleh naik roller coaster\")"
   ]
  },
  {
   "cell_type": "code",
   "execution_count": 24,
   "metadata": {
    "colab": {
     "base_uri": "https://localhost:8080/"
    },
    "id": "jDjlmYhG6pbB",
    "outputId": "3c3d803d-8c03-437d-e8c3-30f68bb687ed"
   },
   "outputs": [
    {
     "name": "stdout",
     "output_type": "stream",
     "text": [
      "boleh naik roller coaster di tempat duduk paling depan\n"
     ]
    }
   ],
   "source": [
    "if (umur > 17 and tinggi >=120): print(\"boleh naik roller coaster\")\n",
    "elif (umur > 13 and tinggi >=120): print(\"boleh naik roller coaster di tempat duduk paling depan\")\n",
    "else: print(\"tidak boleh naik roller coaster\")"
   ]
  },
  {
   "cell_type": "markdown",
   "metadata": {
    "id": "NcWWhsvZ636E"
   },
   "source": [
    "# Ternary Operator\n",
    "cara tulis if yang lebih singkat lagi\n",
    "\n",
    "```python\n",
    "\"kalau benar\" if (kondisi) else \"kalau salah\"\n",
    "```"
   ]
  },
  {
   "cell_type": "code",
   "execution_count": 28,
   "metadata": {
    "colab": {
     "base_uri": "https://localhost:8080/"
    },
    "id": "XQ62cbr56tNB",
    "outputId": "d745c470-590c-443a-d883-65182d262a1e"
   },
   "outputs": [
    {
     "name": "stdout",
     "output_type": "stream",
     "text": [
      "punya KTP\n"
     ]
    }
   ],
   "source": [
    "umur = 20\n",
    "\n",
    "print(\"punya KTP\" if (umur >= 17) else \"tidak punya KTP\")"
   ]
  },
  {
   "cell_type": "code",
   "execution_count": 29,
   "metadata": {
    "colab": {
     "base_uri": "https://localhost:8080/"
    },
    "id": "INSddAip7Muo",
    "outputId": "187bafad-ec25-4cc4-fbf5-e0af2714b4fa"
   },
   "outputs": [
    {
     "name": "stdout",
     "output_type": "stream",
     "text": [
      "punya KTP\n"
     ]
    }
   ],
   "source": [
    "if (umur >= 17):\n",
    "  print(\"punya KTP\")\n",
    "else:\n",
    "  print(\"tidak punya KTP\")"
   ]
  },
  {
   "cell_type": "code",
   "execution_count": 30,
   "metadata": {
    "id": "rJCuthu77guS"
   },
   "outputs": [],
   "source": [
    "# hasil ternary bisa kita simpan ke variable\n",
    "msg = \"punya KTP\" if (umur >= 17) else \"tidak punya KTP\""
   ]
  },
  {
   "cell_type": "code",
   "execution_count": 31,
   "metadata": {
    "colab": {
     "base_uri": "https://localhost:8080/"
    },
    "id": "Q0ky1lNa7cJm",
    "outputId": "5c7ef054-442a-4d01-9b4f-32ce798b6593"
   },
   "outputs": [
    {
     "name": "stdout",
     "output_type": "stream",
     "text": [
      "punya KTP\n"
     ]
    }
   ],
   "source": [
    "print(msg)"
   ]
  },
  {
   "cell_type": "code",
   "execution_count": 34,
   "metadata": {
    "colab": {
     "base_uri": "https://localhost:8080/"
    },
    "id": "vbbW7bQh7ma3",
    "outputId": "31953b40-928f-43a1-c4be-272c8804b175"
   },
   "outputs": [
    {
     "name": "stdout",
     "output_type": "stream",
     "text": [
      " punya KTP\n"
     ]
    }
   ],
   "source": [
    "print(\"\" if (umur >= 17) else \"tidak\", \"punya KTP\")"
   ]
  },
  {
   "cell_type": "markdown",
   "metadata": {
    "id": "HhUxvOjw8Aag"
   },
   "source": [
    "### pass\n",
    "placeholder jika sedang membuat conditional/percabangan atau iteration/loop/perulangan tapi code nya belum pasti."
   ]
  },
  {
   "cell_type": "code",
   "execution_count": 36,
   "metadata": {
    "colab": {
     "base_uri": "https://localhost:8080/"
    },
    "id": "NTdIayD373y2",
    "outputId": "43bd54bf-76b0-41ba-c927-6732be9f6dc6"
   },
   "outputs": [
    {
     "name": "stdout",
     "output_type": "stream",
     "text": [
      "boleh naik roller coaster\n"
     ]
    }
   ],
   "source": [
    "# misalkan kita sudah tau mau cek kondisi apa\n",
    "\n",
    "if (umur > 17 and tinggi >=120):\n",
    "  print(\"boleh naik roller coaster\")\n",
    "else:\n",
    "  # nanti ada tambahan pengecekan, baru kita print msg yg sesuai\n",
    "  pass"
   ]
  },
  {
   "cell_type": "markdown",
   "metadata": {
    "id": "xDZhpIjb82Cv"
   },
   "source": [
    "# Loop\n",
    "iteration, perulangan\n",
    "\n",
    "melakukan code yang sama berkali-kali\n",
    "\n",
    "- while: melakukan code yang sama berkali-kali, selama kondisi masih True. mirip if. if jalan 1x saja, while jalan terus sampai kondisi berubah menjadi False.\n",
    "\n",
    "- for: melakukan code yang sama berkali-kali, 1x untuk setiap item dalam sebuah koleksi. koleksi bisa termasuk data string (setiap huruf), list/tuple (setiap item), dictionary (setiap key), range (setiap angka urut)\n",
    "\n",
    "```python\n",
    "for nama_variable in koleksi:\n",
    "  print(nama_variable)\n",
    "```\n",
    "for loop akan memasukkan setiap item, satu per satu, ke dalam \"nama_variable\", lalu code yang ada di dalam for loop nya di jalankan 1x untuk setiap item tersebut."
   ]
  },
  {
   "cell_type": "code",
   "execution_count": 39,
   "metadata": {
    "colab": {
     "base_uri": "https://localhost:8080/"
    },
    "id": "Ooms85TP8ezL",
    "outputId": "ac626c29-e005-4a78-dcfc-1c0894d2aa47"
   },
   "outputs": [
    {
     "name": "stdout",
     "output_type": "stream",
     "text": [
      "2 apel\n",
      "3 jeruk\n"
     ]
    }
   ],
   "source": [
    "keranjang_buah = [\"jeruk\", \"apel\", \"pisang\", \"jeruk\", \"pir\", \"apel\", \"melon\", \"jeruk\"]\n",
    "\n",
    "# untuk setiap buah di dalam keranjang_buah --> for loop\n",
    "# kalau buah adalah \"apel\" --> conditional if\n",
    "# tambahkan 1 ke \"total_apel\" --> simpan integer ke variable, ubah variable jadi +1 value integernya\n",
    "\n",
    "# hitung ada berapa \"apel\" dalam list \"keranjang_buah\"\n",
    "\n",
    "# cara tulis for loop\n",
    "total_apel = 0\n",
    "total_jeruk = 0\n",
    "for buah in keranjang_buah:\n",
    "  if (buah == \"apel\"):\n",
    "    total_apel = total_apel + 1\n",
    "\n",
    "  if (buah == \"jeruk\"):\n",
    "    total_jeruk = total_jeruk + 1\n",
    "\n",
    "print(total_apel,\"apel\")\n",
    "print(total_jeruk, \"jeruk\")"
   ]
  },
  {
   "cell_type": "code",
   "execution_count": 41,
   "metadata": {
    "colab": {
     "base_uri": "https://localhost:8080/"
    },
    "id": "IVCYHZPZ-vb2",
    "outputId": "b6ebcd81-732c-4753-d32a-d23c004b6ef6"
   },
   "outputs": [
    {
     "name": "stdout",
     "output_type": "stream",
     "text": [
      "0 jeruk\n",
      "1 apel\n",
      "2 pisang\n",
      "3 jeruk\n",
      "4 pir\n",
      "5 apel\n",
      "6 melon\n",
      "7 jeruk\n"
     ]
    }
   ],
   "source": [
    "# cara tulis while loop\n",
    "\n",
    "index = 0\n",
    "while (index < len(keranjang_buah)):\n",
    "  buah = keranjang_buah[index]\n",
    "  print(index, buah)\n",
    "\n",
    "  index = index + 1\n",
    "\n"
   ]
  },
  {
   "cell_type": "code",
   "execution_count": 42,
   "metadata": {
    "colab": {
     "base_uri": "https://localhost:8080/"
    },
    "id": "tmr23atJAShh",
    "outputId": "b8904358-677f-4e6b-81b2-bae10b8a0a03"
   },
   "outputs": [
    {
     "name": "stdout",
     "output_type": "stream",
     "text": [
      "2 apel\n"
     ]
    }
   ],
   "source": [
    "index = 0\n",
    "total_apel = 0\n",
    "while (index < len(keranjang_buah)):\n",
    "  buah = keranjang_buah[index]\n",
    "  if (buah == \"apel\"):\n",
    "    total_apel = total_apel + 1\n",
    "\n",
    "  index = index + 1\n",
    "\n",
    "print(total_apel, \"apel\")"
   ]
  },
  {
   "cell_type": "code",
   "execution_count": 44,
   "metadata": {
    "colab": {
     "base_uri": "https://localhost:8080/"
    },
    "id": "ljEh77pmAfU5",
    "outputId": "74ea7177-b7d0-4154-e55a-b27d02263dd2"
   },
   "outputs": [
    {
     "name": "stdout",
     "output_type": "stream",
     "text": [
      "umur 20\n",
      "boleh naik roller coaster\n",
      "umur 19\n",
      "boleh naik roller coaster\n",
      "umur 18\n",
      "boleh naik roller coaster\n"
     ]
    }
   ],
   "source": [
    "umur = 20\n",
    "while (umur > 17 and tinggi >=120):\n",
    "  print(\"umur\", umur)\n",
    "  print(\"boleh naik roller coaster\")\n",
    "  # jangan lupa kalau menggunakan while loop\n",
    "  # kondisi harus berubah jadi False\n",
    "  # jika tidak, kita tidak akan pernah keluar dari loop --> infinite loop error\n",
    "\n",
    "  umur = umur -1"
   ]
  },
  {
   "cell_type": "code",
   "execution_count": 46,
   "metadata": {
    "colab": {
     "base_uri": "https://localhost:8080/"
    },
    "id": "3HMXa6uFAz7H",
    "outputId": "e040131e-a725-4dfd-e234-4fdc22b68b6c"
   },
   "outputs": [
    {
     "name": "stdout",
     "output_type": "stream",
     "text": [
      "kondisinya sudah False\n",
      "umur 15\n"
     ]
    }
   ],
   "source": [
    "# while bisa punya else\n",
    "umur = 15\n",
    "tinggi = 160\n",
    "\n",
    "while (umur > 17 and tinggi >=120):\n",
    "  print(\"umur\", umur)\n",
    "  print(\"boleh naik roller coaster\")\n",
    "  umur = umur -1\n",
    "else:\n",
    "  print(\"kondisinya sudah False\")\n",
    "  print(\"umur\", umur)\n"
   ]
  },
  {
   "cell_type": "code",
   "execution_count": null,
   "metadata": {
    "id": "stAUpV4KEQ_u"
   },
   "outputs": [],
   "source": [
    "# break dan continue\n",
    "# break memaksa untuk langsung berhenti, bahkan sampai skip else nya while\n",
    "\n",
    "# continue skip 1 putaran saja\n",
    "\n"
   ]
  },
  {
   "cell_type": "code",
   "execution_count": 55,
   "metadata": {
    "colab": {
     "base_uri": "https://localhost:8080/"
    },
    "id": "2ODRhezLEq02",
    "outputId": "91a2d24b-93bb-4d44-d9cd-8d5db82c49a9"
   },
   "outputs": [
    {
     "name": "stdout",
     "output_type": "stream",
     "text": [
      "0 jeruk <class 'str'>\n",
      "1 apel <class 'str'>\n",
      "ada data yang bukan string\n"
     ]
    }
   ],
   "source": [
    "keranjang_buah = [\"jeruk\", \"apel\", 15, \"jeruk\", \"pir\", \"apel\", \"melon\", \"jeruk\"]\n",
    "\n",
    "index = 0\n",
    "while (index < len(keranjang_buah)):\n",
    "  buah = keranjang_buah[index]\n",
    "\n",
    "  if (type(buah) != type(\"\")):\n",
    "    print(\"ada data yang bukan string\")\n",
    "    break\n",
    "\n",
    "  print(index, buah, type(buah))\n",
    "  index = index + 1\n",
    "else:\n",
    "  print(\"masuk else nya while loop\")"
   ]
  },
  {
   "cell_type": "markdown",
   "metadata": {
    "id": "ZzcnoJeaFS-W"
   },
   "source": [
    "break langsung memaksa keluar dari loop nya"
   ]
  },
  {
   "cell_type": "code",
   "execution_count": 54,
   "metadata": {
    "colab": {
     "base_uri": "https://localhost:8080/"
    },
    "id": "zGm3tsFcEzPc",
    "outputId": "5309449f-13f6-48fc-d762-020cf3af07f6"
   },
   "outputs": [
    {
     "name": "stdout",
     "output_type": "stream",
     "text": [
      "0 jeruk <class 'str'>\n",
      "1 apel <class 'str'>\n",
      "ada data yang bukan string\n",
      "3 jeruk <class 'str'>\n",
      "4 pir <class 'str'>\n",
      "5 apel <class 'str'>\n",
      "6 melon <class 'str'>\n",
      "7 jeruk <class 'str'>\n",
      "masuk else nya while loop\n"
     ]
    }
   ],
   "source": [
    "keranjang_buah = [\"jeruk\", \"apel\", 15, \"jeruk\", \"pir\", \"apel\", \"melon\", \"jeruk\"]\n",
    "\n",
    "index = 0\n",
    "while (index < len(keranjang_buah)):\n",
    "  buah = keranjang_buah[index]\n",
    "\n",
    "  if (type(buah) != type(\"\")):\n",
    "    print(\"ada data yang bukan string\")\n",
    "    index = index + 1\n",
    "    continue\n",
    "\n",
    "  print(index, buah, type(buah))\n",
    "  index = index + 1\n",
    "else:\n",
    "  print(\"masuk else nya while loop\")"
   ]
  },
  {
   "cell_type": "markdown",
   "metadata": {
    "id": "4lhrJ4qtFU5U"
   },
   "source": [
    "continue langsung kita balik ke awal loop nya, cek kondisi lagi"
   ]
  },
  {
   "cell_type": "code",
   "execution_count": 56,
   "metadata": {
    "colab": {
     "base_uri": "https://localhost:8080/"
    },
    "id": "f5b1NeJ3FX6Z",
    "outputId": "9b723e5b-d762-416f-ea59-9f7f5b4d9376"
   },
   "outputs": [
    {
     "name": "stdout",
     "output_type": "stream",
     "text": [
      "abc adalah 123\n"
     ]
    }
   ],
   "source": [
    "a = 1\n",
    "b = 2\n",
    "c = 3\n",
    "\n",
    "if (a==1):\n",
    "  if (b==2):\n",
    "    if(c==3):\n",
    "      print(\"abc adalah 123\")"
   ]
  },
  {
   "cell_type": "code",
   "execution_count": 57,
   "metadata": {
    "colab": {
     "base_uri": "https://localhost:8080/"
    },
    "id": "t3tcLp0uGAXx",
    "outputId": "c369540d-88cb-4be1-d50e-29855dc4945d"
   },
   "outputs": [
    {
     "name": "stdout",
     "output_type": "stream",
     "text": [
      "sepatu\n",
      "baju\n",
      "celana\n",
      "sepatu\n",
      "jaket\n",
      "baju\n",
      "rok\n",
      "topi\n"
     ]
    }
   ],
   "source": [
    "# misal ada stok barang dari 3 cabang toko berbeda\n",
    "stok_barang = [\n",
    "    [\"sepatu\", \"baju\", \"celana\"],\n",
    "    [\"sepatu\", \"jaket\"],\n",
    "    [\"baju\", \"rok\", \"topi\"],\n",
    "]\n",
    "\n",
    "# total ada berapa \"sepatu\"?\n",
    "for cabang in stok_barang:\n",
    "  for barang in cabang:\n",
    "    print(barang)"
   ]
  },
  {
   "cell_type": "markdown",
   "metadata": {
    "id": "L5ahobZ1G_8J"
   },
   "source": [
    "# one-line while loop"
   ]
  },
  {
   "cell_type": "code",
   "execution_count": 58,
   "metadata": {
    "colab": {
     "base_uri": "https://localhost:8080/"
    },
    "id": "bkHKtnuEGgGn",
    "outputId": "a7a5b756-303b-4b5c-9ba4-30f8ddbf4423"
   },
   "outputs": [
    {
     "name": "stdout",
     "output_type": "stream",
     "text": [
      "0\n",
      "1\n",
      "2\n",
      "3\n",
      "4\n"
     ]
    }
   ],
   "source": [
    "n = 0\n",
    "\n",
    "while (n < 5):\n",
    "  print(n)\n",
    "  n = n + 1"
   ]
  },
  {
   "cell_type": "code",
   "execution_count": 59,
   "metadata": {
    "colab": {
     "base_uri": "https://localhost:8080/"
    },
    "id": "8ga0cOG5HFI2",
    "outputId": "44dfd8ec-962a-4c1d-c6bf-1a6f86a0b93e"
   },
   "outputs": [
    {
     "name": "stdout",
     "output_type": "stream",
     "text": [
      "0\n",
      "1\n",
      "2\n",
      "3\n",
      "4\n"
     ]
    }
   ],
   "source": [
    "n = 0\n",
    "\n",
    "while (n < 5): print(n); n = n + 1;"
   ]
  },
  {
   "cell_type": "markdown",
   "metadata": {
    "id": "ynd20tx9HTO2"
   },
   "source": [
    "# For Loop\n",
    "```python\n",
    "for nama_variable in koleksi:\n",
    "  print(nama_variable)\n",
    "```"
   ]
  },
  {
   "cell_type": "code",
   "execution_count": 61,
   "metadata": {
    "colab": {
     "base_uri": "https://localhost:8080/"
    },
    "id": "LCz_IEEsHJkt",
    "outputId": "610fee33-1ce1-41e2-812b-f1728ba4d7b6"
   },
   "outputs": [
    {
     "name": "stdout",
     "output_type": "stream",
     "text": [
      "['jeruk', 'apel', 15, 'jeruk', 'pir', 'apel', 'melon', 'jeruk']\n",
      "jeruk\n",
      "apel\n",
      "15\n",
      "jeruk\n",
      "pir\n",
      "apel\n",
      "melon\n",
      "jeruk\n"
     ]
    }
   ],
   "source": [
    "# list\n",
    "\n",
    "print(keranjang_buah)\n",
    "\n",
    "for buah in keranjang_buah:\n",
    "  print(buah)"
   ]
  },
  {
   "cell_type": "code",
   "execution_count": 67,
   "metadata": {
    "colab": {
     "base_uri": "https://localhost:8080/"
    },
    "id": "tsKYC4CmIe4E",
    "outputId": "30b119ba-c79a-4894-a574-166403137a91"
   },
   "outputs": [
    {
     "name": "stdout",
     "output_type": "stream",
     "text": [
      "12\n",
      "34\n",
      "76\n",
      "87\n",
      "23\n"
     ]
    }
   ],
   "source": [
    "# tuple\n",
    "\n",
    "nilai = (12,34,76,87,23)\n",
    "\n",
    "for n in nilai:\n",
    "  print(n)"
   ]
  },
  {
   "cell_type": "code",
   "execution_count": 62,
   "metadata": {
    "colab": {
     "base_uri": "https://localhost:8080/"
    },
    "id": "fJ0hh4TCH56D",
    "outputId": "04505a7c-6eef-4970-a3ac-ee49b7ab6cb7"
   },
   "outputs": [
    {
     "name": "stdout",
     "output_type": "stream",
     "text": [
      "{'beras': 5, 'telur': 12, 'minyak': 2, 'sayur': 1000}\n",
      "beras\n",
      "telur\n",
      "minyak\n",
      "sayur\n"
     ]
    }
   ],
   "source": [
    "# dictionary\n",
    "\n",
    "belanjaan = {\n",
    "    \"beras\": 5,\n",
    "    \"telur\": 12,\n",
    "    \"minyak\": 2,\n",
    "    \"sayur\": 1000\n",
    "}\n",
    "print(belanjaan)\n",
    "\n",
    "for item in belanjaan:\n",
    "  print(item)"
   ]
  },
  {
   "cell_type": "code",
   "execution_count": 63,
   "metadata": {
    "colab": {
     "base_uri": "https://localhost:8080/"
    },
    "id": "UMvRNIEbIMxz",
    "outputId": "bcdc08c8-1fbe-4aba-da80-e7ac0138a218"
   },
   "outputs": [
    {
     "name": "stdout",
     "output_type": "stream",
     "text": [
      "beras 5\n",
      "telur 12\n",
      "minyak 2\n",
      "sayur 1000\n"
     ]
    }
   ],
   "source": [
    "for item in belanjaan:\n",
    "  print(item, belanjaan[item])"
   ]
  },
  {
   "cell_type": "code",
   "execution_count": 64,
   "metadata": {
    "colab": {
     "base_uri": "https://localhost:8080/"
    },
    "id": "euD0OzZeIQf6",
    "outputId": "e493b8e1-5ae8-497c-f194-35a5c953ceef"
   },
   "outputs": [
    {
     "data": {
      "text/plain": [
       "dict_keys(['beras', 'telur', 'minyak', 'sayur'])"
      ]
     },
     "execution_count": 64,
     "metadata": {},
     "output_type": "execute_result"
    }
   ],
   "source": [
    "belanjaan.keys()"
   ]
  },
  {
   "cell_type": "code",
   "execution_count": 65,
   "metadata": {
    "colab": {
     "base_uri": "https://localhost:8080/"
    },
    "id": "xn6Tpu2HIV1h",
    "outputId": "6ea55b71-379a-4da4-e2f0-947746ee20a3"
   },
   "outputs": [
    {
     "name": "stdout",
     "output_type": "stream",
     "text": [
      "beras\n",
      "telur\n",
      "minyak\n",
      "sayur\n"
     ]
    }
   ],
   "source": [
    "for key in belanjaan.keys():\n",
    "  print(key)"
   ]
  },
  {
   "cell_type": "code",
   "execution_count": 66,
   "metadata": {
    "colab": {
     "base_uri": "https://localhost:8080/"
    },
    "id": "mMBAZNSEIZIJ",
    "outputId": "ce9a7e0c-1dbb-4ad4-8c89-b071c5f1a600"
   },
   "outputs": [
    {
     "name": "stdout",
     "output_type": "stream",
     "text": [
      "5\n",
      "12\n",
      "2\n",
      "1000\n"
     ]
    }
   ],
   "source": [
    "for value in belanjaan.values():\n",
    "  print(value)"
   ]
  },
  {
   "cell_type": "code",
   "execution_count": 72,
   "metadata": {
    "colab": {
     "base_uri": "https://localhost:8080/"
    },
    "id": "2PnrU9lnIbXZ",
    "outputId": "adf381c0-632c-41d7-bfed-f3f55191a521"
   },
   "outputs": [
    {
     "name": "stdout",
     "output_type": "stream",
     "text": [
      "H ok\n",
      "a ok\n",
      "c ok\n",
      "k ok\n",
      "t ok\n",
      "i ok\n",
      "v ok\n",
      "8 ok\n"
     ]
    }
   ],
   "source": [
    "# string\n",
    "\n",
    "msg = \"Hacktiv8\"\n",
    "\n",
    "for huruf in msg:\n",
    "  print(huruf, \"ok\")"
   ]
  },
  {
   "cell_type": "code",
   "execution_count": 73,
   "metadata": {
    "colab": {
     "base_uri": "https://localhost:8080/"
    },
    "id": "Zbc0cKMMIuv4",
    "outputId": "27e52aad-41a4-469f-dc15-8744c8bb11ef"
   },
   "outputs": [
    {
     "name": "stdout",
     "output_type": "stream",
     "text": [
      "0\n",
      "1\n",
      "2\n",
      "3\n",
      "4\n",
      "5\n",
      "6\n",
      "7\n",
      "8\n",
      "9\n"
     ]
    }
   ],
   "source": [
    "# range\n",
    "# pembuatan angka urut dengan cepat\n",
    "\n",
    "for n in range(10):\n",
    "  print(n)"
   ]
  },
  {
   "cell_type": "code",
   "execution_count": 74,
   "metadata": {
    "colab": {
     "base_uri": "https://localhost:8080/"
    },
    "id": "ErZcU757I9wh",
    "outputId": "b85e27f5-2769-4f00-b2df-2ca52fbb44c9"
   },
   "outputs": [
    {
     "name": "stdout",
     "output_type": "stream",
     "text": [
      "10\n",
      "11\n",
      "12\n",
      "13\n",
      "14\n",
      "15\n",
      "16\n",
      "17\n",
      "18\n",
      "19\n"
     ]
    }
   ],
   "source": [
    "for n in range(10,20):\n",
    "  print(n)"
   ]
  },
  {
   "cell_type": "code",
   "execution_count": 76,
   "metadata": {
    "colab": {
     "base_uri": "https://localhost:8080/"
    },
    "id": "xA_puHcMJA5H",
    "outputId": "230f0826-83b2-4d33-f1ac-37459015e349"
   },
   "outputs": [
    {
     "name": "stdout",
     "output_type": "stream",
     "text": [
      "10\n",
      "15\n",
      "20\n"
     ]
    }
   ],
   "source": [
    "for n in range(10,25,5):\n",
    "  print(n)"
   ]
  },
  {
   "cell_type": "markdown",
   "metadata": {
    "id": "tDNmkD5kKQr_"
   },
   "source": [
    "## input\n",
    "keyword python, fungsi bawaan untuk minta input dari user"
   ]
  },
  {
   "cell_type": "code",
   "execution_count": 77,
   "metadata": {
    "colab": {
     "base_uri": "https://localhost:8080/",
     "height": 54
    },
    "id": "NwEaoqaQJFaf",
    "outputId": "39685999-21f0-48fd-e27d-832418eb34a7"
   },
   "outputs": [
    {
     "name": "stdout",
     "output_type": "stream",
     "text": [
      "a\n"
     ]
    },
    {
     "data": {
      "application/vnd.google.colaboratory.intrinsic+json": {
       "type": "string"
      },
      "text/plain": [
       "'a'"
      ]
     },
     "execution_count": 77,
     "metadata": {},
     "output_type": "execute_result"
    }
   ],
   "source": [
    "input()"
   ]
  },
  {
   "cell_type": "code",
   "execution_count": 81,
   "metadata": {
    "colab": {
     "base_uri": "https://localhost:8080/"
    },
    "id": "KwdP48p-KOa0",
    "outputId": "6e699a90-3b3d-4bba-f57a-e8e9bbad9e86"
   },
   "outputs": [
    {
     "name": "stdout",
     "output_type": "stream",
     "text": [
      "50\n",
      "50 D\n",
      "60\n",
      "60 C\n",
      "70\n",
      "70 C\n",
      "80\n",
      "80 B\n",
      "90\n",
      "90 B\n",
      "00\n",
      "0 F\n",
      "100\n",
      "100 A\n",
      "stop\n"
     ]
    }
   ],
   "source": [
    "# kita buat program yang bisa convert nilai jadi grade\n",
    "\n",
    "while True:\n",
    "  nilai = input()\n",
    "\n",
    "  if (nilai == \"stop\"): break\n",
    "  else: nilai = int(nilai)\n",
    "\n",
    "  grade = \"\"\n",
    "  if (nilai > 100):\n",
    "    grade = \"F\"\n",
    "  elif (nilai > 90):\n",
    "    grade = \"A\"\n",
    "  elif (nilai > 70):\n",
    "    grade = \"B\"\n",
    "  elif (nilai > 50):\n",
    "    grade = \"C\"\n",
    "  elif (nilai > 0):\n",
    "    grade = \"D\"\n",
    "  else:\n",
    "    grade = \"F\"\n",
    "\n",
    "  print(nilai, grade)\n",
    "  "
   ]
  },
  {
   "cell_type": "code",
   "execution_count": null,
   "metadata": {
    "id": "mkPfco9TKtxj"
   },
   "outputs": [],
   "source": []
  }
 ],
 "metadata": {
  "colab": {
   "name": "pytn_083_sesi2.ipynb",
   "provenance": []
  },
  "kernelspec": {
   "display_name": "Python 3 (ipykernel)",
   "language": "python",
   "name": "python3"
  },
  "language_info": {
   "codemirror_mode": {
    "name": "ipython",
    "version": 3
   },
   "file_extension": ".py",
   "mimetype": "text/x-python",
   "name": "python",
   "nbconvert_exporter": "python",
   "pygments_lexer": "ipython3",
   "version": "3.9.7"
  }
 },
 "nbformat": 4,
 "nbformat_minor": 4
}
