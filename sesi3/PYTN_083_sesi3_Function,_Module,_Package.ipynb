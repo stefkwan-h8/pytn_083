{
  "nbformat": 4,
  "nbformat_minor": 0,
  "metadata": {
    "colab": {
      "provenance": [],
      "collapsed_sections": []
    },
    "kernelspec": {
      "name": "python3",
      "display_name": "Python 3"
    },
    "language_info": {
      "name": "python"
    }
  },
  "cells": [
    {
      "cell_type": "markdown",
      "source": [
        "# Review Sesi 1-2\n",
        "\n",
        "* Data Types\n",
        "* Variables\n",
        "* Conditional\n",
        "* Looping\n",
        "\n",
        "# Sesi 3 \n",
        "- Function \n",
        "- Module\n",
        "  - menggunakan Python sebagai Script\n",
        "- Package"
      ],
      "metadata": {
        "id": "QWHKOqOli8Dc"
      }
    },
    {
      "cell_type": "code",
      "source": [
        "# Data Types\n",
        "# Simple: Integer, Float, String, Boolean\n",
        "# Structured: List, Tuple, Dictionary, Set\n",
        "\n",
        "# Integer\n",
        "123\n",
        "\n",
        "# Float\n",
        "123.0\n",
        "0.01234556789\n",
        "\n",
        "# String\n",
        "\"Hacktiv8 - Python !\"\n",
        "'Saya suka belajar~'\n",
        "\n",
        "# Boolean\n",
        "True\n",
        "False\n",
        "\n",
        "# List\n",
        "[]\n",
        "[11, 22, 3.3, \"abc\", True, [\"a\"]]\n",
        "\n",
        "# Tuple\n",
        "()\n",
        "(11, 22, 3.3, \"abc\", True, [\"a\"])\n",
        "\n",
        "# Dictionary\n",
        "{}\n",
        "{\"apel\":11, \"jeruk\":22, \"beras\":3.3, \"total\":\"oke\", \"lunas\":True, \"notes\":[\"a\"]}"
      ],
      "metadata": {
        "colab": {
          "base_uri": "https://localhost:8080/"
        },
        "id": "uyF2uYkJjTtp",
        "outputId": "0fdf4cd4-a5cc-4976-c9d0-bb072ef8f76a"
      },
      "execution_count": 2,
      "outputs": [
        {
          "output_type": "execute_result",
          "data": {
            "text/plain": [
              "{'apel': 11,\n",
              " 'jeruk': 22,\n",
              " 'beras': 3.3,\n",
              " 'total': 'oke',\n",
              " 'lunas': True,\n",
              " 'notes': ['a']}"
            ]
          },
          "metadata": {},
          "execution_count": 2
        }
      ]
    },
    {
      "cell_type": "code",
      "source": [
        "# Variables\n",
        "# memberi nama untuk menyimpan data secara temporary\n",
        "\n",
        "nilai = 70"
      ],
      "metadata": {
        "id": "inUOdJGVks5G"
      },
      "execution_count": 3,
      "outputs": []
    },
    {
      "cell_type": "code",
      "source": [
        "print(nilai)"
      ],
      "metadata": {
        "colab": {
          "base_uri": "https://localhost:8080/"
        },
        "id": "c-oOyRNwk122",
        "outputId": "5de0b019-53d4-4f3b-a405-d447c9ac2131"
      },
      "execution_count": 12,
      "outputs": [
        {
          "output_type": "stream",
          "name": "stdout",
          "text": [
            "80\n"
          ]
        }
      ]
    },
    {
      "cell_type": "code",
      "source": [
        "# Conditional\n",
        "# percabangan\n",
        "if (nilai >= 80):\n",
        "  print(\"selamat! nilai bagus, kita makan2\")\n",
        "elif (nilai >= 60):\n",
        "  print(\"masih lumayan, coba target dapet 80 lain kali\")\n",
        "else:\n",
        "  print(\"hari ini kita belajar lebih giat lagi, semoga lain kali hasil lebih baik\")"
      ],
      "metadata": {
        "id": "Whv6QG1jk43O",
        "colab": {
          "base_uri": "https://localhost:8080/"
        },
        "outputId": "4b42cc31-fbec-4804-c9dc-2976f02c3fe0"
      },
      "execution_count": 5,
      "outputs": [
        {
          "output_type": "stream",
          "name": "stdout",
          "text": [
            "masih lumayan, coba target dapet 80 lain kali\n"
          ]
        }
      ]
    },
    {
      "cell_type": "code",
      "source": [
        "# Looping\n",
        "# perulangan\n",
        "\n",
        "# selama kondisi masih True, ulang code yang ada dalam while\n",
        "while (nilai < 80):\n",
        "  print(\"belajar\")\n",
        "  nilai = nilai + 5\n",
        "  print(\"nilai sekarang\", nilai)"
      ],
      "metadata": {
        "colab": {
          "base_uri": "https://localhost:8080/"
        },
        "id": "5NNUFWstmzDI",
        "outputId": "712db6a6-85f5-448a-f80d-8d15d2de644e"
      },
      "execution_count": 6,
      "outputs": [
        {
          "output_type": "stream",
          "name": "stdout",
          "text": [
            "belajar\n",
            "nilai sekarang 75\n",
            "belajar\n",
            "nilai sekarang 80\n"
          ]
        }
      ]
    },
    {
      "cell_type": "code",
      "source": [
        "# untuk setiap item dalam sebuah koleksi, ulang code yang ada dalam for\n",
        "for buah in [\"apel\", \"jeruk\", \"pisang\", \"mangga\"]:\n",
        "  print(buah)"
      ],
      "metadata": {
        "colab": {
          "base_uri": "https://localhost:8080/"
        },
        "id": "YNl5yXgBnLle",
        "outputId": "def8aad8-254b-4e06-9360-29a106641d8f"
      },
      "execution_count": 8,
      "outputs": [
        {
          "output_type": "stream",
          "name": "stdout",
          "text": [
            "apel\n",
            "jeruk\n",
            "pisang\n",
            "mangga\n"
          ]
        }
      ]
    },
    {
      "cell_type": "markdown",
      "source": [
        "## cara tulis nama di code\n",
        "1. snake_case --> biasanya untuk variable\n",
        "2. camelCase --> biasanya untuk function\n",
        "3. PascalCase --> biasanya untuk class\n",
        "\n",
        "karena di code tidak boleh ada spasi diantara sebuah nama"
      ],
      "metadata": {
        "id": "6Rx9v0OUn6v1"
      }
    },
    {
      "cell_type": "markdown",
      "source": [
        "# Function\n",
        "koleksi code kita simpan di satu tempat. mirip variable, tapi untuk simpan code bukan data."
      ],
      "metadata": {
        "id": "2RNY2sLHnp-O"
      }
    },
    {
      "cell_type": "code",
      "source": [
        "def ayoBelajar():\n",
        "  while (nilai < 80):\n",
        "    print(\"belajar\")\n",
        "    nilai = nilai + 5\n",
        "    print(\"nilai sekarang\", nilai)"
      ],
      "metadata": {
        "id": "xjz3QIh6nVuW"
      },
      "execution_count": 9,
      "outputs": []
    },
    {
      "cell_type": "markdown",
      "source": [
        "function ayoBelajar sudah kita buat menggunakan keyword `def`\n",
        "\n",
        "kurung () yang ada di sebelah function itu digunakan untuk menyimpan parameter/argumen/variable spesial milik function tersebut.\n",
        "\n",
        "untuk contoh diatas, function ayoBelajar belum mempunyai parameter/argumen\n",
        "\n",
        "cara untuk memanggil function mirip dengan variable, langsung gunakan namanya saja. Dengan tambahan, pakai () nya untuk \"invoke\" atau menjalankan function tersebut"
      ],
      "metadata": {
        "id": "83XBtvvNoeQz"
      }
    },
    {
      "cell_type": "code",
      "source": [
        "ayoBelajar"
      ],
      "metadata": {
        "colab": {
          "base_uri": "https://localhost:8080/"
        },
        "id": "frPxg8l0odBq",
        "outputId": "dc581b37-e414-44ec-d0d9-578920f58e7b"
      },
      "execution_count": 10,
      "outputs": [
        {
          "output_type": "execute_result",
          "data": {
            "text/plain": [
              "<function __main__.ayoBelajar()>"
            ]
          },
          "metadata": {},
          "execution_count": 10
        }
      ]
    },
    {
      "cell_type": "code",
      "source": [
        "ayoBelajar()"
      ],
      "metadata": {
        "colab": {
          "base_uri": "https://localhost:8080/",
          "height": 287
        },
        "id": "HtxeB9fho2F6",
        "outputId": "4ea7b505-e040-4d0d-c027-0da75e486d7b"
      },
      "execution_count": 13,
      "outputs": [
        {
          "output_type": "error",
          "ename": "UnboundLocalError",
          "evalue": "ignored",
          "traceback": [
            "\u001b[0;31m---------------------------------------------------------------------------\u001b[0m",
            "\u001b[0;31mUnboundLocalError\u001b[0m                         Traceback (most recent call last)",
            "\u001b[0;32m<ipython-input-13-fbd3175c8f61>\u001b[0m in \u001b[0;36m<module>\u001b[0;34m\u001b[0m\n\u001b[0;32m----> 1\u001b[0;31m \u001b[0mayoBelajar\u001b[0m\u001b[0;34m(\u001b[0m\u001b[0;34m)\u001b[0m\u001b[0;34m\u001b[0m\u001b[0;34m\u001b[0m\u001b[0m\n\u001b[0m",
            "\u001b[0;32m<ipython-input-9-008b37955894>\u001b[0m in \u001b[0;36mayoBelajar\u001b[0;34m()\u001b[0m\n\u001b[1;32m      1\u001b[0m \u001b[0;32mdef\u001b[0m \u001b[0mayoBelajar\u001b[0m\u001b[0;34m(\u001b[0m\u001b[0;34m)\u001b[0m\u001b[0;34m:\u001b[0m\u001b[0;34m\u001b[0m\u001b[0;34m\u001b[0m\u001b[0m\n\u001b[0;32m----> 2\u001b[0;31m   \u001b[0;32mwhile\u001b[0m \u001b[0;34m(\u001b[0m\u001b[0mnilai\u001b[0m \u001b[0;34m<\u001b[0m \u001b[0;36m80\u001b[0m\u001b[0;34m)\u001b[0m\u001b[0;34m:\u001b[0m\u001b[0;34m\u001b[0m\u001b[0;34m\u001b[0m\u001b[0m\n\u001b[0m\u001b[1;32m      3\u001b[0m     \u001b[0mprint\u001b[0m\u001b[0;34m(\u001b[0m\u001b[0;34m\"belajar\"\u001b[0m\u001b[0;34m)\u001b[0m\u001b[0;34m\u001b[0m\u001b[0;34m\u001b[0m\u001b[0m\n\u001b[1;32m      4\u001b[0m     \u001b[0mnilai\u001b[0m \u001b[0;34m=\u001b[0m \u001b[0mnilai\u001b[0m \u001b[0;34m+\u001b[0m \u001b[0;36m5\u001b[0m\u001b[0;34m\u001b[0m\u001b[0;34m\u001b[0m\u001b[0m\n\u001b[1;32m      5\u001b[0m     \u001b[0mprint\u001b[0m\u001b[0;34m(\u001b[0m\u001b[0;34m\"nilai sekarang\"\u001b[0m\u001b[0;34m,\u001b[0m \u001b[0mnilai\u001b[0m\u001b[0;34m)\u001b[0m\u001b[0;34m\u001b[0m\u001b[0;34m\u001b[0m\u001b[0m\n",
            "\u001b[0;31mUnboundLocalError\u001b[0m: local variable 'nilai' referenced before assignment"
          ]
        }
      ]
    },
    {
      "cell_type": "markdown",
      "source": [
        "scope: \n",
        "- ada lokasi tertentu dimana code yang sudah kita tulis dianggap valid\n",
        "- tidak semua code valid di semua tempat di sebuah file yang sama"
      ],
      "metadata": {
        "id": "lyi7MrGLpEFz"
      }
    },
    {
      "cell_type": "code",
      "source": [
        "def ayoBelajar():\n",
        "  nilai = 70\n",
        "\n",
        "  while (nilai < 80):\n",
        "    print(\"belajar\")\n",
        "    nilai = nilai + 5\n",
        "    print(\"nilai sekarang\", nilai)\n",
        "\n",
        "  print(\"ini di luar while, di dalam function\")\n",
        "\n",
        "print(\"ini di luar function\")  "
      ],
      "metadata": {
        "colab": {
          "base_uri": "https://localhost:8080/"
        },
        "id": "i50piOEJo5rZ",
        "outputId": "cb37d1b8-e89f-4cf0-e991-e29b53d32a21"
      },
      "execution_count": 20,
      "outputs": [
        {
          "output_type": "stream",
          "name": "stdout",
          "text": [
            "ini di luar function\n"
          ]
        }
      ]
    },
    {
      "cell_type": "code",
      "source": [
        "ayoBelajar()"
      ],
      "metadata": {
        "colab": {
          "base_uri": "https://localhost:8080/"
        },
        "id": "bVuRYGMTpkGf",
        "outputId": "3c9ed48a-d50d-465e-fce0-908448eac403"
      },
      "execution_count": 21,
      "outputs": [
        {
          "output_type": "stream",
          "name": "stdout",
          "text": [
            "belajar\n",
            "nilai sekarang 75\n",
            "belajar\n",
            "nilai sekarang 80\n",
            "ini di luar while, di dalam function\n"
          ]
        }
      ]
    },
    {
      "cell_type": "code",
      "source": [
        "ayoBelajar()\n",
        "ayoBelajar()\n",
        "ayoBelajar()"
      ],
      "metadata": {
        "colab": {
          "base_uri": "https://localhost:8080/"
        },
        "id": "D_HPuWk2plkP",
        "outputId": "7d94c5c8-176e-4009-dc4e-90a58f74bc65"
      },
      "execution_count": 22,
      "outputs": [
        {
          "output_type": "stream",
          "name": "stdout",
          "text": [
            "belajar\n",
            "nilai sekarang 75\n",
            "belajar\n",
            "nilai sekarang 80\n",
            "ini di luar while, di dalam function\n",
            "belajar\n",
            "nilai sekarang 75\n",
            "belajar\n",
            "nilai sekarang 80\n",
            "ini di luar while, di dalam function\n",
            "belajar\n",
            "nilai sekarang 75\n",
            "belajar\n",
            "nilai sekarang 80\n",
            "ini di luar while, di dalam function\n"
          ]
        }
      ]
    },
    {
      "cell_type": "markdown",
      "source": [
        "function yang jalannya sama persis, tidak ada perubahan, untuk apa kita panggil ber kali kali? cod enya buat apa dibungkus dalam sebuah function?\n",
        "\n",
        "awalnya kita kasih nama ke data menggunakan variable agar datanya bisa dipanggil lagi. dengan konsep yang sama, kita kasih nama ke sekelompok code menggunakan function, supaya code nya bisa dipanggil lagi.\n",
        "\n",
        "tapi betapa jauh lebih berguna kalau function bisa sedikit di custom. misalkan ayoBelajar bisa dijalankan dengan nilai awal yang berbeda-beda.\n",
        "\n",
        "# argumen/ parameter\n",
        "kita bisa custom sebuah value variable dalam function menggunakan argumen/ parameter"
      ],
      "metadata": {
        "id": "MpA0aWcIqYvP"
      }
    },
    {
      "cell_type": "code",
      "source": [
        "def ayoBelajar(nilai):\n",
        "  while (nilai < 80):\n",
        "    print(\"belajar\")\n",
        "    nilai = nilai + 5\n",
        "    print(\"nilai sekarang\", nilai)"
      ],
      "metadata": {
        "id": "5jPwJanbqMWv"
      },
      "execution_count": 23,
      "outputs": []
    },
    {
      "cell_type": "code",
      "source": [
        "ayoBelajar()"
      ],
      "metadata": {
        "colab": {
          "base_uri": "https://localhost:8080/",
          "height": 166
        },
        "id": "pm7KEfJQq-B0",
        "outputId": "b7a3839d-c638-429b-fa92-dfd5ab3cfe96"
      },
      "execution_count": 24,
      "outputs": [
        {
          "output_type": "error",
          "ename": "TypeError",
          "evalue": "ignored",
          "traceback": [
            "\u001b[0;31m---------------------------------------------------------------------------\u001b[0m",
            "\u001b[0;31mTypeError\u001b[0m                                 Traceback (most recent call last)",
            "\u001b[0;32m<ipython-input-24-fbd3175c8f61>\u001b[0m in \u001b[0;36m<module>\u001b[0;34m\u001b[0m\n\u001b[0;32m----> 1\u001b[0;31m \u001b[0mayoBelajar\u001b[0m\u001b[0;34m(\u001b[0m\u001b[0;34m)\u001b[0m\u001b[0;34m\u001b[0m\u001b[0;34m\u001b[0m\u001b[0m\n\u001b[0m",
            "\u001b[0;31mTypeError\u001b[0m: ayoBelajar() missing 1 required positional argument: 'nilai'"
          ]
        }
      ]
    },
    {
      "cell_type": "code",
      "source": [
        "ayoBelajar(50)"
      ],
      "metadata": {
        "colab": {
          "base_uri": "https://localhost:8080/"
        },
        "id": "X0UKI71QrALr",
        "outputId": "6d45a023-b70d-4fea-f123-af674be018fb"
      },
      "execution_count": 25,
      "outputs": [
        {
          "output_type": "stream",
          "name": "stdout",
          "text": [
            "belajar\n",
            "nilai sekarang 55\n",
            "belajar\n",
            "nilai sekarang 60\n",
            "belajar\n",
            "nilai sekarang 65\n",
            "belajar\n",
            "nilai sekarang 70\n",
            "belajar\n",
            "nilai sekarang 75\n",
            "belajar\n",
            "nilai sekarang 80\n"
          ]
        }
      ]
    },
    {
      "cell_type": "code",
      "source": [
        "ayoBelajar(70)"
      ],
      "metadata": {
        "colab": {
          "base_uri": "https://localhost:8080/"
        },
        "id": "GCQV1CYErF9L",
        "outputId": "6a36f29e-a115-43a1-89ce-a75e2a1454bf"
      },
      "execution_count": 26,
      "outputs": [
        {
          "output_type": "stream",
          "name": "stdout",
          "text": [
            "belajar\n",
            "nilai sekarang 75\n",
            "belajar\n",
            "nilai sekarang 80\n"
          ]
        }
      ]
    },
    {
      "cell_type": "code",
      "source": [
        "def menyapa(siapa, kapan, dimana):\n",
        "  print(\"halo \" + siapa)\n",
        "  print(\"selamat \" + kapan + \", sedang cari apa di \" + dimana)"
      ],
      "metadata": {
        "id": "pyw6R3_grHtb"
      },
      "execution_count": 27,
      "outputs": []
    },
    {
      "cell_type": "code",
      "source": [
        "menyapa(\"Andi\", \"sore\", \"Mall depan rumah\")"
      ],
      "metadata": {
        "colab": {
          "base_uri": "https://localhost:8080/"
        },
        "id": "T6V7qaSorYmq",
        "outputId": "c8d9ca4d-b64d-4304-9ea3-53dd0ee0447e"
      },
      "execution_count": 28,
      "outputs": [
        {
          "output_type": "stream",
          "name": "stdout",
          "text": [
            "halo Andi\n",
            "selamat sore, sedang cari apa di Mall depan rumah\n"
          ]
        }
      ]
    },
    {
      "cell_type": "code",
      "source": [
        "menyapa(\"Budi\", \"pagi\", \"sekolah\")"
      ],
      "metadata": {
        "colab": {
          "base_uri": "https://localhost:8080/"
        },
        "id": "OfTCVc7Lrcki",
        "outputId": "cc430a52-c617-4d78-a8a5-0c656e67599e"
      },
      "execution_count": 29,
      "outputs": [
        {
          "output_type": "stream",
          "name": "stdout",
          "text": [
            "halo Budi\n",
            "selamat pagi, sedang cari apa di sekolah\n"
          ]
        }
      ]
    },
    {
      "cell_type": "code",
      "source": [
        "menyapa()"
      ],
      "metadata": {
        "colab": {
          "base_uri": "https://localhost:8080/",
          "height": 183
        },
        "id": "qpJqPIy0rmSZ",
        "outputId": "0068066b-9a42-4464-a85a-5e328406ea49"
      },
      "execution_count": 30,
      "outputs": [
        {
          "output_type": "error",
          "ename": "TypeError",
          "evalue": "ignored",
          "traceback": [
            "\u001b[0;31m---------------------------------------------------------------------------\u001b[0m",
            "\u001b[0;31mTypeError\u001b[0m                                 Traceback (most recent call last)",
            "\u001b[0;32m<ipython-input-30-a743f12a6410>\u001b[0m in \u001b[0;36m<module>\u001b[0;34m\u001b[0m\n\u001b[0;32m----> 1\u001b[0;31m \u001b[0mmenyapa\u001b[0m\u001b[0;34m(\u001b[0m\u001b[0;34m)\u001b[0m\u001b[0;34m\u001b[0m\u001b[0;34m\u001b[0m\u001b[0m\n\u001b[0m",
            "\u001b[0;31mTypeError\u001b[0m: menyapa() missing 3 required positional arguments: 'siapa', 'kapan', and 'dimana'"
          ]
        }
      ]
    },
    {
      "cell_type": "markdown",
      "source": [
        "# Pass by Reference vs Pass by Value\n",
        "tipe data terstruktur => Pass by Reference\n",
        "\n",
        "tipe data simple => Pass by Value"
      ],
      "metadata": {
        "id": "mZn5XqHYsSQS"
      }
    },
    {
      "cell_type": "code",
      "source": [
        "list_buah = [\"jeruk\", \"nangka\", \"salak\"]\n",
        "\n",
        "def tambahBuah(koleksi_awal, tambahan):\n",
        "  koleksi_awal.append(tambahan.lower())\n",
        "\n",
        "tambahBuah(list_buah, \"apel\")\n",
        "\n",
        "print(list_buah)"
      ],
      "metadata": {
        "colab": {
          "base_uri": "https://localhost:8080/"
        },
        "id": "0jkW5La7ruPg",
        "outputId": "2b60ed22-7f68-4cf3-e50b-aa931b721506"
      },
      "execution_count": 31,
      "outputs": [
        {
          "output_type": "stream",
          "name": "stdout",
          "text": [
            "['jeruk', 'nangka', 'salak', 'apel']\n"
          ]
        }
      ]
    },
    {
      "cell_type": "markdown",
      "source": [
        "pass by reference biasanya dihindari, kita tidak mau function memiliki kesempatan untuk mengubah data original yang kita berikan ke function tersebut.\n",
        "\n",
        "# Return\n",
        "mengembalikan value setelah function selesai melakukan komputasi/dll code nya"
      ],
      "metadata": {
        "id": "prC7wzMOtC0X"
      }
    },
    {
      "cell_type": "code",
      "source": [
        "list_buah = [\"jeruk\", \"nangka\", \"salak\"]\n",
        "\n",
        "def tambahBuah(koleksi_awal, tambahan):\n",
        "  copy_list = koleksi_awal.copy()\n",
        "  copy_list.append(tambahan.lower())\n",
        "  return copy_list\n",
        "\n",
        "hasil_function = tambahBuah(list_buah, \"apel\")\n",
        "\n",
        "print(list_buah)\n",
        "print(hasil_function)"
      ],
      "metadata": {
        "colab": {
          "base_uri": "https://localhost:8080/"
        },
        "id": "C8ESQYais1Dm",
        "outputId": "f8ff95f4-eeca-41e9-dcef-2b5bf70d7b4c"
      },
      "execution_count": 32,
      "outputs": [
        {
          "output_type": "stream",
          "name": "stdout",
          "text": [
            "['jeruk', 'nangka', 'salak']\n",
            "['jeruk', 'nangka', 'salak', 'apel']\n"
          ]
        }
      ]
    },
    {
      "cell_type": "markdown",
      "source": [
        "tipe data simple otomatis pass by value"
      ],
      "metadata": {
        "id": "Hgu4caDtthpA"
      }
    },
    {
      "cell_type": "code",
      "source": [
        "angka = 15\n",
        "\n",
        "def tambahTambahan(n, tambahan):\n",
        "  hasil = n + tambahan\n",
        "\n",
        "tambahTambahan(15, 20)\n",
        "\n",
        "print(angka)"
      ],
      "metadata": {
        "colab": {
          "base_uri": "https://localhost:8080/"
        },
        "id": "7IXUGuJjtYdc",
        "outputId": "b1348dd4-b042-4080-e6d9-54eeb83623d8"
      },
      "execution_count": 33,
      "outputs": [
        {
          "output_type": "stream",
          "name": "stdout",
          "text": [
            "15\n"
          ]
        }
      ]
    },
    {
      "cell_type": "markdown",
      "source": [
        "data awal kita tidak berubah, bagus, function tidak mengubah data awal.\n",
        "\n",
        "kurang bagus, hasil kalkulasi function belum tersimpan dimanapun. kita tambahkan return dan simpan hasil return nya."
      ],
      "metadata": {
        "id": "djf5TtfatyjE"
      }
    },
    {
      "cell_type": "code",
      "source": [
        "angka = 15\n",
        "\n",
        "def tambahTambahan(n, tambahan):\n",
        "  hasil = n + tambahan\n",
        "  return hasil\n",
        "\n",
        "hasil_return = tambahTambahan(15, 20)\n",
        "\n",
        "print(angka)\n",
        "print(hasil_return)"
      ],
      "metadata": {
        "colab": {
          "base_uri": "https://localhost:8080/"
        },
        "id": "BAkpG0h6tvLa",
        "outputId": "9293f29b-ff55-4023-f165-d46565a5bd84"
      },
      "execution_count": 34,
      "outputs": [
        {
          "output_type": "stream",
          "name": "stdout",
          "text": [
            "15\n",
            "35\n"
          ]
        }
      ]
    },
    {
      "cell_type": "markdown",
      "source": [
        "- function\n",
        "- argumen/parameter\n",
        "- pass by reference vs pass by value\n",
        "  - .copy()\n",
        "  - return\n",
        "\n",
        "\n",
        "argumen function sejauh ini yang kita buat, semuanya harus diisi, kalau tidak akan error. namanya kita membuat required argumen.\n",
        "cara membuat argument ada tiga:\n",
        "- required argument\n",
        "- default argument (kalau ini tidak harus diisi, function tetap bisa jalan)"
      ],
      "metadata": {
        "id": "QCEgeDJ5uD-k"
      }
    },
    {
      "cell_type": "code",
      "source": [
        "# kita misalkan mau buat optional untuk tau siapa, kapan, dimana menyapa\n",
        "\n",
        "def menyapa(siapa=\"pak/bu\", kapan=\"pagi\", dimana=\"sini\"):\n",
        "  print(\"halo \" + siapa)\n",
        "  print(\"selamat \" + kapan + \", sedang cari apa di \" + dimana)"
      ],
      "metadata": {
        "id": "olDkLGTit-8S"
      },
      "execution_count": 35,
      "outputs": []
    },
    {
      "cell_type": "code",
      "source": [
        "menyapa()"
      ],
      "metadata": {
        "colab": {
          "base_uri": "https://localhost:8080/"
        },
        "id": "1fB61VrLyeAG",
        "outputId": "5163a9a9-b9a7-405e-89dc-7bfaf15c64c6"
      },
      "execution_count": 36,
      "outputs": [
        {
          "output_type": "stream",
          "name": "stdout",
          "text": [
            "halo pak/bu\n",
            "selamat pagi, sedang cari apa di sini\n"
          ]
        }
      ]
    },
    {
      "cell_type": "code",
      "source": [
        "menyapa(\"andi\")"
      ],
      "metadata": {
        "colab": {
          "base_uri": "https://localhost:8080/"
        },
        "id": "2odldrIxyfXl",
        "outputId": "11c85adf-7310-4019-cdc8-4dcf9e28d551"
      },
      "execution_count": 37,
      "outputs": [
        {
          "output_type": "stream",
          "name": "stdout",
          "text": [
            "halo andi\n",
            "selamat pagi, sedang cari apa di sini\n"
          ]
        }
      ]
    },
    {
      "cell_type": "markdown",
      "source": [
        "teknik isi argument saat sedang invoke function:\n",
        "- keyword argument"
      ],
      "metadata": {
        "id": "4Ktkox8xyvaH"
      }
    },
    {
      "cell_type": "code",
      "source": [
        "# misal kita cuma mau isi \"dimana\"\n",
        "menyapa(dimana=\"kantor\")"
      ],
      "metadata": {
        "colab": {
          "base_uri": "https://localhost:8080/"
        },
        "id": "v_b9GSMAyj0k",
        "outputId": "f7a40ef9-9820-476b-d16e-a470580c1e62"
      },
      "execution_count": 38,
      "outputs": [
        {
          "output_type": "stream",
          "name": "stdout",
          "text": [
            "halo pak/bu\n",
            "selamat pagi, sedang cari apa di kantor\n"
          ]
        }
      ]
    },
    {
      "cell_type": "code",
      "source": [
        "# kalau kita isi, default variable nya tidak menganggap perlu pakai default value nya lagi\n",
        "menyapa(\"\",\"\",\"kantor\")"
      ],
      "metadata": {
        "colab": {
          "base_uri": "https://localhost:8080/"
        },
        "id": "MennrxQIy7Id",
        "outputId": "361ff222-4b0c-4564-c35c-8fb4c8e85707"
      },
      "execution_count": 41,
      "outputs": [
        {
          "output_type": "stream",
          "name": "stdout",
          "text": [
            "halo \n",
            "selamat , sedang cari apa di kantor\n"
          ]
        }
      ]
    },
    {
      "cell_type": "markdown",
      "source": [
        "function nya bisa juga punya campuran argument yang required dan yang default. dengan catatan, argument yang required harus ditulis duluan."
      ],
      "metadata": {
        "id": "o_ay189my43u"
      }
    },
    {
      "cell_type": "code",
      "source": [
        "# misalkan kita harus tau waktunya, kapan kita menyapa. siapa dan dimana optional\n",
        "\n",
        "def menyapa(kapan, siapa=\"pak/bu\", dimana=\"sini\"):\n",
        "  print(\"halo \" + siapa)\n",
        "  print(\"selamat \" + kapan + \", sedang cari apa di \" + dimana)"
      ],
      "metadata": {
        "id": "26Od91cDy1Qc"
      },
      "execution_count": 42,
      "outputs": []
    },
    {
      "cell_type": "code",
      "source": [
        "menyapa(dimana=\"kantor\", kapan=\"siang\")"
      ],
      "metadata": {
        "colab": {
          "base_uri": "https://localhost:8080/"
        },
        "id": "iikeED4Czi5x",
        "outputId": "c6277856-db9f-40bb-bfc5-ea66ee924f95"
      },
      "execution_count": 43,
      "outputs": [
        {
          "output_type": "stream",
          "name": "stdout",
          "text": [
            "halo pak/bu\n",
            "selamat siang, sedang cari apa di kantor\n"
          ]
        }
      ]
    },
    {
      "cell_type": "code",
      "source": [
        "menyapa(\"siang\", dimana=\"kantor\")"
      ],
      "metadata": {
        "colab": {
          "base_uri": "https://localhost:8080/"
        },
        "id": "GpPvTPhRzoDi",
        "outputId": "7ebde2f2-eeec-4f69-98da-1322453711c1"
      },
      "execution_count": 44,
      "outputs": [
        {
          "output_type": "stream",
          "name": "stdout",
          "text": [
            "halo pak/bu\n",
            "selamat siang, sedang cari apa di kantor\n"
          ]
        }
      ]
    },
    {
      "cell_type": "markdown",
      "source": [
        "sejauh ini, semua argument kita hanya bisa diisi SATU (1) data. satu list, satu string, satu integer... tapi ada tipe argumen yang isinya variatif, kadang 0, kadang 5, bisa bebas.\n",
        "- variable-length argument"
      ],
      "metadata": {
        "id": "pWX7b8pWzy-9"
      }
    },
    {
      "cell_type": "code",
      "source": [
        "# kita buat function untuk menilai ujian murid-murid\n",
        "\n",
        "def grading(nama_kelas, *kumpulan_nilai):\n",
        "  print(nama_kelas)\n",
        "  print(kumpulan_nilai)"
      ],
      "metadata": {
        "id": "3nhEMmPazrxK"
      },
      "execution_count": 45,
      "outputs": []
    },
    {
      "cell_type": "code",
      "source": [
        "grading(\"A\", 50, 70, 100)"
      ],
      "metadata": {
        "colab": {
          "base_uri": "https://localhost:8080/"
        },
        "id": "qIgVkBxM0fsP",
        "outputId": "6a77564c-729c-447c-c0de-091e9093d981"
      },
      "execution_count": 46,
      "outputs": [
        {
          "output_type": "stream",
          "name": "stdout",
          "text": [
            "A\n",
            "(50, 70, 100)\n"
          ]
        }
      ]
    },
    {
      "cell_type": "markdown",
      "source": [
        "pada saat membuat function, penggunaan variable length argument harus ditulis terakhir, setelah required dan default argument."
      ],
      "metadata": {
        "id": "zfCiF4aK03Cw"
      }
    },
    {
      "cell_type": "code",
      "source": [
        "def grading(*kumpulan_nilai, nama_kelas):\n",
        "  print(nama_kelas)\n",
        "  print(kumpulan_nilai)"
      ],
      "metadata": {
        "id": "d5OXUDdg0jCW"
      },
      "execution_count": 47,
      "outputs": []
    },
    {
      "cell_type": "code",
      "source": [
        "grading(nama_kelas=\"A\", 50, 70, 100)"
      ],
      "metadata": {
        "colab": {
          "base_uri": "https://localhost:8080/",
          "height": 131
        },
        "id": "pDS8Pb0H0th-",
        "outputId": "7ce6e73f-37eb-4d12-bfa6-3da2d3e87273"
      },
      "execution_count": 49,
      "outputs": [
        {
          "output_type": "error",
          "ename": "SyntaxError",
          "evalue": "ignored",
          "traceback": [
            "\u001b[0;36m  File \u001b[0;32m\"<ipython-input-49-55db875a97ca>\"\u001b[0;36m, line \u001b[0;32m1\u001b[0m\n\u001b[0;31m    grading(nama_kelas=\"A\", 50, 70, 100)\u001b[0m\n\u001b[0m                           ^\u001b[0m\n\u001b[0;31mSyntaxError\u001b[0m\u001b[0;31m:\u001b[0m positional argument follows keyword argument\n"
          ]
        }
      ]
    },
    {
      "cell_type": "markdown",
      "source": [
        "contoh, untuk function grading, kita convert setiap nilai yang diberikan menjadi grade A (90-100), B (61-89), C (50-60), dan D (0-49)"
      ],
      "metadata": {
        "id": "ABYqud_41GeA"
      }
    },
    {
      "cell_type": "code",
      "source": [
        "def grading(nama_kelas, *kumpulan_nilai):\n",
        "  print(\"Untuk kelas\", nama_kelas, \" grade adalah sebagai berikut:\")\n",
        "  for nilai in kumpulan_nilai:\n",
        "    grade = \"\"\n",
        "    if (nilai >= 90):\n",
        "      grade = \"A\"\n",
        "    elif (nilai >= 61):\n",
        "      grade = \"B\"\n",
        "    elif (nilai >=50):\n",
        "      grade = \"C\"\n",
        "    else:\n",
        "      grade = \"D\"\n",
        "    print(\"dengan nilai\", nilai, \"grade nya\", grade)"
      ],
      "metadata": {
        "id": "dHKb5duh0u0-"
      },
      "execution_count": 50,
      "outputs": []
    },
    {
      "cell_type": "code",
      "source": [
        "grading(\"Python Batch 007\", 50, 70, 100)"
      ],
      "metadata": {
        "colab": {
          "base_uri": "https://localhost:8080/"
        },
        "id": "xqNQvjy91tW0",
        "outputId": "d40b1aac-b051-419d-f5a6-5a3cdefdbe8d"
      },
      "execution_count": 51,
      "outputs": [
        {
          "output_type": "stream",
          "name": "stdout",
          "text": [
            "Untuk kelas Python Batch 007  grade adalah sebagai berikut:\n",
            "dengan nilai 50 grade nya C\n",
            "dengan nilai 70 grade nya B\n",
            "dengan nilai 100 grade nya A\n"
          ]
        }
      ]
    },
    {
      "cell_type": "code",
      "source": [
        "grading(\"Python Batch 008\", 95)"
      ],
      "metadata": {
        "colab": {
          "base_uri": "https://localhost:8080/"
        },
        "id": "xI7mBl__1xlc",
        "outputId": "262b135a-ecc8-49bc-b39a-7719dfae4d47"
      },
      "execution_count": 52,
      "outputs": [
        {
          "output_type": "stream",
          "name": "stdout",
          "text": [
            "Untuk kelas Python Batch 008  grade adalah sebagai berikut:\n",
            "dengan nilai 95 grade nya A\n"
          ]
        }
      ]
    },
    {
      "cell_type": "code",
      "source": [
        "grading(\"Python Batch 013\")"
      ],
      "metadata": {
        "colab": {
          "base_uri": "https://localhost:8080/"
        },
        "id": "-ZLmXAz113Bk",
        "outputId": "1d59f99a-c4fe-4747-be77-29e4481a460c"
      },
      "execution_count": 53,
      "outputs": [
        {
          "output_type": "stream",
          "name": "stdout",
          "text": [
            "Untuk kelas Python Batch 013  grade adalah sebagai berikut:\n"
          ]
        }
      ]
    },
    {
      "cell_type": "markdown",
      "source": [
        "function - mengelompokkan code\n",
        "\n",
        "module - file `.py`, file python untuk menyimpan code python, termasuk code, variable, function, dan class.\n",
        "\n",
        "file module bisa kita jalankan sebagai script"
      ],
      "metadata": {
        "id": "B5Np7fby2F2V"
      }
    },
    {
      "cell_type": "code",
      "source": [],
      "metadata": {
        "id": "D6aq5Iuw16LL"
      },
      "execution_count": null,
      "outputs": []
    },
    {
      "cell_type": "markdown",
      "source": [
        "anonymous function - membuat function yang tidak punya nama menggunakan keyword \"lambda\"\n",
        "\n",
        "format function nya harus mempunyai argumen dan return"
      ],
      "metadata": {
        "id": "UdqAVnpZ2oYj"
      }
    },
    {
      "cell_type": "code",
      "source": [
        "# cara tulis function yang sedikit berbeda\n",
        "\n",
        "def sumA(a, b):\n",
        "  return a + b\n",
        "\n",
        "sumB = lambda a, b: a + b;\n",
        "\n",
        "print(sumA(10,20))\n",
        "print(sumB(10,20))"
      ],
      "metadata": {
        "colab": {
          "base_uri": "https://localhost:8080/"
        },
        "id": "j61QGHM12w3h",
        "outputId": "805e5dd6-a06f-4181-9e7d-93cdb8898f5c"
      },
      "execution_count": 54,
      "outputs": [
        {
          "output_type": "stream",
          "name": "stdout",
          "text": [
            "30\n",
            "30\n"
          ]
        }
      ]
    },
    {
      "cell_type": "markdown",
      "source": [
        "# Global vs Local variables\n",
        "scope, kapan variable bisa di akses\n",
        "- global, semua tempat bisa akses\n",
        "- lokal, hanya daerah lokal bisa akses\n",
        "\n"
      ],
      "metadata": {
        "id": "WJtIrJS13t7Q"
      }
    },
    {
      "cell_type": "code",
      "source": [
        "mainan = \"mobil mobilan merah\"\n",
        "\n",
        "def andi(makanan, mainan):\n",
        "  print(\"andi punya makanan dan mainan berikut:\")\n",
        "  print(makanan, mainan)\n",
        "\n",
        "def budi(makanan, hp):\n",
        "  print(\"budi punya makanan dan hp berikut:\")\n",
        "  print(makanan, hp)\n",
        "  print(mainan)\n",
        "  # function budi tidak bisa akses variable mainan yang dibuat di function andi\n",
        "  # functio budi bisa akses variable mainan yang di global"
      ],
      "metadata": {
        "id": "oCL4MhGy27Dg"
      },
      "execution_count": 56,
      "outputs": []
    },
    {
      "cell_type": "code",
      "source": [
        "budi(\"nasi goreng\", \"xiaoma\")"
      ],
      "metadata": {
        "colab": {
          "base_uri": "https://localhost:8080/"
        },
        "id": "2aeyy_Kp4iIi",
        "outputId": "25b0fec7-162d-45f1-db9e-74dca64561ef"
      },
      "execution_count": 58,
      "outputs": [
        {
          "output_type": "stream",
          "name": "stdout",
          "text": [
            "budi punya makanan dan hp berikut:\n",
            "nasi goreng xiaoma\n",
            "mobil mobilan merah\n"
          ]
        }
      ]
    },
    {
      "cell_type": "code",
      "source": [
        "andi(\"burger\", \"playdough biru\")"
      ],
      "metadata": {
        "colab": {
          "base_uri": "https://localhost:8080/"
        },
        "id": "vBgkQ2lP4kRb",
        "outputId": "7e35d3a6-3365-4267-f2ed-3290b7226629"
      },
      "execution_count": 59,
      "outputs": [
        {
          "output_type": "stream",
          "name": "stdout",
          "text": [
            "andi punya makanan dan mainan berikut:\n",
            "burger playdough biru\n"
          ]
        }
      ]
    },
    {
      "cell_type": "markdown",
      "source": [
        "note: tidak direkomen membuat function yang bergantung pada variable global\n",
        "\n",
        "sebisa mungkin membuat function jangan bergantung ke data di luar function, dan jangan mengubah data di luar function."
      ],
      "metadata": {
        "id": "UfAw1tzT48F1"
      }
    },
    {
      "cell_type": "markdown",
      "source": [
        "# Module\n",
        "file .py, file python untuk menyimpan code python, termasuk code, variable, function, dan class.\n",
        "\n",
        "saat membuat sebuah program, biasanya program tersebut di pisah pisah menjadi banyak bagian.\n",
        "- simplicity, lebih simple untuk mengerjakan sebagian kecil code daripada semuanya sekaligus.\n",
        "- maintainability\n",
        "- reusability\n",
        "- scoping"
      ],
      "metadata": {
        "id": "WQLr55P05iP9"
      }
    },
    {
      "cell_type": "code",
      "source": [
        "# namespace, untuk cek nama nama variable, function, class, dan lainnya\n",
        "# yang sudah terpakai\n",
        "dir()"
      ],
      "metadata": {
        "colab": {
          "base_uri": "https://localhost:8080/"
        },
        "id": "6Chgoo7r4vWb",
        "outputId": "04ecfc0a-0644-4989-c5cb-ffc3e2c4247a"
      },
      "execution_count": 60,
      "outputs": [
        {
          "output_type": "execute_result",
          "data": {
            "text/plain": [
              "['In',\n",
              " 'Out',\n",
              " '_',\n",
              " '_10',\n",
              " '_2',\n",
              " '__',\n",
              " '___',\n",
              " '__builtin__',\n",
              " '__builtins__',\n",
              " '__doc__',\n",
              " '__loader__',\n",
              " '__name__',\n",
              " '__package__',\n",
              " '__spec__',\n",
              " '_dh',\n",
              " '_i',\n",
              " '_i1',\n",
              " '_i10',\n",
              " '_i11',\n",
              " '_i12',\n",
              " '_i13',\n",
              " '_i14',\n",
              " '_i15',\n",
              " '_i16',\n",
              " '_i17',\n",
              " '_i18',\n",
              " '_i19',\n",
              " '_i2',\n",
              " '_i20',\n",
              " '_i21',\n",
              " '_i22',\n",
              " '_i23',\n",
              " '_i24',\n",
              " '_i25',\n",
              " '_i26',\n",
              " '_i27',\n",
              " '_i28',\n",
              " '_i29',\n",
              " '_i3',\n",
              " '_i30',\n",
              " '_i31',\n",
              " '_i32',\n",
              " '_i33',\n",
              " '_i34',\n",
              " '_i35',\n",
              " '_i36',\n",
              " '_i37',\n",
              " '_i38',\n",
              " '_i39',\n",
              " '_i4',\n",
              " '_i40',\n",
              " '_i41',\n",
              " '_i42',\n",
              " '_i43',\n",
              " '_i44',\n",
              " '_i45',\n",
              " '_i46',\n",
              " '_i47',\n",
              " '_i48',\n",
              " '_i49',\n",
              " '_i5',\n",
              " '_i50',\n",
              " '_i51',\n",
              " '_i52',\n",
              " '_i53',\n",
              " '_i54',\n",
              " '_i55',\n",
              " '_i56',\n",
              " '_i57',\n",
              " '_i58',\n",
              " '_i59',\n",
              " '_i6',\n",
              " '_i60',\n",
              " '_i7',\n",
              " '_i8',\n",
              " '_i9',\n",
              " '_ih',\n",
              " '_ii',\n",
              " '_iii',\n",
              " '_oh',\n",
              " 'andi',\n",
              " 'angka',\n",
              " 'ayoBelajar',\n",
              " 'buah',\n",
              " 'budi',\n",
              " 'exit',\n",
              " 'get_ipython',\n",
              " 'grading',\n",
              " 'hasil_function',\n",
              " 'hasil_return',\n",
              " 'huruf',\n",
              " 'list_buah',\n",
              " 'mainan',\n",
              " 'menyapa',\n",
              " 'nilai',\n",
              " 'quit',\n",
              " 'sumA',\n",
              " 'sumB',\n",
              " 'tambahBuah',\n",
              " 'tambahTambahan']"
            ]
          },
          "metadata": {},
          "execution_count": 60
        }
      ]
    },
    {
      "cell_type": "code",
      "source": [
        "# import module untuk memakai code yang ada di dalam module tersebut\n",
        "\n",
        "import cindy"
      ],
      "metadata": {
        "id": "hPmKVlgt6jJG"
      },
      "execution_count": 61,
      "outputs": []
    },
    {
      "cell_type": "code",
      "source": [
        "print(cindy.nama)\n",
        "print(cindy.umur)\n",
        "print(cindy.hobi)"
      ],
      "metadata": {
        "colab": {
          "base_uri": "https://localhost:8080/"
        },
        "id": "eLplzMSf7S27",
        "outputId": "07b47545-b66a-4b15-a4a5-7ca11611ba40"
      },
      "execution_count": 62,
      "outputs": [
        {
          "output_type": "stream",
          "name": "stdout",
          "text": [
            "Cindy\n",
            "52\n",
            "['masak', 'coding']\n"
          ]
        }
      ]
    },
    {
      "cell_type": "code",
      "source": [
        "cindy.menyapa()"
      ],
      "metadata": {
        "colab": {
          "base_uri": "https://localhost:8080/"
        },
        "id": "JyY44Hjd7ZBb",
        "outputId": "486ba60e-1a90-4cc5-d30d-3fc5ccd77d3a"
      },
      "execution_count": 63,
      "outputs": [
        {
          "output_type": "stream",
          "name": "stdout",
          "text": [
            "salam kenal, saya bu Cindy\n"
          ]
        }
      ]
    },
    {
      "cell_type": "code",
      "source": [
        "nama = \"Andhika Widjaja\"\n",
        "\n",
        "print(cindy.nama)"
      ],
      "metadata": {
        "colab": {
          "base_uri": "https://localhost:8080/"
        },
        "id": "k_8FKSiu7eFy",
        "outputId": "f28f0fb0-4dc6-475c-bdd1-7b2ee6dec1a0"
      },
      "execution_count": 64,
      "outputs": [
        {
          "output_type": "stream",
          "name": "stdout",
          "text": [
            "Cindy\n"
          ]
        }
      ]
    },
    {
      "cell_type": "markdown",
      "source": [
        "menggunakan variable \"nama\" di file ini tidak mengganggun variable \"nama\" di file module cindy.py"
      ],
      "metadata": {
        "id": "8txtbzpd_jls"
      }
    },
    {
      "cell_type": "code",
      "source": [
        "import dani"
      ],
      "metadata": {
        "id": "mFjsTPg__iM3"
      },
      "execution_count": 65,
      "outputs": []
    },
    {
      "cell_type": "code",
      "source": [
        "print(dani.nama, dani.umur, dani.hobi)\n",
        "dani.menyapa()"
      ],
      "metadata": {
        "colab": {
          "base_uri": "https://localhost:8080/"
        },
        "id": "4mu7PLet_6g9",
        "outputId": "b5a6c5f3-4ec2-4fe5-eda5-628854602a00"
      },
      "execution_count": 66,
      "outputs": [
        {
          "output_type": "stream",
          "name": "stdout",
          "text": [
            "Dani 47 ['sepeda', 'boxing']\n",
            "yo salken, aku Dani!\n"
          ]
        }
      ]
    },
    {
      "cell_type": "code",
      "source": [
        "# cek file notebook ini nyari file module python \".py\" dimana aja\n",
        "\n",
        "import sys\n",
        "sys.path"
      ],
      "metadata": {
        "colab": {
          "base_uri": "https://localhost:8080/"
        },
        "id": "SAzZJJ0OABod",
        "outputId": "7846ec67-a8d4-414a-846e-65465742fb97"
      },
      "execution_count": 67,
      "outputs": [
        {
          "output_type": "execute_result",
          "data": {
            "text/plain": [
              "['/content',\n",
              " '/env/python',\n",
              " '/usr/lib/python37.zip',\n",
              " '/usr/lib/python3.7',\n",
              " '/usr/lib/python3.7/lib-dynload',\n",
              " '',\n",
              " '/usr/local/lib/python3.7/dist-packages',\n",
              " '/usr/lib/python3/dist-packages',\n",
              " '/usr/local/lib/python3.7/dist-packages/IPython/extensions',\n",
              " '/root/.ipython']"
            ]
          },
          "metadata": {},
          "execution_count": 67
        }
      ]
    },
    {
      "cell_type": "code",
      "source": [
        "sys.path.append('/mods_buatan')\n",
        "sys.path"
      ],
      "metadata": {
        "colab": {
          "base_uri": "https://localhost:8080/"
        },
        "id": "rQfRetwqAuob",
        "outputId": "5349c2c8-92d9-4dd5-9ad1-c70f878d4e43"
      },
      "execution_count": 68,
      "outputs": [
        {
          "output_type": "execute_result",
          "data": {
            "text/plain": [
              "['/content',\n",
              " '/env/python',\n",
              " '/usr/lib/python37.zip',\n",
              " '/usr/lib/python3.7',\n",
              " '/usr/lib/python3.7/lib-dynload',\n",
              " '',\n",
              " '/usr/local/lib/python3.7/dist-packages',\n",
              " '/usr/lib/python3/dist-packages',\n",
              " '/usr/local/lib/python3.7/dist-packages/IPython/extensions',\n",
              " '/root/.ipython',\n",
              " '/mods_buatan']"
            ]
          },
          "metadata": {},
          "execution_count": 68
        }
      ]
    },
    {
      "cell_type": "markdown",
      "source": [
        "kita bisa gunakan sys.path untuk mengecek file notebook ini mencari file \".py\" untuk di import dari folder mana saja. kita juga bisa tambahin folder tertentu yang nanti dipakai untuk cari file \".py\" juga.\n",
        "\n",
        "note untuk colab: file yang kita buat sifatnya tidak permanen, jadi jangan lupa untuk save file \".py\" yang sudah dibuat, upload ke google drive (kalau mau) sebagai backup. cara lebih permanen connect colab dengan google drive juga bisa dilakukan."
      ],
      "metadata": {
        "id": "xfhO0eMRBHpH"
      }
    },
    {
      "cell_type": "code",
      "source": [
        "# cara import module bisa ditambahkan alias, nickname, nama yang biasanya lebih pendek\n",
        "\n",
        "import dani as dn\n",
        "import cindy as cn"
      ],
      "metadata": {
        "id": "-UEuL4xaBD0h"
      },
      "execution_count": 69,
      "outputs": []
    },
    {
      "cell_type": "code",
      "source": [
        "dn.menyapa()\n",
        "\n",
        "cn.menyapa()"
      ],
      "metadata": {
        "colab": {
          "base_uri": "https://localhost:8080/"
        },
        "id": "4597yLxYB52_",
        "outputId": "a461153b-15b7-468f-917f-7d3589f8c074"
      },
      "execution_count": 70,
      "outputs": [
        {
          "output_type": "stream",
          "name": "stdout",
          "text": [
            "yo salken, aku Dani!\n",
            "salam kenal, saya bu Cindy\n"
          ]
        }
      ]
    },
    {
      "cell_type": "code",
      "source": [
        "# import sebagian saja dari sebuah module, juga bisa.\n",
        "# misalkan sebuah function saja, sebuah variable saja\n",
        "\n",
        "from dani import menyapa as daniHi"
      ],
      "metadata": {
        "id": "DjWpY67-B9Jv"
      },
      "execution_count": 71,
      "outputs": []
    },
    {
      "cell_type": "code",
      "source": [
        "daniHi()"
      ],
      "metadata": {
        "colab": {
          "base_uri": "https://localhost:8080/"
        },
        "id": "wVJ584c7CHw3",
        "outputId": "c6a007e6-19cc-4547-ed53-dff8078a55dd"
      },
      "execution_count": 72,
      "outputs": [
        {
          "output_type": "stream",
          "name": "stdout",
          "text": [
            "yo salken, aku Dani!\n"
          ]
        }
      ]
    },
    {
      "cell_type": "code",
      "source": [
        "# import beberapa juga bisa\n",
        "from cindy import nama, hobi, umur"
      ],
      "metadata": {
        "id": "xZY6hh5yCIo_"
      },
      "execution_count": 73,
      "outputs": []
    },
    {
      "cell_type": "code",
      "source": [
        "print(nama, hobi, umur)"
      ],
      "metadata": {
        "colab": {
          "base_uri": "https://localhost:8080/"
        },
        "id": "ucDeNQweCTtn",
        "outputId": "44ca9014-9e17-43d5-c441-67e2f989a761"
      },
      "execution_count": 74,
      "outputs": [
        {
          "output_type": "stream",
          "name": "stdout",
          "text": [
            "Cindy ['masak', 'coding'] 52\n"
          ]
        }
      ]
    },
    {
      "cell_type": "code",
      "source": [
        "# import semuanya juga bisa\n",
        "from cindy import *"
      ],
      "metadata": {
        "id": "eHV5BOSbCVpn"
      },
      "execution_count": 75,
      "outputs": []
    },
    {
      "cell_type": "code",
      "source": [
        "menyapa()"
      ],
      "metadata": {
        "colab": {
          "base_uri": "https://localhost:8080/"
        },
        "id": "0mwWlb4DCZ_e",
        "outputId": "6c5e040d-1f6f-4808-ddb5-a2a64e0291fd"
      },
      "execution_count": 76,
      "outputs": [
        {
          "output_type": "stream",
          "name": "stdout",
          "text": [
            "salam kenal, saya bu Cindy\n"
          ]
        }
      ]
    },
    {
      "cell_type": "code",
      "source": [
        "import cindy\n",
        "import cindy\n",
        "import cindy\n",
        "import cindy\n",
        "import cindy\n",
        "\n",
        "# python tidak import ulang karena sudah pernah di import\n",
        "\n",
        "print(cindy.nama)"
      ],
      "metadata": {
        "colab": {
          "base_uri": "https://localhost:8080/"
        },
        "id": "xGlBEQMRCa3W",
        "outputId": "c7ccf0c3-c7e5-4ebb-80d3-4db90aa06f33"
      },
      "execution_count": 79,
      "outputs": [
        {
          "output_type": "stream",
          "name": "stdout",
          "text": [
            "Cindy\n"
          ]
        }
      ]
    },
    {
      "cell_type": "code",
      "source": [
        "# untuk memaksa import ulang, kita pakai importlib.reload(nama_module)\n",
        "\n",
        "import importlib\n",
        "importlib.reload(cindy)\n",
        "\n",
        "print(cindy.nama)"
      ],
      "metadata": {
        "colab": {
          "base_uri": "https://localhost:8080/"
        },
        "id": "vqoNiLWUHx7X",
        "outputId": "82f576bb-dec3-4c0b-fc8e-4d037b8943ac"
      },
      "execution_count": 80,
      "outputs": [
        {
          "output_type": "stream",
          "name": "stdout",
          "text": [
            "Cindy Chrysilla\n"
          ]
        }
      ]
    },
    {
      "cell_type": "markdown",
      "source": [
        "# Package\n",
        "package adalah sebuah folder berisi banyak file module (1+ file module)"
      ],
      "metadata": {
        "id": "s3DMXJKrILvI"
      }
    },
    {
      "cell_type": "code",
      "source": [],
      "metadata": {
        "id": "MyG71ZrKIHuV"
      },
      "execution_count": null,
      "outputs": []
    }
  ]
}