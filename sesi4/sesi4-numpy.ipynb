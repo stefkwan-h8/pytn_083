{
 "cells": [
  {
   "cell_type": "code",
   "execution_count": 1,
   "metadata": {},
   "outputs": [],
   "source": [
    "import numpy as np"
   ]
  },
  {
   "cell_type": "code",
   "execution_count": 3,
   "metadata": {},
   "outputs": [
    {
     "ename": "TypeError",
     "evalue": "can't multiply sequence by non-int of type 'list'",
     "output_type": "error",
     "traceback": [
      "\u001b[1;31m---------------------------------------------------------------------------\u001b[0m",
      "\u001b[1;31mTypeError\u001b[0m                                 Traceback (most recent call last)",
      "\u001b[1;32mc:\\Users\\stefa\\hacktiv\\PYTN\\83\\sesi4\\sesi4-numpy.ipynb Cell 2\u001b[0m in \u001b[0;36m<cell line: 6>\u001b[1;34m()\u001b[0m\n\u001b[0;32m      <a href='vscode-notebook-cell:/c%3A/Users/stefa/hacktiv/PYTN/83/sesi4/sesi4-numpy.ipynb#W1sZmlsZQ%3D%3D?line=2'>3</a>\u001b[0m list_panjang \u001b[39m=\u001b[39m [\u001b[39m50\u001b[39m, \u001b[39m37.5\u001b[39m, \u001b[39m100\u001b[39m, \u001b[39m35\u001b[39m]\n\u001b[0;32m      <a href='vscode-notebook-cell:/c%3A/Users/stefa/hacktiv/PYTN/83/sesi4/sesi4-numpy.ipynb#W1sZmlsZQ%3D%3D?line=4'>5</a>\u001b[0m \u001b[39m# luas masing2 kertas kita berapa?\u001b[39;00m\n\u001b[1;32m----> <a href='vscode-notebook-cell:/c%3A/Users/stefa/hacktiv/PYTN/83/sesi4/sesi4-numpy.ipynb#W1sZmlsZQ%3D%3D?line=5'>6</a>\u001b[0m area \u001b[39m=\u001b[39m list_lebar \u001b[39m*\u001b[39;49m list_panjang\n\u001b[0;32m      <a href='vscode-notebook-cell:/c%3A/Users/stefa/hacktiv/PYTN/83/sesi4/sesi4-numpy.ipynb#W1sZmlsZQ%3D%3D?line=6'>7</a>\u001b[0m \u001b[39mprint\u001b[39m(area)\n",
      "\u001b[1;31mTypeError\u001b[0m: can't multiply sequence by non-int of type 'list'"
     ]
    }
   ],
   "source": [
    "# misalnya kita punya list isi panjang, dan list isi lebar untuk ukuran kertas kita\n",
    "list_lebar = [50, 30, 25, 70]\n",
    "list_panjang = [50, 37.5, 100, 35]\n",
    "\n",
    "# luas masing2 kertas kita berapa?\n",
    "area = list_lebar * list_panjang\n",
    "print(area)"
   ]
  },
  {
   "cell_type": "code",
   "execution_count": 4,
   "metadata": {},
   "outputs": [
    {
     "name": "stdout",
     "output_type": "stream",
     "text": [
      "[2500. 1125. 2500. 2450.]\n"
     ]
    }
   ],
   "source": [
    "# kita gunakan tipe data numpy, yaitu numpy array\n",
    "# semua data yang ada di dalam numpy array adalah numerik\n",
    "\n",
    "arr_lebar = np.array(list_lebar)\n",
    "arr_panjang = np.array(list_panjang)\n",
    "\n",
    "area = arr_lebar * arr_panjang\n",
    "print(area)"
   ]
  },
  {
   "cell_type": "markdown",
   "metadata": {},
   "source": [
    "# Numpy\n",
    "module/package numerical python.\n",
    "\n",
    "Di dalam numpy ini ada tipe data baru: numpy array, numpy.ndarray\n",
    "- CRUD, create read update delete, membuat, membaca, mengupdate, mengahapus numpy array\n",
    "\n",
    "Ada banyak built-in function untuk memproses data sebuah numpy array.\n",
    "- mean, std dev, variance, min, max, dll\n",
    "- banyak juga function untuk membuat dan mengubah numpy array\n",
    "\n",
    "Ada beberapa peraturan dalam pembuatan sebuah numpy array."
   ]
  },
  {
   "cell_type": "markdown",
   "metadata": {},
   "source": [
    "## Create\n",
    "membuat numpy array dengan cara:\n",
    "1. np.array(list_angka)\n",
    "2. np.ones(ukuran_arr), np.zeros(ukuran_arr)\n",
    "3. np.random.random(ukuran_arr)\n",
    "4. np.arange(angka awal, angka akhir, increment) -- cara pakenya sama seperti range()"
   ]
  },
  {
   "cell_type": "code",
   "execution_count": 7,
   "metadata": {},
   "outputs": [
    {
     "name": "stdout",
     "output_type": "stream",
     "text": [
      "[50, 30, 25, 70] <class 'list'>\n",
      "[50 30 25 70] <class 'numpy.ndarray'>\n"
     ]
    }
   ],
   "source": [
    "# cara membuat numpy array\n",
    "# 1. convert list atau tuple menjadi numpy array\n",
    "\n",
    "print(list_lebar, type(list_lebar))\n",
    "\n",
    "arr = np.array(list_lebar)\n",
    "print(arr, type(arr))"
   ]
  },
  {
   "cell_type": "code",
   "execution_count": 8,
   "metadata": {},
   "outputs": [
    {
     "name": "stdout",
     "output_type": "stream",
     "text": [
      "[-2.   56.45  3.  ] <class 'numpy.ndarray'>\n"
     ]
    }
   ],
   "source": [
    "\n",
    "arr = np.array([-2,56.45,3])\n",
    "print(arr, type(arr))"
   ]
  },
  {
   "cell_type": "code",
   "execution_count": 9,
   "metadata": {},
   "outputs": [
    {
     "name": "stdout",
     "output_type": "stream",
     "text": [
      "[[1]\n",
      " [2]\n",
      " [3]] <class 'numpy.ndarray'>\n"
     ]
    }
   ],
   "source": [
    "\n",
    "arr = np.array([[1],[2],[3]])\n",
    "print(arr, type(arr))"
   ]
  },
  {
   "cell_type": "code",
   "execution_count": 10,
   "metadata": {},
   "outputs": [
    {
     "name": "stdout",
     "output_type": "stream",
     "text": [
      "[0. 0. 0. 0. 0. 0. 0. 0. 0. 0.] <class 'numpy.ndarray'>\n"
     ]
    }
   ],
   "source": [
    "# 2.a. generate numpy array yang isinya angka 0 semua\n",
    "\n",
    "arr0 = np.zeros(10)\n",
    "print(arr0, type(arr0))"
   ]
  },
  {
   "cell_type": "code",
   "execution_count": 15,
   "metadata": {},
   "outputs": [
    {
     "name": "stdout",
     "output_type": "stream",
     "text": [
      "[[0. 0. 0. 0.]\n",
      " [0. 0. 0. 0.]] <class 'numpy.ndarray'>\n"
     ]
    }
   ],
   "source": [
    "arr0 = np.zeros((2,4))\n",
    "print(arr0, type(arr0))"
   ]
  },
  {
   "cell_type": "code",
   "execution_count": 32,
   "metadata": {},
   "outputs": [
    {
     "data": {
      "text/plain": [
       "array([[3., 3., 3., 3.],\n",
       "       [3., 3., 3., 3.]])"
      ]
     },
     "execution_count": 32,
     "metadata": {},
     "output_type": "execute_result"
    }
   ],
   "source": [
    "arr0 + 3"
   ]
  },
  {
   "cell_type": "code",
   "execution_count": 12,
   "metadata": {},
   "outputs": [
    {
     "name": "stdout",
     "output_type": "stream",
     "text": [
      "[1. 1. 1.] <class 'numpy.ndarray'>\n"
     ]
    }
   ],
   "source": [
    "# 2.b. generate numpy array yang isinya angka 1 semua\n",
    "\n",
    "arr1 = np.ones(3)\n",
    "print(arr1, type(arr1))"
   ]
  },
  {
   "cell_type": "code",
   "execution_count": 13,
   "metadata": {},
   "outputs": [
    {
     "name": "stdout",
     "output_type": "stream",
     "text": [
      "[[1. 1. 1. 1. 1.]\n",
      " [1. 1. 1. 1. 1.]\n",
      " [1. 1. 1. 1. 1.]] <class 'numpy.ndarray'>\n"
     ]
    }
   ],
   "source": [
    "\n",
    "arr1 = np.ones((3, 5))\n",
    "print(arr1, type(arr1))"
   ]
  },
  {
   "cell_type": "code",
   "execution_count": 33,
   "metadata": {},
   "outputs": [
    {
     "data": {
      "text/plain": [
       "array([[7., 7., 7., 7., 7.],\n",
       "       [7., 7., 7., 7., 7.],\n",
       "       [7., 7., 7., 7., 7.]])"
      ]
     },
     "execution_count": 33,
     "metadata": {},
     "output_type": "execute_result"
    }
   ],
   "source": [
    "arr1 * 7"
   ]
  },
  {
   "cell_type": "code",
   "execution_count": 17,
   "metadata": {},
   "outputs": [
    {
     "name": "stdout",
     "output_type": "stream",
     "text": [
      "[0.80990534 0.42882813 0.39206056 0.6090659  0.58353882 0.75447719\n",
      " 0.99144489 0.16083608 0.63770226 0.90991784]\n"
     ]
    }
   ],
   "source": [
    "# 3. menggunakan np.random.random untuk membuat numpy array isi angka random antara 0-1\n",
    "\n",
    "arr_random = np.random.random(10)\n",
    "print(arr_random)"
   ]
  },
  {
   "cell_type": "code",
   "execution_count": 26,
   "metadata": {},
   "outputs": [
    {
     "name": "stdout",
     "output_type": "stream",
     "text": [
      "[10 10  2 10  3  5  6  7  5  5]\n"
     ]
    }
   ],
   "source": [
    "# dengan tambah teknik numpy yang namanya \"broadcasting\"\n",
    "# dan fungsi astype() untuk mengubah tipe data\n",
    "# kita bisa bikin numpy array berisi angka random antara 1-10\n",
    "\n",
    "\n",
    "arr10 = (np.random.random(10) * 10 + 1).astype(int)\n",
    "print(arr10)"
   ]
  },
  {
   "cell_type": "code",
   "execution_count": 27,
   "metadata": {},
   "outputs": [
    {
     "name": "stdout",
     "output_type": "stream",
     "text": [
      "[4 5 4 4 1 4 6 2 1 6 4 1 3 4 4 2 6 3 1 3 2 5 5 3 6 1 5 3 6 5 1 1 5 1 5 3 4\n",
      " 4 2 2 1 2 5 1 5 4 6 4 4 2 3 2 2 3 6 4 1 6 2 4 5 2 1 5 3 4 6 2 5 2 1 4 2 1\n",
      " 2 3 4 6 1 2 3 2 1 3 4 4 6 4 1 1 5 2 3 6 5 6 5 3 1 3]\n"
     ]
    }
   ],
   "source": [
    "# kita mau buat data hasil lempar dadu sebanyak 100 kali\n",
    "arr_dadu = (np.random.random(100) * 6 + 1).astype(int)\n",
    "print(arr_dadu)"
   ]
  },
  {
   "cell_type": "code",
   "execution_count": 18,
   "metadata": {},
   "outputs": [
    {
     "name": "stdout",
     "output_type": "stream",
     "text": [
      "[[0.03860634 0.8834084 ]\n",
      " [0.33657863 0.434111  ]\n",
      " [0.60267306 0.51205878]]\n"
     ]
    }
   ],
   "source": [
    "\n",
    "arr_random = np.random.random((3,2))\n",
    "print(arr_random)"
   ]
  },
  {
   "cell_type": "code",
   "execution_count": 19,
   "metadata": {},
   "outputs": [
    {
     "name": "stdout",
     "output_type": "stream",
     "text": [
      "[0 1 2 3 4]\n"
     ]
    }
   ],
   "source": [
    "# 4. numpy array isi angka urut\n",
    "# mirip range() yang digunakan untuk membuat angka urut\n",
    "arr_urut = np.arange(5)\n",
    "print(arr_urut)"
   ]
  },
  {
   "cell_type": "code",
   "execution_count": 22,
   "metadata": {},
   "outputs": [
    {
     "name": "stdout",
     "output_type": "stream",
     "text": [
      "[5 6 7 8 9]\n"
     ]
    }
   ],
   "source": [
    "\n",
    "arr_urut = np.arange(5,10)\n",
    "print(arr_urut)"
   ]
  },
  {
   "cell_type": "code",
   "execution_count": 23,
   "metadata": {},
   "outputs": [
    {
     "name": "stdout",
     "output_type": "stream",
     "text": [
      "[ 5 25 45 65 85]\n"
     ]
    }
   ],
   "source": [
    "\n",
    "arr_urut = np.arange(5,100,20)\n",
    "print(arr_urut)"
   ]
  },
  {
   "cell_type": "markdown",
   "metadata": {},
   "source": [
    "# broadcasting\n",
    "sebuah numpy array bisa melakukan aritmatik dengan sebuah angka numerik.\n",
    "\n",
    "array * / + - sebuah angka"
   ]
  },
  {
   "cell_type": "code",
   "execution_count": 30,
   "metadata": {},
   "outputs": [
    {
     "name": "stdout",
     "output_type": "stream",
     "text": [
      "[40 50 60]\n"
     ]
    }
   ],
   "source": [
    "hasil = np.array([4,5,6]) * 10\n",
    "print(hasil)"
   ]
  },
  {
   "cell_type": "code",
   "execution_count": 31,
   "metadata": {},
   "outputs": [
    {
     "name": "stdout",
     "output_type": "stream",
     "text": [
      "[-83.66666667 -80.33333333 -77.        ]\n"
     ]
    }
   ],
   "source": [
    "hasil = np.array([4,5,6]) * 10 / 3 + 3 -100\n",
    "print(hasil)"
   ]
  },
  {
   "cell_type": "markdown",
   "metadata": {},
   "source": [
    "## update\n",
    "kita belum ke cara read numpy array nya, kita cobain bbrp teknik update numpy array dulu\n",
    "- add/ np.append\n",
    "- remove/ np.delete\n",
    "- np.sort"
   ]
  },
  {
   "cell_type": "code",
   "execution_count": 34,
   "metadata": {},
   "outputs": [
    {
     "name": "stdout",
     "output_type": "stream",
     "text": [
      "[2 3 4] <class 'numpy.ndarray'>\n"
     ]
    }
   ],
   "source": [
    "a = np.array([2,3,4])\n",
    "print(a, type(a))"
   ]
  },
  {
   "cell_type": "code",
   "execution_count": 38,
   "metadata": {},
   "outputs": [
    {
     "name": "stdout",
     "output_type": "stream",
     "text": [
      "[2 3 4 5]\n",
      "[2 3 4] array awal nya tidak diubah\n"
     ]
    }
   ],
   "source": [
    "# add/ append\n",
    "b = np.append(a, 5)\n",
    "print(b)\n",
    "print(a, \"array awal nya tidak diubah\")"
   ]
  },
  {
   "cell_type": "code",
   "execution_count": 39,
   "metadata": {},
   "outputs": [
    {
     "name": "stdout",
     "output_type": "stream",
     "text": [
      "[2 3 4 5 6 7]\n"
     ]
    }
   ],
   "source": [
    "b = np.append(a, [5,6,7])\n",
    "print(b)"
   ]
  },
  {
   "cell_type": "code",
   "execution_count": 43,
   "metadata": {},
   "outputs": [
    {
     "name": "stdout",
     "output_type": "stream",
     "text": [
      "[ 2  3  4 10 14 30]\n"
     ]
    }
   ],
   "source": [
    "b = np.append(a, [10,14,30])\n",
    "print(b)"
   ]
  },
  {
   "cell_type": "code",
   "execution_count": 45,
   "metadata": {},
   "outputs": [
    {
     "name": "stdout",
     "output_type": "stream",
     "text": [
      "[ 2  3 10 14 30]\n",
      "[ 2  3  4 10 14 30] tidak mengubah data awal\n"
     ]
    }
   ],
   "source": [
    "# remove/ delete\n",
    "c = np.delete(b, 2)\n",
    "print(c)\n",
    "print(b, \"tidak mengubah data awal\")"
   ]
  },
  {
   "cell_type": "code",
   "execution_count": 48,
   "metadata": {},
   "outputs": [
    {
     "name": "stdout",
     "output_type": "stream",
     "text": [
      "[-0.5  2.7 -2.8  0.9  4.4  3.9  4.3 -1.2]\n"
     ]
    }
   ],
   "source": [
    "# sort\n",
    "a = (np.random.random(8)*100-50).astype(int)/10\n",
    "print(a)"
   ]
  },
  {
   "cell_type": "code",
   "execution_count": 49,
   "metadata": {},
   "outputs": [
    {
     "name": "stdout",
     "output_type": "stream",
     "text": [
      "[-2.8 -1.2 -0.5  0.9  2.7  3.9  4.3  4.4]\n"
     ]
    }
   ],
   "source": [
    "a_sorted = np.sort(a)\n",
    "print(a_sorted)"
   ]
  },
  {
   "cell_type": "markdown",
   "metadata": {},
   "source": [
    "## Read\n",
    "read properti sebuah numpy array nya seperti ukuran, dimensi, ada berapa angka di dalam sebuah numpy array:\n",
    "- arr.shape --> bentuk\n",
    "- arr.size --> jumlah angka yang ada di arr\n",
    "- arr.ndim --> dimensi"
   ]
  },
  {
   "cell_type": "code",
   "execution_count": 53,
   "metadata": {},
   "outputs": [
    {
     "name": "stdout",
     "output_type": "stream",
     "text": [
      "[-2.8 -1.2 -0.5  0.9  2.7  3.9  4.3  4.4]\n",
      "shape (8,)\n",
      "size 8\n",
      "dimensi 1\n"
     ]
    }
   ],
   "source": [
    "print(a_sorted)\n",
    "print(\"shape\", a_sorted.shape)\n",
    "print(\"size\", a_sorted.size)\n",
    "print(\"dimensi\", a_sorted.ndim)"
   ]
  },
  {
   "cell_type": "code",
   "execution_count": 54,
   "metadata": {},
   "outputs": [
    {
     "name": "stdout",
     "output_type": "stream",
     "text": [
      "[[1. 1. 1.]\n",
      " [1. 1. 1.]\n",
      " [1. 1. 1.]\n",
      " [1. 1. 1.]\n",
      " [1. 1. 1.]]\n",
      "shape (5, 3)\n",
      "size 15\n",
      "dimensi 2\n"
     ]
    }
   ],
   "source": [
    "a = np.ones((5,3))\n",
    "print(a)\n",
    "print(\"shape\", a.shape)\n",
    "print(\"size\", a.size)\n",
    "print(\"dimensi\", a.ndim)"
   ]
  },
  {
   "cell_type": "code",
   "execution_count": 58,
   "metadata": {},
   "outputs": [
    {
     "data": {
      "text/plain": [
       "array([[8., 8., 8.],\n",
       "       [8., 8., 8.],\n",
       "       [8., 8., 8.],\n",
       "       [8., 8., 8.],\n",
       "       [8., 8., 8.]])"
      ]
     },
     "execution_count": 58,
     "metadata": {},
     "output_type": "execute_result"
    }
   ],
   "source": [
    "a * 3 + 5"
   ]
  },
  {
   "cell_type": "code",
   "execution_count": 56,
   "metadata": {},
   "outputs": [
    {
     "name": "stdout",
     "output_type": "stream",
     "text": [
      "[[[1. 1.]\n",
      "  [1. 1.]\n",
      "  [1. 1.]]\n",
      "\n",
      " [[1. 1.]\n",
      "  [1. 1.]\n",
      "  [1. 1.]]\n",
      "\n",
      " [[1. 1.]\n",
      "  [1. 1.]\n",
      "  [1. 1.]]\n",
      "\n",
      " [[1. 1.]\n",
      "  [1. 1.]\n",
      "  [1. 1.]]\n",
      "\n",
      " [[1. 1.]\n",
      "  [1. 1.]\n",
      "  [1. 1.]]]\n",
      "shape (5, 3, 2)\n",
      "size 30\n",
      "dimensi 3\n"
     ]
    }
   ],
   "source": [
    "b = np.ones((5,3,2))\n",
    "print(b)\n",
    "print(\"shape\", b.shape)\n",
    "print(\"size\", b.size)\n",
    "print(\"dimensi\", b.ndim)"
   ]
  },
  {
   "cell_type": "code",
   "execution_count": 63,
   "metadata": {},
   "outputs": [
    {
     "name": "stdout",
     "output_type": "stream",
     "text": [
      "[[5. 5.]\n",
      " [5. 5.]\n",
      " [5. 5.]]\n",
      "[[3.]\n",
      " [3.]\n",
      " [3.]]\n",
      "[[8. 8.]\n",
      " [8. 8.]\n",
      " [8. 8.]]\n"
     ]
    }
   ],
   "source": [
    "# antara 2 array kalau ukuran sama, bisa di aritmatik juga\n",
    "a = np.ones((3,2)) * 5\n",
    "b = np.ones((3,1)) * 3\n",
    "\n",
    "print(a)\n",
    "print(b)\n",
    "print(a + b)"
   ]
  },
  {
   "cell_type": "markdown",
   "metadata": {},
   "source": [
    "### reshape\n",
    "setelah memahami shape, atau bentuk sebuah numpy array\n",
    "\n",
    "kita belajar tentang reshape, mengubah shape sebuah numpy array"
   ]
  },
  {
   "cell_type": "code",
   "execution_count": 71,
   "metadata": {},
   "outputs": [
    {
     "name": "stdout",
     "output_type": "stream",
     "text": [
      "[[0 1]\n",
      " [2 3]\n",
      " [4 5]]\n",
      "(3, 2)\n"
     ]
    }
   ],
   "source": [
    "a = np.arange(6).reshape((3,2))\n",
    "print(a)\n",
    "print(a.shape)"
   ]
  },
  {
   "cell_type": "code",
   "execution_count": 72,
   "metadata": {},
   "outputs": [
    {
     "name": "stdout",
     "output_type": "stream",
     "text": [
      "[0 1 2 3 4 5]\n",
      "(6,)\n"
     ]
    }
   ],
   "source": [
    "b = a.reshape(6)\n",
    "print(b)\n",
    "print(b.shape)"
   ]
  },
  {
   "cell_type": "code",
   "execution_count": 73,
   "metadata": {},
   "outputs": [
    {
     "name": "stdout",
     "output_type": "stream",
     "text": [
      "[[0 1 2]\n",
      " [3 4 5]]\n",
      "(2, 3)\n"
     ]
    }
   ],
   "source": [
    "b = a.reshape((2,3))\n",
    "print(b)\n",
    "print(b.shape)"
   ]
  },
  {
   "cell_type": "markdown",
   "metadata": {},
   "source": [
    "# aritmatik di numpy array\n",
    "antara dua numpy array, atau antara 1 numpy array dan sebuah angka, bisa kita lakukan proses aritmatik:\n",
    "- \\+ \\- \\* \\/ \\% \\**\n",
    "- np.sqrt (akar)"
   ]
  },
  {
   "cell_type": "code",
   "execution_count": 79,
   "metadata": {},
   "outputs": [
    {
     "name": "stdout",
     "output_type": "stream",
     "text": [
      "[[ 5  6  7]\n",
      " [ 8  9 10]]\n",
      "[[-10  -7  -4]\n",
      " [ -1   2   5]]\n"
     ]
    }
   ],
   "source": [
    "a = np.arange(5,11).reshape((2,3))\n",
    "print(a)\n",
    "\n",
    "b = np.arange(-10,8,3).reshape(2,3)\n",
    "print(b)"
   ]
  },
  {
   "cell_type": "code",
   "execution_count": 81,
   "metadata": {},
   "outputs": [
    {
     "name": "stdout",
     "output_type": "stream",
     "text": [
      "[[-5 -1  3]\n",
      " [ 7 11 15]]\n"
     ]
    }
   ],
   "source": [
    "print(a + b)"
   ]
  },
  {
   "cell_type": "code",
   "execution_count": 82,
   "metadata": {},
   "outputs": [
    {
     "name": "stdout",
     "output_type": "stream",
     "text": [
      "[[15 13 11]\n",
      " [ 9  7  5]]\n"
     ]
    }
   ],
   "source": [
    "print(a - b)"
   ]
  },
  {
   "cell_type": "code",
   "execution_count": 83,
   "metadata": {},
   "outputs": [
    {
     "name": "stdout",
     "output_type": "stream",
     "text": [
      "[[-50 -42 -28]\n",
      " [ -8  18  50]]\n"
     ]
    }
   ],
   "source": [
    "print(a * b)"
   ]
  },
  {
   "cell_type": "code",
   "execution_count": 84,
   "metadata": {},
   "outputs": [
    {
     "name": "stdout",
     "output_type": "stream",
     "text": [
      "[[-0.5        -0.85714286 -1.75      ]\n",
      " [-8.          4.5         2.        ]]\n"
     ]
    }
   ],
   "source": [
    "print(a / b)"
   ]
  },
  {
   "cell_type": "code",
   "execution_count": 85,
   "metadata": {},
   "outputs": [
    {
     "name": "stdout",
     "output_type": "stream",
     "text": [
      "[[-5 -1 -1]\n",
      " [ 0  1  0]]\n"
     ]
    }
   ],
   "source": [
    "print(a % b)"
   ]
  },
  {
   "cell_type": "code",
   "execution_count": 87,
   "metadata": {},
   "outputs": [
    {
     "name": "stdout",
     "output_type": "stream",
     "text": [
      "[[-100000  117649  -16384]\n",
      " [      1     512 9765625]]\n"
     ]
    }
   ],
   "source": [
    "print(b ** a)"
   ]
  },
  {
   "cell_type": "code",
   "execution_count": 88,
   "metadata": {},
   "outputs": [
    {
     "name": "stdout",
     "output_type": "stream",
     "text": [
      "[[-35 -31 -27]\n",
      " [-23 -19 -15]]\n"
     ]
    }
   ],
   "source": [
    "# dicampur antara array dan angka juga boleh\n",
    "print(a + b - 10 * 3)"
   ]
  },
  {
   "cell_type": "code",
   "execution_count": 89,
   "metadata": {},
   "outputs": [],
   "source": [
    "c = a + b - 10 * 3"
   ]
  },
  {
   "cell_type": "markdown",
   "metadata": {},
   "source": [
    "# read\n",
    "masih di read, kita belajar teknik membaca 1 atau banyak angka dalam sebuah numpy array\n",
    "- indexing, membaca 1 angka\n",
    "- slicing, membaca banyak angka"
   ]
  },
  {
   "cell_type": "code",
   "execution_count": 90,
   "metadata": {},
   "outputs": [
    {
     "name": "stdout",
     "output_type": "stream",
     "text": [
      "[[-35 -31 -27]\n",
      " [-23 -19 -15]]\n"
     ]
    }
   ],
   "source": [
    "print(c)"
   ]
  },
  {
   "cell_type": "code",
   "execution_count": 91,
   "metadata": {},
   "outputs": [
    {
     "data": {
      "text/plain": [
       "-35"
      ]
     },
     "execution_count": 91,
     "metadata": {},
     "output_type": "execute_result"
    }
   ],
   "source": [
    "# indexing, baca angka di baris pertama, kolom pertama\n",
    "# note, angka index dimulai dari 0\n",
    "c[0,0]\n",
    "\n",
    "# posisi dimensi 1, baris nya, adalah index 0\n",
    "# posisi dimensi 2, kolom nya, adalah index 0"
   ]
  },
  {
   "cell_type": "code",
   "execution_count": 92,
   "metadata": {},
   "outputs": [
    {
     "data": {
      "text/plain": [
       "-15"
      ]
     },
     "execution_count": 92,
     "metadata": {},
     "output_type": "execute_result"
    }
   ],
   "source": [
    "# indexing, ambil angka di baris kedua, kolom terakhir\n",
    "# baris kedua, index 1. kolom terakhir, index -1.\n",
    "c[1, -1]"
   ]
  },
  {
   "cell_type": "code",
   "execution_count": 93,
   "metadata": {},
   "outputs": [
    {
     "name": "stdout",
     "output_type": "stream",
     "text": [
      "[[-35 -31 -27]\n",
      " [-23 -19 -15]]\n"
     ]
    }
   ],
   "source": [
    "print(c)"
   ]
  },
  {
   "cell_type": "code",
   "execution_count": 94,
   "metadata": {},
   "outputs": [
    {
     "data": {
      "text/plain": [
       "array([-31, -19])"
      ]
     },
     "execution_count": 94,
     "metadata": {},
     "output_type": "execute_result"
    }
   ],
   "source": [
    "# slicing, kita mau ambil semua angka di kolom kedua\n",
    "# semua baris, all index untuk baris\n",
    "# kolom kedua, index 1\n",
    "c[:, 1]"
   ]
  },
  {
   "cell_type": "code",
   "execution_count": 95,
   "metadata": {},
   "outputs": [
    {
     "data": {
      "text/plain": [
       "array([[-31, -27],\n",
       "       [-19, -15]])"
      ]
     },
     "execution_count": 95,
     "metadata": {},
     "output_type": "execute_result"
    }
   ],
   "source": [
    "# slicing, kita mau ambil semua angka di kolom kedua dan ketiga\n",
    "# semua baris, all index untuk baris\n",
    "# kolom kedua dan ketiga, index 1 dan index 2, 1:3 (kolom 1 sampai 2)\n",
    "c[:, 1:3]"
   ]
  },
  {
   "cell_type": "code",
   "execution_count": 96,
   "metadata": {},
   "outputs": [
    {
     "data": {
      "text/plain": [
       "array([[-31, -27],\n",
       "       [-19, -15]])"
      ]
     },
     "execution_count": 96,
     "metadata": {},
     "output_type": "execute_result"
    }
   ],
   "source": [
    "# karena kebetulan kolom ketiga adalah kolom terakhir juga, kita juga bisa tulis seperti berikut\n",
    "# dari kolom kedua sampai kolom terakhir, 1:\n",
    "c[:, 1:]"
   ]
  },
  {
   "cell_type": "code",
   "execution_count": 101,
   "metadata": {},
   "outputs": [
    {
     "data": {
      "text/plain": [
       "array([-31, -19])"
      ]
     },
     "execution_count": 101,
     "metadata": {},
     "output_type": "execute_result"
    }
   ],
   "source": [
    "# kita bisa edit sebagian array kita\n",
    "c[:, 1]"
   ]
  },
  {
   "cell_type": "code",
   "execution_count": 103,
   "metadata": {},
   "outputs": [
    {
     "name": "stdout",
     "output_type": "stream",
     "text": [
      "[[-35 169 -27]\n",
      " [-23 181 -15]]\n"
     ]
    }
   ],
   "source": [
    "# misalkan mau nambah 100 ke kolom kedua\n",
    "# note: karena kita menimpa data awal c[:, 1] pastikan code ini hanya di run 1x\n",
    "\n",
    "c[:, 1] = c[:, 1] + 100\n",
    "\n",
    "print(c)"
   ]
  },
  {
   "cell_type": "markdown",
   "metadata": {},
   "source": [
    "## Query\n",
    "mengambil angka angka tertentu dari sebuah numpy array, menggunakan kondisi"
   ]
  },
  {
   "cell_type": "code",
   "execution_count": 104,
   "metadata": {},
   "outputs": [
    {
     "name": "stdout",
     "output_type": "stream",
     "text": [
      "[[-35 169 -27]\n",
      " [-23 181 -15]]\n"
     ]
    }
   ],
   "source": [
    "print(c)"
   ]
  },
  {
   "cell_type": "code",
   "execution_count": 105,
   "metadata": {},
   "outputs": [
    {
     "data": {
      "text/plain": [
       "array([[False,  True, False],\n",
       "       [False,  True, False]])"
      ]
     },
     "execution_count": 105,
     "metadata": {},
     "output_type": "execute_result"
    }
   ],
   "source": [
    "# ambil angka positif saja, >= 0\n",
    "c >= 0\n",
    "\n",
    "# array boolean seperti ini bisa kita gunakan sebagai index"
   ]
  },
  {
   "cell_type": "code",
   "execution_count": 106,
   "metadata": {},
   "outputs": [
    {
     "data": {
      "text/plain": [
       "array([169, 181])"
      ]
     },
     "execution_count": 106,
     "metadata": {},
     "output_type": "execute_result"
    }
   ],
   "source": [
    "kondisi = (c >= 0)\n",
    "\n",
    "c[kondisi]"
   ]
  },
  {
   "cell_type": "code",
   "execution_count": 107,
   "metadata": {},
   "outputs": [
    {
     "data": {
      "text/plain": [
       "array([169, 181])"
      ]
     },
     "execution_count": 107,
     "metadata": {},
     "output_type": "execute_result"
    }
   ],
   "source": [
    "# kondisinya tidak dimasukkan ke variable juga boleh\n",
    "c[(c >= 0)]"
   ]
  },
  {
   "cell_type": "code",
   "execution_count": 122,
   "metadata": {},
   "outputs": [
    {
     "data": {
      "text/plain": [
       "array([[6, 1, 3, 3, 3, 5, 2, 1, 5, 1, 6, 1, 5, 3, 6, 4, 3, 4, 2, 6, 5, 1,\n",
       "        5, 6, 4, 2, 4, 2, 5, 1, 5, 6, 2, 6, 1, 2, 3, 6, 5, 1, 6, 6, 2, 6,\n",
       "        5, 5, 2, 2, 1, 6, 4, 6, 3, 2, 1, 6, 2, 3, 4, 4, 2, 2, 6, 5, 2, 5,\n",
       "        1, 5, 6, 4, 3, 6, 6, 5, 3, 4, 3, 1, 6, 1, 6, 4, 2, 3, 1, 3, 2, 6,\n",
       "        5, 6, 5, 6, 2, 1, 5, 5, 1, 6, 6, 2],\n",
       "       [1, 1, 5, 2, 4, 1, 3, 1, 4, 1, 2, 1, 6, 3, 2, 3, 4, 1, 1, 6, 6, 1,\n",
       "        1, 1, 5, 3, 1, 3, 1, 3, 2, 3, 3, 2, 5, 4, 2, 2, 6, 5, 5, 6, 5, 5,\n",
       "        2, 4, 4, 5, 3, 1, 3, 3, 2, 5, 3, 6, 6, 4, 6, 4, 3, 1, 5, 3, 3, 3,\n",
       "        3, 5, 6, 5, 4, 5, 6, 5, 4, 1, 5, 4, 5, 5, 3, 3, 2, 6, 5, 6, 1, 6,\n",
       "        1, 2, 5, 4, 6, 5, 3, 6, 1, 2, 2, 6],\n",
       "       [4, 3, 3, 5, 4, 4, 5, 3, 2, 5, 5, 2, 3, 4, 2, 2, 1, 3, 6, 6, 3, 3,\n",
       "        2, 3, 5, 5, 2, 2, 2, 2, 2, 1, 5, 1, 5, 2, 5, 5, 2, 3, 3, 4, 6, 3,\n",
       "        2, 1, 2, 1, 5, 3, 2, 3, 3, 3, 4, 5, 1, 5, 4, 2, 3, 1, 2, 4, 5, 6,\n",
       "        1, 1, 3, 6, 2, 6, 1, 2, 2, 4, 4, 2, 1, 3, 5, 4, 4, 3, 1, 3, 1, 2,\n",
       "        4, 2, 6, 5, 5, 1, 5, 1, 3, 4, 5, 2]])"
      ]
     },
     "execution_count": 122,
     "metadata": {},
     "output_type": "execute_result"
    }
   ],
   "source": [
    "# contoh, ada 3 orang yang lempar dadu 100x masing2\n",
    "# data jadi 3 baris 100 kolom hasil angka 1-6\n",
    "\n",
    "arr_dadu = (np.random.random(300) * 6 + 1).astype(int)\n",
    "arr_dadu = arr_dadu.reshape((3, 100))\n",
    "arr_dadu"
   ]
  },
  {
   "cell_type": "code",
   "execution_count": 123,
   "metadata": {},
   "outputs": [
    {
     "name": "stdout",
     "output_type": "stream",
     "text": [
      "[6 6 6 6 6 6 6 6 6 6 6 6 6 6 6 6 6 6 6 6 6 6 6 6 6 6 6 6 6 6 6 6 6 6 6 6 6\n",
      " 6 6 6 6 6 6 6 6 6 6 6]\n",
      "48\n"
     ]
    }
   ],
   "source": [
    "# yang nilai nya 6 ada berapa kali?\n",
    "# operator komparator > < >= <= == !=\n",
    "kondisi = (arr_dadu == 6)\n",
    "print(arr_dadu[kondisi]) # memastikan array baru isinya 6 semua\n",
    "print(arr_dadu[kondisi].size) # menghitung ukuran array baru\n",
    "\n",
    "# kita mendapat hasil kalau ada 48 angka di array yang kondisinya angka harus \"6\""
   ]
  },
  {
   "cell_type": "code",
   "execution_count": 124,
   "metadata": {},
   "outputs": [
    {
     "name": "stdout",
     "output_type": "stream",
     "text": [
      "orang pertama 25 kali dapat angka 6\n",
      "orang kedua 16 kali dapat angka 6\n",
      "orang ketiga 7 kali dapat angka 6\n"
     ]
    }
   ],
   "source": [
    "# masing-masing orang tersebut ada berapa kali lempar angka 6?\n",
    "# array termasuk koleksi, kita minta bantuan loop for\n",
    "\n",
    "hasil = []\n",
    "for row in arr_dadu:\n",
    "    # print(row)\n",
    "    # print(row[row==6])\n",
    "    hasil.append(row[row==6].size)\n",
    "\n",
    "print(\"orang pertama\", hasil[0], \"kali dapat angka 6\")\n",
    "print(\"orang kedua\", hasil[1], \"kali dapat angka 6\")\n",
    "print(\"orang ketiga\", hasil[2], \"kali dapat angka 6\")"
   ]
  },
  {
   "cell_type": "markdown",
   "metadata": {},
   "source": [
    "# stack, split, copy\n",
    "ada beberapa function bawaan numpy yang bisa kita gunakan untuk:\n",
    "- stack -- menggabungkan beberapa numpy array jadi satu\n",
    "    - hstack -- gabungin kiri ke kanan, horizontal\n",
    "    - vstack -- gabungin atas ke bawah, vertical\n",
    "- split -- memisahkan sebuah numpy array menjadi beberapa bagian yang sama besarnya\n",
    "    - hsplit -- horizontal split\n",
    "    - vsplit -- vertical split\n",
    "- copy -- membuat copy dari numpy array\n",
    "    - view -- shallow copy, copyan secara reference, kayak kasih nickname, 1 diubah, kopiannya ikut berubah juga\n",
    "    - copy -- deep copy, copyan secara value, kayak membuat array baru yang isinya sama"
   ]
  },
  {
   "cell_type": "code",
   "execution_count": 125,
   "metadata": {},
   "outputs": [
    {
     "name": "stdout",
     "output_type": "stream",
     "text": [
      "[[ 5  6  7]\n",
      " [ 8  9 10]]\n",
      "[[-10  -7  -4]\n",
      " [ -1   2   5]]\n"
     ]
    }
   ],
   "source": [
    "print(a)\n",
    "print(b)"
   ]
  },
  {
   "cell_type": "code",
   "execution_count": 127,
   "metadata": {},
   "outputs": [
    {
     "data": {
      "text/plain": [
       "array([[  5,   6,   7, -10,  -7,  -4],\n",
       "       [  8,   9,  10,  -1,   2,   5]])"
      ]
     },
     "execution_count": 127,
     "metadata": {},
     "output_type": "execute_result"
    }
   ],
   "source": [
    "# hstack\n",
    "np.hstack((a,b))"
   ]
  },
  {
   "cell_type": "code",
   "execution_count": 128,
   "metadata": {},
   "outputs": [
    {
     "name": "stdout",
     "output_type": "stream",
     "text": [
      "[[10]\n",
      " [20]]\n"
     ]
    }
   ],
   "source": [
    "c = np.array([[10],[20]])\n",
    "print(c)"
   ]
  },
  {
   "cell_type": "code",
   "execution_count": 130,
   "metadata": {},
   "outputs": [
    {
     "data": {
      "text/plain": [
       "array([[  5,   6,   7, -10,  -7,  -4,  10,  10,  10,  10,  10],\n",
       "       [  8,   9,  10,  -1,   2,   5,  20,  20,  20,  20,  20]])"
      ]
     },
     "execution_count": 130,
     "metadata": {},
     "output_type": "execute_result"
    }
   ],
   "source": [
    "# tumpukin bbrp kali juga boleh\n",
    "# hstack --> jumlah baris harus sama, kolom beda gpp\n",
    "np.hstack((a,b,c,c,c,c,c))"
   ]
  },
  {
   "cell_type": "code",
   "execution_count": 131,
   "metadata": {},
   "outputs": [
    {
     "data": {
      "text/plain": [
       "array([[  5,   6,   7],\n",
       "       [  8,   9,  10],\n",
       "       [-10,  -7,  -4],\n",
       "       [ -1,   2,   5]])"
      ]
     },
     "execution_count": 131,
     "metadata": {},
     "output_type": "execute_result"
    }
   ],
   "source": [
    "# vstack\n",
    "np.vstack((a,b))"
   ]
  },
  {
   "cell_type": "code",
   "execution_count": 132,
   "metadata": {},
   "outputs": [
    {
     "name": "stdout",
     "output_type": "stream",
     "text": [
      "[[10 20 30]]\n"
     ]
    }
   ],
   "source": [
    "c = np.array([[10,20,30]])\n",
    "print(c)"
   ]
  },
  {
   "cell_type": "code",
   "execution_count": 135,
   "metadata": {},
   "outputs": [
    {
     "data": {
      "text/plain": [
       "array([[ 10,  20,  30],\n",
       "       [  5,   6,   7],\n",
       "       [  8,   9,  10],\n",
       "       [-10,  -7,  -4],\n",
       "       [ -1,   2,   5],\n",
       "       [ 10,  20,  30]])"
      ]
     },
     "execution_count": 135,
     "metadata": {},
     "output_type": "execute_result"
    }
   ],
   "source": [
    "# tumpukin bbrp kali juga boleh\n",
    "# vstack --> jumlah kolom harus sama, baris beda gpp\n",
    "np.vstack((c,a,b,c))"
   ]
  },
  {
   "cell_type": "markdown",
   "metadata": {},
   "source": [
    "numpy array harus dibuat dengan bentuk yang full, yang pas, tidak bolong bolong. jumlah kolom di setiap baris harus sama."
   ]
  },
  {
   "cell_type": "code",
   "execution_count": 136,
   "metadata": {},
   "outputs": [
    {
     "name": "stderr",
     "output_type": "stream",
     "text": [
      "C:\\Users\\stefa\\AppData\\Local\\Temp\\ipykernel_17324\\2261630847.py:1: VisibleDeprecationWarning: Creating an ndarray from ragged nested sequences (which is a list-or-tuple of lists-or-tuples-or ndarrays with different lengths or shapes) is deprecated. If you meant to do this, you must specify 'dtype=object' when creating the ndarray.\n",
      "  np.array([[1],[2,3],[4,5,6]])\n"
     ]
    },
    {
     "data": {
      "text/plain": [
       "array([list([1]), list([2, 3]), list([4, 5, 6])], dtype=object)"
      ]
     },
     "execution_count": 136,
     "metadata": {},
     "output_type": "execute_result"
    }
   ],
   "source": [
    "np.array([[1],[2,3],[4,5,6]])"
   ]
  },
  {
   "cell_type": "code",
   "execution_count": 138,
   "metadata": {},
   "outputs": [
    {
     "data": {
      "text/plain": [
       "array([[ 1., nan, nan],\n",
       "       [ 2.,  3., nan],\n",
       "       [ 4.,  5.,  6.]])"
      ]
     },
     "execution_count": 138,
     "metadata": {},
     "output_type": "execute_result"
    }
   ],
   "source": [
    "# kalau mau bolong bolong datanya, pastika diisi \"np.nan\" nan atau missing value\n",
    "np.array([[1,np.nan,np.nan],[2,3,np.nan],[4,5,6]])"
   ]
  },
  {
   "cell_type": "code",
   "execution_count": 140,
   "metadata": {},
   "outputs": [
    {
     "name": "stdout",
     "output_type": "stream",
     "text": [
      "(6, 3)\n",
      "[[  5   6   7]\n",
      " [  8   9  10]\n",
      " [-10  -7  -4]\n",
      " [ -1   2   5]\n",
      " [ 10  20  30]\n",
      " [ 10  20  30]]\n"
     ]
    }
   ],
   "source": [
    "\n",
    "\n",
    "d = np.vstack((a,b,c,c))\n",
    "print(d.shape)\n",
    "print(d)"
   ]
  },
  {
   "cell_type": "code",
   "execution_count": 141,
   "metadata": {},
   "outputs": [
    {
     "data": {
      "text/plain": [
       "[array([[ 5,  6,  7],\n",
       "        [ 8,  9, 10]]),\n",
       " array([[-10,  -7,  -4],\n",
       "        [ -1,   2,   5]]),\n",
       " array([[10, 20, 30],\n",
       "        [10, 20, 30]])]"
      ]
     },
     "execution_count": 141,
     "metadata": {},
     "output_type": "execute_result"
    }
   ],
   "source": [
    "# vsplit, split array nya secara vertical\n",
    "np.vsplit(d, 3)\n",
    "\n",
    "# 6 dibagi 3 dapat 2 baris per bagian yang dipisah"
   ]
  },
  {
   "cell_type": "code",
   "execution_count": 142,
   "metadata": {},
   "outputs": [
    {
     "ename": "ValueError",
     "evalue": "array split does not result in an equal division",
     "output_type": "error",
     "traceback": [
      "\u001b[1;31m---------------------------------------------------------------------------\u001b[0m",
      "\u001b[1;31mValueError\u001b[0m                                Traceback (most recent call last)",
      "\u001b[1;32mc:\\Users\\stefa\\hacktiv\\PYTN\\83\\sesi4\\sesi4-numpy.ipynb Cell 84\u001b[0m in \u001b[0;36m<cell line: 2>\u001b[1;34m()\u001b[0m\n\u001b[0;32m      <a href='vscode-notebook-cell:/c%3A/Users/stefa/hacktiv/PYTN/83/sesi4/sesi4-numpy.ipynb#Y154sZmlsZQ%3D%3D?line=0'>1</a>\u001b[0m \u001b[39m# kalau baginya gak pas, dia gk mau\u001b[39;00m\n\u001b[1;32m----> <a href='vscode-notebook-cell:/c%3A/Users/stefa/hacktiv/PYTN/83/sesi4/sesi4-numpy.ipynb#Y154sZmlsZQ%3D%3D?line=1'>2</a>\u001b[0m np\u001b[39m.\u001b[39;49mvsplit(d, \u001b[39m4\u001b[39;49m)\n",
      "File \u001b[1;32m<__array_function__ internals>:5\u001b[0m, in \u001b[0;36mvsplit\u001b[1;34m(*args, **kwargs)\u001b[0m\n",
      "File \u001b[1;32mc:\\Users\\stefa\\anaconda3\\lib\\site-packages\\numpy\\lib\\shape_base.py:991\u001b[0m, in \u001b[0;36mvsplit\u001b[1;34m(ary, indices_or_sections)\u001b[0m\n\u001b[0;32m    989\u001b[0m \u001b[39mif\u001b[39;00m _nx\u001b[39m.\u001b[39mndim(ary) \u001b[39m<\u001b[39m \u001b[39m2\u001b[39m:\n\u001b[0;32m    990\u001b[0m     \u001b[39mraise\u001b[39;00m \u001b[39mValueError\u001b[39;00m(\u001b[39m'\u001b[39m\u001b[39mvsplit only works on arrays of 2 or more dimensions\u001b[39m\u001b[39m'\u001b[39m)\n\u001b[1;32m--> 991\u001b[0m \u001b[39mreturn\u001b[39;00m split(ary, indices_or_sections, \u001b[39m0\u001b[39;49m)\n",
      "File \u001b[1;32m<__array_function__ internals>:5\u001b[0m, in \u001b[0;36msplit\u001b[1;34m(*args, **kwargs)\u001b[0m\n",
      "File \u001b[1;32mc:\\Users\\stefa\\anaconda3\\lib\\site-packages\\numpy\\lib\\shape_base.py:872\u001b[0m, in \u001b[0;36msplit\u001b[1;34m(ary, indices_or_sections, axis)\u001b[0m\n\u001b[0;32m    870\u001b[0m     N \u001b[39m=\u001b[39m ary\u001b[39m.\u001b[39mshape[axis]\n\u001b[0;32m    871\u001b[0m     \u001b[39mif\u001b[39;00m N \u001b[39m%\u001b[39m sections:\n\u001b[1;32m--> 872\u001b[0m         \u001b[39mraise\u001b[39;00m \u001b[39mValueError\u001b[39;00m(\n\u001b[0;32m    873\u001b[0m             \u001b[39m'\u001b[39m\u001b[39marray split does not result in an equal division\u001b[39m\u001b[39m'\u001b[39m) \u001b[39mfrom\u001b[39;00m \u001b[39mNone\u001b[39m\n\u001b[0;32m    874\u001b[0m \u001b[39mreturn\u001b[39;00m array_split(ary, indices_or_sections, axis)\n",
      "\u001b[1;31mValueError\u001b[0m: array split does not result in an equal division"
     ]
    }
   ],
   "source": [
    "# kalau baginya gak pas, dia gk mau\n",
    "np.vsplit(d, 4)"
   ]
  },
  {
   "cell_type": "code",
   "execution_count": 143,
   "metadata": {},
   "outputs": [
    {
     "data": {
      "text/plain": [
       "[array([[  5,   6,   7],\n",
       "        [  8,   9,  10],\n",
       "        [-10,  -7,  -4]]),\n",
       " array([[-1,  2,  5],\n",
       "        [10, 20, 30],\n",
       "        [10, 20, 30]])]"
      ]
     },
     "execution_count": 143,
     "metadata": {},
     "output_type": "execute_result"
    }
   ],
   "source": [
    "np.vsplit(d, 2)"
   ]
  },
  {
   "cell_type": "code",
   "execution_count": 144,
   "metadata": {},
   "outputs": [
    {
     "data": {
      "text/plain": [
       "[array([[ 5,  6,  7],\n",
       "        [ 8,  9, 10]]),\n",
       " array([[-10,  -7,  -4],\n",
       "        [ -1,   2,   5]]),\n",
       " array([[10, 20, 30],\n",
       "        [10, 20, 30]])]"
      ]
     },
     "execution_count": 144,
     "metadata": {},
     "output_type": "execute_result"
    }
   ],
   "source": [
    "np.vsplit(d, 3)"
   ]
  },
  {
   "cell_type": "code",
   "execution_count": 145,
   "metadata": {},
   "outputs": [
    {
     "data": {
      "text/plain": [
       "[array([[5, 6, 7]]),\n",
       " array([[ 8,  9, 10]]),\n",
       " array([[-10,  -7,  -4]]),\n",
       " array([[-1,  2,  5]]),\n",
       " array([[10, 20, 30]]),\n",
       " array([[10, 20, 30]])]"
      ]
     },
     "execution_count": 145,
     "metadata": {},
     "output_type": "execute_result"
    }
   ],
   "source": [
    "np.vsplit(d, 6)"
   ]
  },
  {
   "cell_type": "code",
   "execution_count": 146,
   "metadata": {},
   "outputs": [
    {
     "name": "stdout",
     "output_type": "stream",
     "text": [
      "[[ 5  6  7]\n",
      " [ 8  9 10]]\n"
     ]
    }
   ],
   "source": [
    "# kisa bisa langsung masukin setiap bagian ke variable\n",
    "d1,d2,d3 = np.vsplit(d, 3)\n",
    "\n",
    "print(d1)"
   ]
  },
  {
   "cell_type": "code",
   "execution_count": 147,
   "metadata": {},
   "outputs": [
    {
     "name": "stdout",
     "output_type": "stream",
     "text": [
      "[[ 5  6  7]\n",
      " [ 8  9 10]]\n"
     ]
    }
   ],
   "source": [
    "# hsplit\n",
    "print(a)"
   ]
  },
  {
   "cell_type": "code",
   "execution_count": 148,
   "metadata": {},
   "outputs": [
    {
     "name": "stdout",
     "output_type": "stream",
     "text": [
      "[[5]\n",
      " [8]]\n"
     ]
    }
   ],
   "source": [
    "a1,a2,a3 = np.hsplit(a,3)\n",
    "\n",
    "print(a1)"
   ]
  },
  {
   "cell_type": "code",
   "execution_count": 149,
   "metadata": {},
   "outputs": [
    {
     "name": "stdout",
     "output_type": "stream",
     "text": [
      "[[6]\n",
      " [9]]\n"
     ]
    }
   ],
   "source": [
    "print(a2)"
   ]
  },
  {
   "cell_type": "code",
   "execution_count": 150,
   "metadata": {},
   "outputs": [
    {
     "name": "stdout",
     "output_type": "stream",
     "text": [
      "[[ 7]\n",
      " [10]]\n"
     ]
    }
   ],
   "source": [
    "print(a3)"
   ]
  },
  {
   "cell_type": "code",
   "execution_count": 153,
   "metadata": {},
   "outputs": [
    {
     "name": "stdout",
     "output_type": "stream",
     "text": [
      "[[ 5  6  7]\n",
      " [ 8  9 10]]\n",
      "[[ 5  6  7]\n",
      " [ 8  9 10]]\n",
      "[[ 5  6  7]\n",
      " [ 8  9 10]]\n"
     ]
    }
   ],
   "source": [
    "# view dan copy\n",
    "# view, shallow copy, copy by reference, kasih nama lain ke data yang sama\n",
    "print(a)\n",
    "\n",
    "a_view = a.view()\n",
    "print(a_view)\n",
    "\n",
    "a_copy = a.copy()\n",
    "print(a_copy)"
   ]
  },
  {
   "cell_type": "code",
   "execution_count": 154,
   "metadata": {},
   "outputs": [
    {
     "name": "stdout",
     "output_type": "stream",
     "text": [
      "[[100   6   7]\n",
      " [  8   9  10]]\n",
      "[[100   6   7]\n",
      " [  8   9  10]]\n",
      "[[ 5  6  7]\n",
      " [ 8  9 10]]\n"
     ]
    }
   ],
   "source": [
    "# kalau kita ganti a, a_view ikut berubah, a_copy tidak\n",
    "a[0,0] = 100\n",
    "print(a)\n",
    "print(a_view)\n",
    "\n",
    "print(a_copy)"
   ]
  },
  {
   "cell_type": "code",
   "execution_count": 156,
   "metadata": {},
   "outputs": [
    {
     "name": "stdout",
     "output_type": "stream",
     "text": [
      "[[-5  6  7]\n",
      " [ 8  9 10]]\n",
      "[[-5  6  7]\n",
      " [ 8  9 10]]\n",
      "[[ 5  6  7]\n",
      " [ 8  9 10]]\n"
     ]
    }
   ],
   "source": [
    "# kalau kita ganti a_view, a ikut berubah, a_copy tidak\n",
    "a_view[0,0] = -5\n",
    "print(a)\n",
    "print(a_view)\n",
    "\n",
    "print(a_copy)"
   ]
  },
  {
   "cell_type": "code",
   "execution_count": 157,
   "metadata": {},
   "outputs": [
    {
     "name": "stdout",
     "output_type": "stream",
     "text": [
      "[10 20 30]\n"
     ]
    }
   ],
   "source": [
    "arr = np.array([10,20,30])\n",
    "\n",
    "v = arr.view()\n",
    "\n",
    "print(arr)"
   ]
  },
  {
   "cell_type": "code",
   "execution_count": 159,
   "metadata": {},
   "outputs": [
    {
     "name": "stdout",
     "output_type": "stream",
     "text": [
      "[-10  20  30]\n"
     ]
    }
   ],
   "source": [
    "# ubah arr, v ikut2an berubah\n",
    "# ubah v, arr ikut2an berubah\n",
    "v[0] = -10\n",
    "\n",
    "print(arr)"
   ]
  },
  {
   "cell_type": "code",
   "execution_count": 160,
   "metadata": {},
   "outputs": [
    {
     "name": "stdout",
     "output_type": "stream",
     "text": [
      "[-10  20  30]\n"
     ]
    }
   ],
   "source": [
    "# lebih umum kita pakai copy, hasil copynya tidak berubah ikut2an data awal\n",
    "print(arr)"
   ]
  },
  {
   "cell_type": "code",
   "execution_count": 161,
   "metadata": {},
   "outputs": [
    {
     "name": "stdout",
     "output_type": "stream",
     "text": [
      "[-10  20  30]\n"
     ]
    }
   ],
   "source": [
    "c = arr.copy()\n",
    "\n",
    "arr[0] = 100\n",
    "\n",
    "print(c)"
   ]
  },
  {
   "cell_type": "code",
   "execution_count": 162,
   "metadata": {},
   "outputs": [
    {
     "name": "stdout",
     "output_type": "stream",
     "text": [
      "[100  20  30]\n"
     ]
    }
   ],
   "source": [
    "print(arr)"
   ]
  },
  {
   "cell_type": "markdown",
   "metadata": {},
   "source": [
    "menggunakan view, data hasil kopi dan data awal masih terhubung\n",
    "\n",
    "menggunakan copy, data kasil kopi dan data awal sudah tidak punya hubungan"
   ]
  },
  {
   "cell_type": "code",
   "execution_count": 167,
   "metadata": {},
   "outputs": [
    {
     "name": "stdout",
     "output_type": "stream",
     "text": [
      "[] <class 'numpy.ndarray'>\n",
      "False\n"
     ]
    }
   ],
   "source": [
    "# delete numpy array\n",
    "# cara umumnya, kita set ke numpy array kosong, atau ke None\n",
    "\n",
    "a = np.array([])\n",
    "print(a, type(a))\n",
    "print(bool(a.size))"
   ]
  },
  {
   "cell_type": "markdown",
   "metadata": {},
   "source": [
    "# Aggregation\n",
    "menggunakan teknik dari numpy untuk menghitung angka agregasi (sum, mean, min, max, dll)"
   ]
  },
  {
   "cell_type": "code",
   "execution_count": 168,
   "metadata": {},
   "outputs": [
    {
     "data": {
      "text/plain": [
       "array([[6, 1, 3, 3, 3, 5, 2, 1, 5, 1, 6, 1, 5, 3, 6, 4, 3, 4, 2, 6, 5, 1,\n",
       "        5, 6, 4, 2, 4, 2, 5, 1, 5, 6, 2, 6, 1, 2, 3, 6, 5, 1, 6, 6, 2, 6,\n",
       "        5, 5, 2, 2, 1, 6, 4, 6, 3, 2, 1, 6, 2, 3, 4, 4, 2, 2, 6, 5, 2, 5,\n",
       "        1, 5, 6, 4, 3, 6, 6, 5, 3, 4, 3, 1, 6, 1, 6, 4, 2, 3, 1, 3, 2, 6,\n",
       "        5, 6, 5, 6, 2, 1, 5, 5, 1, 6, 6, 2],\n",
       "       [1, 1, 5, 2, 4, 1, 3, 1, 4, 1, 2, 1, 6, 3, 2, 3, 4, 1, 1, 6, 6, 1,\n",
       "        1, 1, 5, 3, 1, 3, 1, 3, 2, 3, 3, 2, 5, 4, 2, 2, 6, 5, 5, 6, 5, 5,\n",
       "        2, 4, 4, 5, 3, 1, 3, 3, 2, 5, 3, 6, 6, 4, 6, 4, 3, 1, 5, 3, 3, 3,\n",
       "        3, 5, 6, 5, 4, 5, 6, 5, 4, 1, 5, 4, 5, 5, 3, 3, 2, 6, 5, 6, 1, 6,\n",
       "        1, 2, 5, 4, 6, 5, 3, 6, 1, 2, 2, 6],\n",
       "       [4, 3, 3, 5, 4, 4, 5, 3, 2, 5, 5, 2, 3, 4, 2, 2, 1, 3, 6, 6, 3, 3,\n",
       "        2, 3, 5, 5, 2, 2, 2, 2, 2, 1, 5, 1, 5, 2, 5, 5, 2, 3, 3, 4, 6, 3,\n",
       "        2, 1, 2, 1, 5, 3, 2, 3, 3, 3, 4, 5, 1, 5, 4, 2, 3, 1, 2, 4, 5, 6,\n",
       "        1, 1, 3, 6, 2, 6, 1, 2, 2, 4, 4, 2, 1, 3, 5, 4, 4, 3, 1, 3, 1, 2,\n",
       "        4, 2, 6, 5, 5, 1, 5, 1, 3, 4, 5, 2]])"
      ]
     },
     "execution_count": 168,
     "metadata": {},
     "output_type": "execute_result"
    }
   ],
   "source": [
    "# ambil data lempar dadu tadi\n",
    "print(arr_dadu)"
   ]
  },
  {
   "cell_type": "code",
   "execution_count": 170,
   "metadata": {},
   "outputs": [
    {
     "name": "stdout",
     "output_type": "stream",
     "text": [
      "total nilai yang didapat\n"
     ]
    },
    {
     "data": {
      "text/plain": [
       "1039"
      ]
     },
     "execution_count": 170,
     "metadata": {},
     "output_type": "execute_result"
    }
   ],
   "source": [
    "# anggap kita mau cari tau: \n",
    "# - total nilai yang didapat\n",
    "# - total nilai yang didapat per orang\n",
    "# - selain total, rata2, min, max juga bisa\n",
    "\n",
    "print(\"total nilai yang didapat\")\n",
    "arr_dadu.sum()"
   ]
  },
  {
   "cell_type": "code",
   "execution_count": 172,
   "metadata": {},
   "outputs": [
    {
     "name": "stdout",
     "output_type": "stream",
     "text": [
      "total nilai yang didapat per orang\n"
     ]
    },
    {
     "data": {
      "text/plain": [
       "array([371, 349, 319])"
      ]
     },
     "execution_count": 172,
     "metadata": {},
     "output_type": "execute_result"
    }
   ],
   "source": [
    "print(\"total nilai yang didapat per orang\")\n",
    "arr_dadu.sum(axis=1)"
   ]
  },
  {
   "cell_type": "code",
   "execution_count": 173,
   "metadata": {},
   "outputs": [
    {
     "name": "stdout",
     "output_type": "stream",
     "text": [
      "rata2, min, max nilai yang didapat\n",
      "3.4633333333333334 1 6\n"
     ]
    }
   ],
   "source": [
    "print(\"rata2, min, max nilai yang didapat\")\n",
    "print(arr_dadu.mean(), arr_dadu.min(), arr_dadu.max())"
   ]
  },
  {
   "cell_type": "code",
   "execution_count": 174,
   "metadata": {},
   "outputs": [
    {
     "name": "stdout",
     "output_type": "stream",
     "text": [
      "rata2, min, max nilai yang didapat per orang\n",
      "[3.71 3.49 3.19] [1 1 1] [6 6 6]\n"
     ]
    }
   ],
   "source": [
    "print(\"rata2, min, max nilai yang didapat per orang\")\n",
    "print(arr_dadu.mean(axis=1), arr_dadu.min(axis=1), arr_dadu.max(axis=1))"
   ]
  },
  {
   "cell_type": "markdown",
   "metadata": {},
   "source": [
    "# Matrix\n",
    "\n",
    "\"vector\" -- numpy array 2 dimensi yang cuma punya 1 baris, atau cuma punya 1 kolom\n",
    "\n",
    "\"matrix\" -- numpy array 2 dimensi\n",
    "\n",
    " matrix dot product"
   ]
  },
  {
   "cell_type": "code",
   "execution_count": 178,
   "metadata": {},
   "outputs": [
    {
     "name": "stdout",
     "output_type": "stream",
     "text": [
      "vector\n",
      "[1 2 3] (3,) 1\n",
      "\n",
      "matrix\n",
      "[[1 2]\n",
      " [3 4]\n",
      " [5 6]] (3, 2) 2\n"
     ]
    }
   ],
   "source": [
    "a = np.array([[1,2,3]])\n",
    "b = np.array([[1,2],[3,4],[5,6]])\n",
    "\n",
    "print(\"vector - cuma punya 1 baris, atau cuma punya 1 kolom\")\n",
    "print(a, a.shape, a.ndim)\n",
    "print()\n",
    "print(\"matrix\")\n",
    "print(b, b.shape, b.ndim)"
   ]
  },
  {
   "cell_type": "markdown",
   "metadata": {},
   "source": [
    "# Dot Product\n",
    "web ini ada gambar step by step cara menghitung dot product https://www.mathsisfun.com/algebra/matrix-multiplying.html"
   ]
  },
  {
   "cell_type": "code",
   "execution_count": 179,
   "metadata": {},
   "outputs": [
    {
     "name": "stdout",
     "output_type": "stream",
     "text": [
      "[[2500 3000]]\n",
      "[[ 5 10  7]\n",
      " [12 11 20]]\n"
     ]
    }
   ],
   "source": [
    "profit = np.array([[2500,3000]])\n",
    "\n",
    "jumlah = np.array([[5,10,7],[12,11,20]])\n",
    "\n",
    "print(profit)\n",
    "print(jumlah)"
   ]
  },
  {
   "cell_type": "code",
   "execution_count": 180,
   "metadata": {},
   "outputs": [
    {
     "data": {
      "text/plain": [
       "array([[48500, 58000, 77500]])"
      ]
     },
     "execution_count": 180,
     "metadata": {},
     "output_type": "execute_result"
    }
   ],
   "source": [
    "# hitung dot product\n",
    "profit.dot(jumlah)"
   ]
  },
  {
   "cell_type": "markdown",
   "metadata": {},
   "source": [
    "hasil hitung profit senin, selasa, rabu adalah 48500, 58000, 77500.\n",
    "\n",
    "senin - 48500, selasa - 58000, rabu - 77500"
   ]
  },
  {
   "cell_type": "code",
   "execution_count": 181,
   "metadata": {},
   "outputs": [
    {
     "data": {
      "text/plain": [
       "184000"
      ]
     },
     "execution_count": 181,
     "metadata": {},
     "output_type": "execute_result"
    }
   ],
   "source": [
    "# kalau mau total profit keseluruhan\n",
    "profit.dot(jumlah).sum()"
   ]
  },
  {
   "cell_type": "markdown",
   "metadata": {},
   "source": [
    "# Transpose\n",
    "yang tadinya teman sekolom jadi teman sebaris, vice versa"
   ]
  },
  {
   "cell_type": "code",
   "execution_count": 182,
   "metadata": {},
   "outputs": [
    {
     "name": "stdout",
     "output_type": "stream",
     "text": [
      "[[ 5 10  7]\n",
      " [12 11 20]]\n"
     ]
    }
   ],
   "source": [
    "print(jumlah)"
   ]
  },
  {
   "cell_type": "code",
   "execution_count": 185,
   "metadata": {},
   "outputs": [
    {
     "data": {
      "text/plain": [
       "array([[ 5, 10],\n",
       "       [ 7, 12],\n",
       "       [11, 20]])"
      ]
     },
     "execution_count": 185,
     "metadata": {},
     "output_type": "execute_result"
    }
   ],
   "source": [
    "# kalau pakai reshape, datanya melupakan temannya\n",
    "jumlah.reshape((3,2))"
   ]
  },
  {
   "cell_type": "markdown",
   "metadata": {},
   "source": [
    "reshape hanya memastikan bentuk ukuran berubah, angka2nya sendiri dia isi urut aja kiri ke kanan, atas ke bawah"
   ]
  },
  {
   "cell_type": "code",
   "execution_count": 186,
   "metadata": {},
   "outputs": [
    {
     "data": {
      "text/plain": [
       "array([[ 5, 12],\n",
       "       [10, 11],\n",
       "       [ 7, 20]])"
      ]
     },
     "execution_count": 186,
     "metadata": {},
     "output_type": "execute_result"
    }
   ],
   "source": [
    "# untuk transpose, dia memastikan yang tadinya sebaris sekarang jadi sekolom\n",
    "jumlah.T"
   ]
  },
  {
   "cell_type": "markdown",
   "metadata": {},
   "source": [
    "untuk data yang ada hubungannya, sebaris data ada hubungan, jika bentuk mau diubah kita pakai transpose bukan reshape"
   ]
  },
  {
   "cell_type": "code",
   "execution_count": null,
   "metadata": {},
   "outputs": [],
   "source": []
  }
 ],
 "metadata": {
  "kernelspec": {
   "display_name": "Python 3.9.7 ('base')",
   "language": "python",
   "name": "python3"
  },
  "language_info": {
   "codemirror_mode": {
    "name": "ipython",
    "version": 3
   },
   "file_extension": ".py",
   "mimetype": "text/x-python",
   "name": "python",
   "nbconvert_exporter": "python",
   "pygments_lexer": "ipython3",
   "version": "3.9.7"
  },
  "orig_nbformat": 4,
  "vscode": {
   "interpreter": {
    "hash": "4f523f7c76dd18e7ed336217f32f6f704c23c323644912475b9d3570cf04b060"
   }
  }
 },
 "nbformat": 4,
 "nbformat_minor": 2
}
